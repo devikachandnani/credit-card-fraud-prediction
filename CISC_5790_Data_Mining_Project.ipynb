{
  "cells": [
    {
      "cell_type": "markdown",
      "metadata": {
        "id": "view-in-github",
        "colab_type": "text"
      },
      "source": [
        "<a href=\"https://colab.research.google.com/github/devikachandnani/credit-card-fraud-prediction/blob/main/CISC_5790_Data_Mining_Project.ipynb\" target=\"_parent\"><img src=\"https://colab.research.google.com/assets/colab-badge.svg\" alt=\"Open In Colab\"/></a>"
      ]
    },
    {
      "cell_type": "code",
      "execution_count": null,
      "metadata": {
        "colab": {
          "base_uri": "https://localhost:8080/"
        },
        "id": "ggWrEGopg_ml",
        "outputId": "23a0b6b2-b33c-43ff-c7a3-2a69b748ec51"
      },
      "outputs": [
        {
          "output_type": "stream",
          "name": "stdout",
          "text": [
            "Downloading...\n",
            "From: https://drive.google.com/uc?id=1s-HFf4rILdh1R8ty1p6vC_xznqSNQLY8\n",
            "To: /content/credit.zip\n",
            "100% 69.2M/69.2M [00:01<00:00, 52.2MB/s]\n"
          ]
        }
      ],
      "source": [
        "!gdown -O credit.zip '1s-HFf4rILdh1R8ty1p6vC_xznqSNQLY8' "
      ]
    },
    {
      "cell_type": "code",
      "execution_count": null,
      "metadata": {
        "colab": {
          "base_uri": "https://localhost:8080/"
        },
        "id": "-ONvwYb7a2Ou",
        "outputId": "42c7ffb4-1642-4bec-bd06-baff9d2e9ef6"
      },
      "outputs": [
        {
          "output_type": "stream",
          "name": "stdout",
          "text": [
            "Archive:  credit.zip\n",
            "  inflating: creditcard.csv          \n"
          ]
        }
      ],
      "source": [
        "!unzip credit.zip"
      ]
    },
    {
      "cell_type": "code",
      "execution_count": null,
      "metadata": {
        "colab": {
          "base_uri": "https://localhost:8080/"
        },
        "id": "75xBpinPDAG5",
        "outputId": "453bd997-f1d8-4ec0-dfa1-5ca06f401b2b"
      },
      "outputs": [
        {
          "output_type": "stream",
          "name": "stdout",
          "text": [
            "Collecting ipython-autotime\n",
            "  Downloading ipython_autotime-0.3.1-py2.py3-none-any.whl (6.8 kB)\n",
            "Requirement already satisfied: ipython in /usr/local/lib/python3.7/dist-packages (from ipython-autotime) (5.5.0)\n",
            "Requirement already satisfied: pickleshare in /usr/local/lib/python3.7/dist-packages (from ipython->ipython-autotime) (0.7.5)\n",
            "Requirement already satisfied: decorator in /usr/local/lib/python3.7/dist-packages (from ipython->ipython-autotime) (4.4.2)\n",
            "Requirement already satisfied: pexpect in /usr/local/lib/python3.7/dist-packages (from ipython->ipython-autotime) (4.8.0)\n",
            "Requirement already satisfied: prompt-toolkit<2.0.0,>=1.0.4 in /usr/local/lib/python3.7/dist-packages (from ipython->ipython-autotime) (1.0.18)\n",
            "Requirement already satisfied: traitlets>=4.2 in /usr/local/lib/python3.7/dist-packages (from ipython->ipython-autotime) (5.1.1)\n",
            "Requirement already satisfied: simplegeneric>0.8 in /usr/local/lib/python3.7/dist-packages (from ipython->ipython-autotime) (0.8.1)\n",
            "Requirement already satisfied: pygments in /usr/local/lib/python3.7/dist-packages (from ipython->ipython-autotime) (2.6.1)\n",
            "Requirement already satisfied: setuptools>=18.5 in /usr/local/lib/python3.7/dist-packages (from ipython->ipython-autotime) (57.4.0)\n",
            "Requirement already satisfied: six>=1.9.0 in /usr/local/lib/python3.7/dist-packages (from prompt-toolkit<2.0.0,>=1.0.4->ipython->ipython-autotime) (1.15.0)\n",
            "Requirement already satisfied: wcwidth in /usr/local/lib/python3.7/dist-packages (from prompt-toolkit<2.0.0,>=1.0.4->ipython->ipython-autotime) (0.2.5)\n",
            "Requirement already satisfied: ptyprocess>=0.5 in /usr/local/lib/python3.7/dist-packages (from pexpect->ipython->ipython-autotime) (0.7.0)\n",
            "Installing collected packages: ipython-autotime\n",
            "Successfully installed ipython-autotime-0.3.1\n",
            "time: 214 µs (started: 2022-05-10 00:29:11 +00:00)\n"
          ]
        }
      ],
      "source": [
        "!pip install ipython-autotime\n",
        "%load_ext autotime"
      ]
    },
    {
      "cell_type": "markdown",
      "metadata": {
        "id": "OY9aNpYe-9Dq"
      },
      "source": [
        "# Libraries"
      ]
    },
    {
      "cell_type": "code",
      "execution_count": null,
      "metadata": {
        "id": "PMKQkz62WOhp"
      },
      "outputs": [],
      "source": [
        "import pandas as pd\n",
        "import numpy as np\n",
        "import seaborn as sns\n",
        "import matplotlib.pyplot as plt\n",
        "\n",
        "from time import time\n",
        "\n",
        "from sklearn.utils import resample\n",
        "\n",
        "from sklearn.preprocessing import StandardScaler, MinMaxScaler\n",
        "from sklearn.model_selection import train_test_split, cross_validate, StratifiedKFold, KFold\n",
        "from sklearn.feature_selection import RFECV, SequentialFeatureSelector, RFE\n",
        "\n",
        "from sklearn.pipeline import Pipeline\n",
        "\n",
        "from sklearn.naive_bayes import GaussianNB\n",
        "\n",
        "from sklearn.ensemble import RandomForestClassifier\n",
        "from sklearn.ensemble import BaggingClassifier\n",
        "from sklearn.ensemble import VotingClassifier\n",
        "\n",
        "from sklearn.neighbors import KNeighborsClassifier\n",
        "\n",
        "from sklearn.tree import DecisionTreeClassifier\n",
        "from imblearn.over_sampling import SMOTE\n",
        "from sklearn.metrics import classification_report, roc_auc_score\n",
        "from collections import Counter\n",
        "\n",
        "from imblearn.pipeline import make_pipeline\n",
        "from imblearn.over_sampling import RandomOverSampler\n",
        "from imblearn.under_sampling import RandomUnderSampler\n",
        "\n",
        "from sklearn.metrics import f1_score, accuracy_score, precision_score, recall_score, roc_auc_score"
      ]
    },
    {
      "cell_type": "markdown",
      "metadata": {
        "id": "WMJzomx1WpD6"
      },
      "source": [
        "# Data"
      ]
    },
    {
      "cell_type": "markdown",
      "metadata": {
        "id": "rWMD7o4jlZs0"
      },
      "source": [
        "## Load"
      ]
    },
    {
      "cell_type": "markdown",
      "metadata": {
        "id": "IlnX-7MvqVhj"
      },
      "source": [
        "Source: [Credit Card Fraud Detection](https://www.kaggle.com/datasets/mlg-ulb/creditcardfraud)"
      ]
    },
    {
      "cell_type": "code",
      "execution_count": null,
      "metadata": {
        "colab": {
          "base_uri": "https://localhost:8080/"
        },
        "id": "cs45JsX_WxkB",
        "outputId": "576cd3dc-83cb-472d-b22d-36ffcc8d22a8"
      },
      "outputs": [
        {
          "output_type": "stream",
          "name": "stdout",
          "text": [
            "time: 3.04 s (started: 2022-05-10 00:30:49 +00:00)\n"
          ]
        }
      ],
      "source": [
        "data = pd.read_csv('creditcard.csv')"
      ]
    },
    {
      "cell_type": "code",
      "execution_count": null,
      "metadata": {
        "colab": {
          "base_uri": "https://localhost:8080/",
          "height": 317
        },
        "id": "1FSVoVUXpP4f",
        "outputId": "705c23dd-a5bf-492d-ccbb-3d2a9ab72ac1"
      },
      "outputs": [
        {
          "output_type": "execute_result",
          "data": {
            "text/plain": [
              "   Time        V1        V2        V3        V4        V5        V6        V7  \\\n",
              "0   0.0 -1.359807 -0.072781  2.536347  1.378155 -0.338321  0.462388  0.239599   \n",
              "1   0.0  1.191857  0.266151  0.166480  0.448154  0.060018 -0.082361 -0.078803   \n",
              "2   1.0 -1.358354 -1.340163  1.773209  0.379780 -0.503198  1.800499  0.791461   \n",
              "3   1.0 -0.966272 -0.185226  1.792993 -0.863291 -0.010309  1.247203  0.237609   \n",
              "4   2.0 -1.158233  0.877737  1.548718  0.403034 -0.407193  0.095921  0.592941   \n",
              "\n",
              "         V8        V9  ...       V21       V22       V23       V24       V25  \\\n",
              "0  0.098698  0.363787  ... -0.018307  0.277838 -0.110474  0.066928  0.128539   \n",
              "1  0.085102 -0.255425  ... -0.225775 -0.638672  0.101288 -0.339846  0.167170   \n",
              "2  0.247676 -1.514654  ...  0.247998  0.771679  0.909412 -0.689281 -0.327642   \n",
              "3  0.377436 -1.387024  ... -0.108300  0.005274 -0.190321 -1.175575  0.647376   \n",
              "4 -0.270533  0.817739  ... -0.009431  0.798278 -0.137458  0.141267 -0.206010   \n",
              "\n",
              "        V26       V27       V28  Amount  Class  \n",
              "0 -0.189115  0.133558 -0.021053  149.62      0  \n",
              "1  0.125895 -0.008983  0.014724    2.69      0  \n",
              "2 -0.139097 -0.055353 -0.059752  378.66      0  \n",
              "3 -0.221929  0.062723  0.061458  123.50      0  \n",
              "4  0.502292  0.219422  0.215153   69.99      0  \n",
              "\n",
              "[5 rows x 31 columns]"
            ],
            "text/html": [
              "\n",
              "  <div id=\"df-9e0407fd-f1c1-4734-bb19-e0df8069ebf6\">\n",
              "    <div class=\"colab-df-container\">\n",
              "      <div>\n",
              "<style scoped>\n",
              "    .dataframe tbody tr th:only-of-type {\n",
              "        vertical-align: middle;\n",
              "    }\n",
              "\n",
              "    .dataframe tbody tr th {\n",
              "        vertical-align: top;\n",
              "    }\n",
              "\n",
              "    .dataframe thead th {\n",
              "        text-align: right;\n",
              "    }\n",
              "</style>\n",
              "<table border=\"1\" class=\"dataframe\">\n",
              "  <thead>\n",
              "    <tr style=\"text-align: right;\">\n",
              "      <th></th>\n",
              "      <th>Time</th>\n",
              "      <th>V1</th>\n",
              "      <th>V2</th>\n",
              "      <th>V3</th>\n",
              "      <th>V4</th>\n",
              "      <th>V5</th>\n",
              "      <th>V6</th>\n",
              "      <th>V7</th>\n",
              "      <th>V8</th>\n",
              "      <th>V9</th>\n",
              "      <th>...</th>\n",
              "      <th>V21</th>\n",
              "      <th>V22</th>\n",
              "      <th>V23</th>\n",
              "      <th>V24</th>\n",
              "      <th>V25</th>\n",
              "      <th>V26</th>\n",
              "      <th>V27</th>\n",
              "      <th>V28</th>\n",
              "      <th>Amount</th>\n",
              "      <th>Class</th>\n",
              "    </tr>\n",
              "  </thead>\n",
              "  <tbody>\n",
              "    <tr>\n",
              "      <th>0</th>\n",
              "      <td>0.0</td>\n",
              "      <td>-1.359807</td>\n",
              "      <td>-0.072781</td>\n",
              "      <td>2.536347</td>\n",
              "      <td>1.378155</td>\n",
              "      <td>-0.338321</td>\n",
              "      <td>0.462388</td>\n",
              "      <td>0.239599</td>\n",
              "      <td>0.098698</td>\n",
              "      <td>0.363787</td>\n",
              "      <td>...</td>\n",
              "      <td>-0.018307</td>\n",
              "      <td>0.277838</td>\n",
              "      <td>-0.110474</td>\n",
              "      <td>0.066928</td>\n",
              "      <td>0.128539</td>\n",
              "      <td>-0.189115</td>\n",
              "      <td>0.133558</td>\n",
              "      <td>-0.021053</td>\n",
              "      <td>149.62</td>\n",
              "      <td>0</td>\n",
              "    </tr>\n",
              "    <tr>\n",
              "      <th>1</th>\n",
              "      <td>0.0</td>\n",
              "      <td>1.191857</td>\n",
              "      <td>0.266151</td>\n",
              "      <td>0.166480</td>\n",
              "      <td>0.448154</td>\n",
              "      <td>0.060018</td>\n",
              "      <td>-0.082361</td>\n",
              "      <td>-0.078803</td>\n",
              "      <td>0.085102</td>\n",
              "      <td>-0.255425</td>\n",
              "      <td>...</td>\n",
              "      <td>-0.225775</td>\n",
              "      <td>-0.638672</td>\n",
              "      <td>0.101288</td>\n",
              "      <td>-0.339846</td>\n",
              "      <td>0.167170</td>\n",
              "      <td>0.125895</td>\n",
              "      <td>-0.008983</td>\n",
              "      <td>0.014724</td>\n",
              "      <td>2.69</td>\n",
              "      <td>0</td>\n",
              "    </tr>\n",
              "    <tr>\n",
              "      <th>2</th>\n",
              "      <td>1.0</td>\n",
              "      <td>-1.358354</td>\n",
              "      <td>-1.340163</td>\n",
              "      <td>1.773209</td>\n",
              "      <td>0.379780</td>\n",
              "      <td>-0.503198</td>\n",
              "      <td>1.800499</td>\n",
              "      <td>0.791461</td>\n",
              "      <td>0.247676</td>\n",
              "      <td>-1.514654</td>\n",
              "      <td>...</td>\n",
              "      <td>0.247998</td>\n",
              "      <td>0.771679</td>\n",
              "      <td>0.909412</td>\n",
              "      <td>-0.689281</td>\n",
              "      <td>-0.327642</td>\n",
              "      <td>-0.139097</td>\n",
              "      <td>-0.055353</td>\n",
              "      <td>-0.059752</td>\n",
              "      <td>378.66</td>\n",
              "      <td>0</td>\n",
              "    </tr>\n",
              "    <tr>\n",
              "      <th>3</th>\n",
              "      <td>1.0</td>\n",
              "      <td>-0.966272</td>\n",
              "      <td>-0.185226</td>\n",
              "      <td>1.792993</td>\n",
              "      <td>-0.863291</td>\n",
              "      <td>-0.010309</td>\n",
              "      <td>1.247203</td>\n",
              "      <td>0.237609</td>\n",
              "      <td>0.377436</td>\n",
              "      <td>-1.387024</td>\n",
              "      <td>...</td>\n",
              "      <td>-0.108300</td>\n",
              "      <td>0.005274</td>\n",
              "      <td>-0.190321</td>\n",
              "      <td>-1.175575</td>\n",
              "      <td>0.647376</td>\n",
              "      <td>-0.221929</td>\n",
              "      <td>0.062723</td>\n",
              "      <td>0.061458</td>\n",
              "      <td>123.50</td>\n",
              "      <td>0</td>\n",
              "    </tr>\n",
              "    <tr>\n",
              "      <th>4</th>\n",
              "      <td>2.0</td>\n",
              "      <td>-1.158233</td>\n",
              "      <td>0.877737</td>\n",
              "      <td>1.548718</td>\n",
              "      <td>0.403034</td>\n",
              "      <td>-0.407193</td>\n",
              "      <td>0.095921</td>\n",
              "      <td>0.592941</td>\n",
              "      <td>-0.270533</td>\n",
              "      <td>0.817739</td>\n",
              "      <td>...</td>\n",
              "      <td>-0.009431</td>\n",
              "      <td>0.798278</td>\n",
              "      <td>-0.137458</td>\n",
              "      <td>0.141267</td>\n",
              "      <td>-0.206010</td>\n",
              "      <td>0.502292</td>\n",
              "      <td>0.219422</td>\n",
              "      <td>0.215153</td>\n",
              "      <td>69.99</td>\n",
              "      <td>0</td>\n",
              "    </tr>\n",
              "  </tbody>\n",
              "</table>\n",
              "<p>5 rows × 31 columns</p>\n",
              "</div>\n",
              "      <button class=\"colab-df-convert\" onclick=\"convertToInteractive('df-9e0407fd-f1c1-4734-bb19-e0df8069ebf6')\"\n",
              "              title=\"Convert this dataframe to an interactive table.\"\n",
              "              style=\"display:none;\">\n",
              "        \n",
              "  <svg xmlns=\"http://www.w3.org/2000/svg\" height=\"24px\"viewBox=\"0 0 24 24\"\n",
              "       width=\"24px\">\n",
              "    <path d=\"M0 0h24v24H0V0z\" fill=\"none\"/>\n",
              "    <path d=\"M18.56 5.44l.94 2.06.94-2.06 2.06-.94-2.06-.94-.94-2.06-.94 2.06-2.06.94zm-11 1L8.5 8.5l.94-2.06 2.06-.94-2.06-.94L8.5 2.5l-.94 2.06-2.06.94zm10 10l.94 2.06.94-2.06 2.06-.94-2.06-.94-.94-2.06-.94 2.06-2.06.94z\"/><path d=\"M17.41 7.96l-1.37-1.37c-.4-.4-.92-.59-1.43-.59-.52 0-1.04.2-1.43.59L10.3 9.45l-7.72 7.72c-.78.78-.78 2.05 0 2.83L4 21.41c.39.39.9.59 1.41.59.51 0 1.02-.2 1.41-.59l7.78-7.78 2.81-2.81c.8-.78.8-2.07 0-2.86zM5.41 20L4 18.59l7.72-7.72 1.47 1.35L5.41 20z\"/>\n",
              "  </svg>\n",
              "      </button>\n",
              "      \n",
              "  <style>\n",
              "    .colab-df-container {\n",
              "      display:flex;\n",
              "      flex-wrap:wrap;\n",
              "      gap: 12px;\n",
              "    }\n",
              "\n",
              "    .colab-df-convert {\n",
              "      background-color: #E8F0FE;\n",
              "      border: none;\n",
              "      border-radius: 50%;\n",
              "      cursor: pointer;\n",
              "      display: none;\n",
              "      fill: #1967D2;\n",
              "      height: 32px;\n",
              "      padding: 0 0 0 0;\n",
              "      width: 32px;\n",
              "    }\n",
              "\n",
              "    .colab-df-convert:hover {\n",
              "      background-color: #E2EBFA;\n",
              "      box-shadow: 0px 1px 2px rgba(60, 64, 67, 0.3), 0px 1px 3px 1px rgba(60, 64, 67, 0.15);\n",
              "      fill: #174EA6;\n",
              "    }\n",
              "\n",
              "    [theme=dark] .colab-df-convert {\n",
              "      background-color: #3B4455;\n",
              "      fill: #D2E3FC;\n",
              "    }\n",
              "\n",
              "    [theme=dark] .colab-df-convert:hover {\n",
              "      background-color: #434B5C;\n",
              "      box-shadow: 0px 1px 3px 1px rgba(0, 0, 0, 0.15);\n",
              "      filter: drop-shadow(0px 1px 2px rgba(0, 0, 0, 0.3));\n",
              "      fill: #FFFFFF;\n",
              "    }\n",
              "  </style>\n",
              "\n",
              "      <script>\n",
              "        const buttonEl =\n",
              "          document.querySelector('#df-9e0407fd-f1c1-4734-bb19-e0df8069ebf6 button.colab-df-convert');\n",
              "        buttonEl.style.display =\n",
              "          google.colab.kernel.accessAllowed ? 'block' : 'none';\n",
              "\n",
              "        async function convertToInteractive(key) {\n",
              "          const element = document.querySelector('#df-9e0407fd-f1c1-4734-bb19-e0df8069ebf6');\n",
              "          const dataTable =\n",
              "            await google.colab.kernel.invokeFunction('convertToInteractive',\n",
              "                                                     [key], {});\n",
              "          if (!dataTable) return;\n",
              "\n",
              "          const docLinkHtml = 'Like what you see? Visit the ' +\n",
              "            '<a target=\"_blank\" href=https://colab.research.google.com/notebooks/data_table.ipynb>data table notebook</a>'\n",
              "            + ' to learn more about interactive tables.';\n",
              "          element.innerHTML = '';\n",
              "          dataTable['output_type'] = 'display_data';\n",
              "          await google.colab.output.renderOutput(dataTable, element);\n",
              "          const docLink = document.createElement('div');\n",
              "          docLink.innerHTML = docLinkHtml;\n",
              "          element.appendChild(docLink);\n",
              "        }\n",
              "      </script>\n",
              "    </div>\n",
              "  </div>\n",
              "  "
            ]
          },
          "metadata": {},
          "execution_count": 8
        },
        {
          "output_type": "stream",
          "name": "stdout",
          "text": [
            "time: 39.3 ms (started: 2022-05-10 00:30:52 +00:00)\n"
          ]
        }
      ],
      "source": [
        "data.head(5)"
      ]
    },
    {
      "cell_type": "markdown",
      "metadata": {
        "id": "lSs4yyV3pa4G"
      },
      "source": [
        "## EDA"
      ]
    },
    {
      "cell_type": "code",
      "execution_count": null,
      "metadata": {
        "colab": {
          "base_uri": "https://localhost:8080/"
        },
        "id": "LHnIrSR7jCsG",
        "outputId": "affbc3e1-7613-441d-bca2-fb57e6a4ee92"
      },
      "outputs": [
        {
          "output_type": "stream",
          "name": "stdout",
          "text": [
            "<class 'pandas.core.frame.DataFrame'>\n",
            "RangeIndex: 284807 entries, 0 to 284806\n",
            "Data columns (total 31 columns):\n",
            " #   Column  Non-Null Count   Dtype  \n",
            "---  ------  --------------   -----  \n",
            " 0   Time    284807 non-null  float64\n",
            " 1   V1      284807 non-null  float64\n",
            " 2   V2      284807 non-null  float64\n",
            " 3   V3      284807 non-null  float64\n",
            " 4   V4      284807 non-null  float64\n",
            " 5   V5      284807 non-null  float64\n",
            " 6   V6      284807 non-null  float64\n",
            " 7   V7      284807 non-null  float64\n",
            " 8   V8      284807 non-null  float64\n",
            " 9   V9      284807 non-null  float64\n",
            " 10  V10     284807 non-null  float64\n",
            " 11  V11     284807 non-null  float64\n",
            " 12  V12     284807 non-null  float64\n",
            " 13  V13     284807 non-null  float64\n",
            " 14  V14     284807 non-null  float64\n",
            " 15  V15     284807 non-null  float64\n",
            " 16  V16     284807 non-null  float64\n",
            " 17  V17     284807 non-null  float64\n",
            " 18  V18     284807 non-null  float64\n",
            " 19  V19     284807 non-null  float64\n",
            " 20  V20     284807 non-null  float64\n",
            " 21  V21     284807 non-null  float64\n",
            " 22  V22     284807 non-null  float64\n",
            " 23  V23     284807 non-null  float64\n",
            " 24  V24     284807 non-null  float64\n",
            " 25  V25     284807 non-null  float64\n",
            " 26  V26     284807 non-null  float64\n",
            " 27  V27     284807 non-null  float64\n",
            " 28  V28     284807 non-null  float64\n",
            " 29  Amount  284807 non-null  float64\n",
            " 30  Class   284807 non-null  int64  \n",
            "dtypes: float64(30), int64(1)\n",
            "memory usage: 67.4 MB\n",
            "time: 50.9 ms (started: 2022-05-10 00:30:52 +00:00)\n"
          ]
        }
      ],
      "source": [
        "data.info()"
      ]
    },
    {
      "cell_type": "code",
      "execution_count": null,
      "metadata": {
        "colab": {
          "base_uri": "https://localhost:8080/",
          "height": 411
        },
        "id": "ln_k1-xsjriO",
        "outputId": "d1ea4ba3-578d-4b2c-eef4-286f58b50b6b"
      },
      "outputs": [
        {
          "output_type": "execute_result",
          "data": {
            "text/plain": [
              "                Time            V1            V2            V3            V4  \\\n",
              "count  284807.000000  2.848070e+05  2.848070e+05  2.848070e+05  2.848070e+05   \n",
              "mean    94813.859575  3.918649e-15  5.682686e-16 -8.761736e-15  2.811118e-15   \n",
              "std     47488.145955  1.958696e+00  1.651309e+00  1.516255e+00  1.415869e+00   \n",
              "min         0.000000 -5.640751e+01 -7.271573e+01 -4.832559e+01 -5.683171e+00   \n",
              "25%     54201.500000 -9.203734e-01 -5.985499e-01 -8.903648e-01 -8.486401e-01   \n",
              "50%     84692.000000  1.810880e-02  6.548556e-02  1.798463e-01 -1.984653e-02   \n",
              "75%    139320.500000  1.315642e+00  8.037239e-01  1.027196e+00  7.433413e-01   \n",
              "max    172792.000000  2.454930e+00  2.205773e+01  9.382558e+00  1.687534e+01   \n",
              "\n",
              "                 V5            V6            V7            V8            V9  \\\n",
              "count  2.848070e+05  2.848070e+05  2.848070e+05  2.848070e+05  2.848070e+05   \n",
              "mean  -1.552103e-15  2.040130e-15 -1.698953e-15 -1.893285e-16 -3.147640e-15   \n",
              "std    1.380247e+00  1.332271e+00  1.237094e+00  1.194353e+00  1.098632e+00   \n",
              "min   -1.137433e+02 -2.616051e+01 -4.355724e+01 -7.321672e+01 -1.343407e+01   \n",
              "25%   -6.915971e-01 -7.682956e-01 -5.540759e-01 -2.086297e-01 -6.430976e-01   \n",
              "50%   -5.433583e-02 -2.741871e-01  4.010308e-02  2.235804e-02 -5.142873e-02   \n",
              "75%    6.119264e-01  3.985649e-01  5.704361e-01  3.273459e-01  5.971390e-01   \n",
              "max    3.480167e+01  7.330163e+01  1.205895e+02  2.000721e+01  1.559499e+01   \n",
              "\n",
              "       ...           V21           V22           V23           V24  \\\n",
              "count  ...  2.848070e+05  2.848070e+05  2.848070e+05  2.848070e+05   \n",
              "mean   ...  1.473120e-16  8.042109e-16  5.282512e-16  4.456271e-15   \n",
              "std    ...  7.345240e-01  7.257016e-01  6.244603e-01  6.056471e-01   \n",
              "min    ... -3.483038e+01 -1.093314e+01 -4.480774e+01 -2.836627e+00   \n",
              "25%    ... -2.283949e-01 -5.423504e-01 -1.618463e-01 -3.545861e-01   \n",
              "50%    ... -2.945017e-02  6.781943e-03 -1.119293e-02  4.097606e-02   \n",
              "75%    ...  1.863772e-01  5.285536e-01  1.476421e-01  4.395266e-01   \n",
              "max    ...  2.720284e+01  1.050309e+01  2.252841e+01  4.584549e+00   \n",
              "\n",
              "                V25           V26           V27           V28         Amount  \\\n",
              "count  2.848070e+05  2.848070e+05  2.848070e+05  2.848070e+05  284807.000000   \n",
              "mean   1.426896e-15  1.701640e-15 -3.662252e-16 -1.217809e-16      88.349619   \n",
              "std    5.212781e-01  4.822270e-01  4.036325e-01  3.300833e-01     250.120109   \n",
              "min   -1.029540e+01 -2.604551e+00 -2.256568e+01 -1.543008e+01       0.000000   \n",
              "25%   -3.171451e-01 -3.269839e-01 -7.083953e-02 -5.295979e-02       5.600000   \n",
              "50%    1.659350e-02 -5.213911e-02  1.342146e-03  1.124383e-02      22.000000   \n",
              "75%    3.507156e-01  2.409522e-01  9.104512e-02  7.827995e-02      77.165000   \n",
              "max    7.519589e+00  3.517346e+00  3.161220e+01  3.384781e+01   25691.160000   \n",
              "\n",
              "               Class  \n",
              "count  284807.000000  \n",
              "mean        0.001727  \n",
              "std         0.041527  \n",
              "min         0.000000  \n",
              "25%         0.000000  \n",
              "50%         0.000000  \n",
              "75%         0.000000  \n",
              "max         1.000000  \n",
              "\n",
              "[8 rows x 31 columns]"
            ],
            "text/html": [
              "\n",
              "  <div id=\"df-f9a8dbef-4de8-452b-9dee-94003f615802\">\n",
              "    <div class=\"colab-df-container\">\n",
              "      <div>\n",
              "<style scoped>\n",
              "    .dataframe tbody tr th:only-of-type {\n",
              "        vertical-align: middle;\n",
              "    }\n",
              "\n",
              "    .dataframe tbody tr th {\n",
              "        vertical-align: top;\n",
              "    }\n",
              "\n",
              "    .dataframe thead th {\n",
              "        text-align: right;\n",
              "    }\n",
              "</style>\n",
              "<table border=\"1\" class=\"dataframe\">\n",
              "  <thead>\n",
              "    <tr style=\"text-align: right;\">\n",
              "      <th></th>\n",
              "      <th>Time</th>\n",
              "      <th>V1</th>\n",
              "      <th>V2</th>\n",
              "      <th>V3</th>\n",
              "      <th>V4</th>\n",
              "      <th>V5</th>\n",
              "      <th>V6</th>\n",
              "      <th>V7</th>\n",
              "      <th>V8</th>\n",
              "      <th>V9</th>\n",
              "      <th>...</th>\n",
              "      <th>V21</th>\n",
              "      <th>V22</th>\n",
              "      <th>V23</th>\n",
              "      <th>V24</th>\n",
              "      <th>V25</th>\n",
              "      <th>V26</th>\n",
              "      <th>V27</th>\n",
              "      <th>V28</th>\n",
              "      <th>Amount</th>\n",
              "      <th>Class</th>\n",
              "    </tr>\n",
              "  </thead>\n",
              "  <tbody>\n",
              "    <tr>\n",
              "      <th>count</th>\n",
              "      <td>284807.000000</td>\n",
              "      <td>2.848070e+05</td>\n",
              "      <td>2.848070e+05</td>\n",
              "      <td>2.848070e+05</td>\n",
              "      <td>2.848070e+05</td>\n",
              "      <td>2.848070e+05</td>\n",
              "      <td>2.848070e+05</td>\n",
              "      <td>2.848070e+05</td>\n",
              "      <td>2.848070e+05</td>\n",
              "      <td>2.848070e+05</td>\n",
              "      <td>...</td>\n",
              "      <td>2.848070e+05</td>\n",
              "      <td>2.848070e+05</td>\n",
              "      <td>2.848070e+05</td>\n",
              "      <td>2.848070e+05</td>\n",
              "      <td>2.848070e+05</td>\n",
              "      <td>2.848070e+05</td>\n",
              "      <td>2.848070e+05</td>\n",
              "      <td>2.848070e+05</td>\n",
              "      <td>284807.000000</td>\n",
              "      <td>284807.000000</td>\n",
              "    </tr>\n",
              "    <tr>\n",
              "      <th>mean</th>\n",
              "      <td>94813.859575</td>\n",
              "      <td>3.918649e-15</td>\n",
              "      <td>5.682686e-16</td>\n",
              "      <td>-8.761736e-15</td>\n",
              "      <td>2.811118e-15</td>\n",
              "      <td>-1.552103e-15</td>\n",
              "      <td>2.040130e-15</td>\n",
              "      <td>-1.698953e-15</td>\n",
              "      <td>-1.893285e-16</td>\n",
              "      <td>-3.147640e-15</td>\n",
              "      <td>...</td>\n",
              "      <td>1.473120e-16</td>\n",
              "      <td>8.042109e-16</td>\n",
              "      <td>5.282512e-16</td>\n",
              "      <td>4.456271e-15</td>\n",
              "      <td>1.426896e-15</td>\n",
              "      <td>1.701640e-15</td>\n",
              "      <td>-3.662252e-16</td>\n",
              "      <td>-1.217809e-16</td>\n",
              "      <td>88.349619</td>\n",
              "      <td>0.001727</td>\n",
              "    </tr>\n",
              "    <tr>\n",
              "      <th>std</th>\n",
              "      <td>47488.145955</td>\n",
              "      <td>1.958696e+00</td>\n",
              "      <td>1.651309e+00</td>\n",
              "      <td>1.516255e+00</td>\n",
              "      <td>1.415869e+00</td>\n",
              "      <td>1.380247e+00</td>\n",
              "      <td>1.332271e+00</td>\n",
              "      <td>1.237094e+00</td>\n",
              "      <td>1.194353e+00</td>\n",
              "      <td>1.098632e+00</td>\n",
              "      <td>...</td>\n",
              "      <td>7.345240e-01</td>\n",
              "      <td>7.257016e-01</td>\n",
              "      <td>6.244603e-01</td>\n",
              "      <td>6.056471e-01</td>\n",
              "      <td>5.212781e-01</td>\n",
              "      <td>4.822270e-01</td>\n",
              "      <td>4.036325e-01</td>\n",
              "      <td>3.300833e-01</td>\n",
              "      <td>250.120109</td>\n",
              "      <td>0.041527</td>\n",
              "    </tr>\n",
              "    <tr>\n",
              "      <th>min</th>\n",
              "      <td>0.000000</td>\n",
              "      <td>-5.640751e+01</td>\n",
              "      <td>-7.271573e+01</td>\n",
              "      <td>-4.832559e+01</td>\n",
              "      <td>-5.683171e+00</td>\n",
              "      <td>-1.137433e+02</td>\n",
              "      <td>-2.616051e+01</td>\n",
              "      <td>-4.355724e+01</td>\n",
              "      <td>-7.321672e+01</td>\n",
              "      <td>-1.343407e+01</td>\n",
              "      <td>...</td>\n",
              "      <td>-3.483038e+01</td>\n",
              "      <td>-1.093314e+01</td>\n",
              "      <td>-4.480774e+01</td>\n",
              "      <td>-2.836627e+00</td>\n",
              "      <td>-1.029540e+01</td>\n",
              "      <td>-2.604551e+00</td>\n",
              "      <td>-2.256568e+01</td>\n",
              "      <td>-1.543008e+01</td>\n",
              "      <td>0.000000</td>\n",
              "      <td>0.000000</td>\n",
              "    </tr>\n",
              "    <tr>\n",
              "      <th>25%</th>\n",
              "      <td>54201.500000</td>\n",
              "      <td>-9.203734e-01</td>\n",
              "      <td>-5.985499e-01</td>\n",
              "      <td>-8.903648e-01</td>\n",
              "      <td>-8.486401e-01</td>\n",
              "      <td>-6.915971e-01</td>\n",
              "      <td>-7.682956e-01</td>\n",
              "      <td>-5.540759e-01</td>\n",
              "      <td>-2.086297e-01</td>\n",
              "      <td>-6.430976e-01</td>\n",
              "      <td>...</td>\n",
              "      <td>-2.283949e-01</td>\n",
              "      <td>-5.423504e-01</td>\n",
              "      <td>-1.618463e-01</td>\n",
              "      <td>-3.545861e-01</td>\n",
              "      <td>-3.171451e-01</td>\n",
              "      <td>-3.269839e-01</td>\n",
              "      <td>-7.083953e-02</td>\n",
              "      <td>-5.295979e-02</td>\n",
              "      <td>5.600000</td>\n",
              "      <td>0.000000</td>\n",
              "    </tr>\n",
              "    <tr>\n",
              "      <th>50%</th>\n",
              "      <td>84692.000000</td>\n",
              "      <td>1.810880e-02</td>\n",
              "      <td>6.548556e-02</td>\n",
              "      <td>1.798463e-01</td>\n",
              "      <td>-1.984653e-02</td>\n",
              "      <td>-5.433583e-02</td>\n",
              "      <td>-2.741871e-01</td>\n",
              "      <td>4.010308e-02</td>\n",
              "      <td>2.235804e-02</td>\n",
              "      <td>-5.142873e-02</td>\n",
              "      <td>...</td>\n",
              "      <td>-2.945017e-02</td>\n",
              "      <td>6.781943e-03</td>\n",
              "      <td>-1.119293e-02</td>\n",
              "      <td>4.097606e-02</td>\n",
              "      <td>1.659350e-02</td>\n",
              "      <td>-5.213911e-02</td>\n",
              "      <td>1.342146e-03</td>\n",
              "      <td>1.124383e-02</td>\n",
              "      <td>22.000000</td>\n",
              "      <td>0.000000</td>\n",
              "    </tr>\n",
              "    <tr>\n",
              "      <th>75%</th>\n",
              "      <td>139320.500000</td>\n",
              "      <td>1.315642e+00</td>\n",
              "      <td>8.037239e-01</td>\n",
              "      <td>1.027196e+00</td>\n",
              "      <td>7.433413e-01</td>\n",
              "      <td>6.119264e-01</td>\n",
              "      <td>3.985649e-01</td>\n",
              "      <td>5.704361e-01</td>\n",
              "      <td>3.273459e-01</td>\n",
              "      <td>5.971390e-01</td>\n",
              "      <td>...</td>\n",
              "      <td>1.863772e-01</td>\n",
              "      <td>5.285536e-01</td>\n",
              "      <td>1.476421e-01</td>\n",
              "      <td>4.395266e-01</td>\n",
              "      <td>3.507156e-01</td>\n",
              "      <td>2.409522e-01</td>\n",
              "      <td>9.104512e-02</td>\n",
              "      <td>7.827995e-02</td>\n",
              "      <td>77.165000</td>\n",
              "      <td>0.000000</td>\n",
              "    </tr>\n",
              "    <tr>\n",
              "      <th>max</th>\n",
              "      <td>172792.000000</td>\n",
              "      <td>2.454930e+00</td>\n",
              "      <td>2.205773e+01</td>\n",
              "      <td>9.382558e+00</td>\n",
              "      <td>1.687534e+01</td>\n",
              "      <td>3.480167e+01</td>\n",
              "      <td>7.330163e+01</td>\n",
              "      <td>1.205895e+02</td>\n",
              "      <td>2.000721e+01</td>\n",
              "      <td>1.559499e+01</td>\n",
              "      <td>...</td>\n",
              "      <td>2.720284e+01</td>\n",
              "      <td>1.050309e+01</td>\n",
              "      <td>2.252841e+01</td>\n",
              "      <td>4.584549e+00</td>\n",
              "      <td>7.519589e+00</td>\n",
              "      <td>3.517346e+00</td>\n",
              "      <td>3.161220e+01</td>\n",
              "      <td>3.384781e+01</td>\n",
              "      <td>25691.160000</td>\n",
              "      <td>1.000000</td>\n",
              "    </tr>\n",
              "  </tbody>\n",
              "</table>\n",
              "<p>8 rows × 31 columns</p>\n",
              "</div>\n",
              "      <button class=\"colab-df-convert\" onclick=\"convertToInteractive('df-f9a8dbef-4de8-452b-9dee-94003f615802')\"\n",
              "              title=\"Convert this dataframe to an interactive table.\"\n",
              "              style=\"display:none;\">\n",
              "        \n",
              "  <svg xmlns=\"http://www.w3.org/2000/svg\" height=\"24px\"viewBox=\"0 0 24 24\"\n",
              "       width=\"24px\">\n",
              "    <path d=\"M0 0h24v24H0V0z\" fill=\"none\"/>\n",
              "    <path d=\"M18.56 5.44l.94 2.06.94-2.06 2.06-.94-2.06-.94-.94-2.06-.94 2.06-2.06.94zm-11 1L8.5 8.5l.94-2.06 2.06-.94-2.06-.94L8.5 2.5l-.94 2.06-2.06.94zm10 10l.94 2.06.94-2.06 2.06-.94-2.06-.94-.94-2.06-.94 2.06-2.06.94z\"/><path d=\"M17.41 7.96l-1.37-1.37c-.4-.4-.92-.59-1.43-.59-.52 0-1.04.2-1.43.59L10.3 9.45l-7.72 7.72c-.78.78-.78 2.05 0 2.83L4 21.41c.39.39.9.59 1.41.59.51 0 1.02-.2 1.41-.59l7.78-7.78 2.81-2.81c.8-.78.8-2.07 0-2.86zM5.41 20L4 18.59l7.72-7.72 1.47 1.35L5.41 20z\"/>\n",
              "  </svg>\n",
              "      </button>\n",
              "      \n",
              "  <style>\n",
              "    .colab-df-container {\n",
              "      display:flex;\n",
              "      flex-wrap:wrap;\n",
              "      gap: 12px;\n",
              "    }\n",
              "\n",
              "    .colab-df-convert {\n",
              "      background-color: #E8F0FE;\n",
              "      border: none;\n",
              "      border-radius: 50%;\n",
              "      cursor: pointer;\n",
              "      display: none;\n",
              "      fill: #1967D2;\n",
              "      height: 32px;\n",
              "      padding: 0 0 0 0;\n",
              "      width: 32px;\n",
              "    }\n",
              "\n",
              "    .colab-df-convert:hover {\n",
              "      background-color: #E2EBFA;\n",
              "      box-shadow: 0px 1px 2px rgba(60, 64, 67, 0.3), 0px 1px 3px 1px rgba(60, 64, 67, 0.15);\n",
              "      fill: #174EA6;\n",
              "    }\n",
              "\n",
              "    [theme=dark] .colab-df-convert {\n",
              "      background-color: #3B4455;\n",
              "      fill: #D2E3FC;\n",
              "    }\n",
              "\n",
              "    [theme=dark] .colab-df-convert:hover {\n",
              "      background-color: #434B5C;\n",
              "      box-shadow: 0px 1px 3px 1px rgba(0, 0, 0, 0.15);\n",
              "      filter: drop-shadow(0px 1px 2px rgba(0, 0, 0, 0.3));\n",
              "      fill: #FFFFFF;\n",
              "    }\n",
              "  </style>\n",
              "\n",
              "      <script>\n",
              "        const buttonEl =\n",
              "          document.querySelector('#df-f9a8dbef-4de8-452b-9dee-94003f615802 button.colab-df-convert');\n",
              "        buttonEl.style.display =\n",
              "          google.colab.kernel.accessAllowed ? 'block' : 'none';\n",
              "\n",
              "        async function convertToInteractive(key) {\n",
              "          const element = document.querySelector('#df-f9a8dbef-4de8-452b-9dee-94003f615802');\n",
              "          const dataTable =\n",
              "            await google.colab.kernel.invokeFunction('convertToInteractive',\n",
              "                                                     [key], {});\n",
              "          if (!dataTable) return;\n",
              "\n",
              "          const docLinkHtml = 'Like what you see? Visit the ' +\n",
              "            '<a target=\"_blank\" href=https://colab.research.google.com/notebooks/data_table.ipynb>data table notebook</a>'\n",
              "            + ' to learn more about interactive tables.';\n",
              "          element.innerHTML = '';\n",
              "          dataTable['output_type'] = 'display_data';\n",
              "          await google.colab.output.renderOutput(dataTable, element);\n",
              "          const docLink = document.createElement('div');\n",
              "          docLink.innerHTML = docLinkHtml;\n",
              "          element.appendChild(docLink);\n",
              "        }\n",
              "      </script>\n",
              "    </div>\n",
              "  </div>\n",
              "  "
            ]
          },
          "metadata": {},
          "execution_count": 10
        },
        {
          "output_type": "stream",
          "name": "stdout",
          "text": [
            "time: 486 ms (started: 2022-05-10 00:30:52 +00:00)\n"
          ]
        }
      ],
      "source": [
        "data.describe()"
      ]
    },
    {
      "cell_type": "markdown",
      "metadata": {
        "id": "hJCVubVdj7Bu"
      },
      "source": [
        "Feature 'Class' is the response variable and it takes value 1 in case of fraud and 0 otherwise."
      ]
    },
    {
      "cell_type": "code",
      "execution_count": null,
      "metadata": {
        "colab": {
          "base_uri": "https://localhost:8080/"
        },
        "id": "szcWdiDYjz2u",
        "outputId": "e2635525-0fdf-4688-99f3-dfe81f708ebe"
      },
      "outputs": [
        {
          "output_type": "execute_result",
          "data": {
            "text/plain": [
              "0    284315\n",
              "1       492\n",
              "Name: Class, dtype: int64"
            ]
          },
          "metadata": {},
          "execution_count": 11
        },
        {
          "output_type": "stream",
          "name": "stdout",
          "text": [
            "time: 10.1 ms (started: 2022-05-10 00:30:52 +00:00)\n"
          ]
        }
      ],
      "source": [
        "data.Class.value_counts()"
      ]
    },
    {
      "cell_type": "markdown",
      "metadata": {
        "id": "ZgkLALI2j_3e"
      },
      "source": [
        "In percentage"
      ]
    },
    {
      "cell_type": "code",
      "execution_count": null,
      "metadata": {
        "colab": {
          "base_uri": "https://localhost:8080/"
        },
        "id": "WseYrGMhj5l6",
        "outputId": "8f658e47-2e3d-4345-c6c0-ae203bf06026"
      },
      "outputs": [
        {
          "output_type": "execute_result",
          "data": {
            "text/plain": [
              "0    99.827251\n",
              "1     0.172749\n",
              "Name: Class, dtype: float64"
            ]
          },
          "metadata": {},
          "execution_count": 12
        },
        {
          "output_type": "stream",
          "name": "stdout",
          "text": [
            "time: 13.5 ms (started: 2022-05-10 00:30:52 +00:00)\n"
          ]
        }
      ],
      "source": [
        "(data.Class.value_counts() / data.Class.count())*100"
      ]
    },
    {
      "cell_type": "code",
      "execution_count": null,
      "metadata": {
        "colab": {
          "base_uri": "https://localhost:8080/",
          "height": 1000
        },
        "id": "TWrBAhY2kGKq",
        "outputId": "d5a3ff89-a0ce-4dc1-9577-367cb2137524"
      },
      "outputs": [
        {
          "output_type": "display_data",
          "data": {
            "text/plain": [
              "<Figure size 1440x1440 with 36 Axes>"
            ],
            "image/png": "[encoded data removed]"
          },
          "metadata": {
            "needs_background": "light"
          }
        },
        {
          "output_type": "stream",
          "name": "stdout",
          "text": [
            "time: 4.49 s (started: 2022-05-10 00:30:53 +00:00)\n"
          ]
        }
      ],
      "source": [
        "data.hist(figsize=(20, 20))\n",
        "plt.show()"
      ]
    },
    {
      "cell_type": "markdown",
      "metadata": {
        "id": "VrT6gODMkty5"
      },
      "source": [
        "### Correlations"
      ]
    },
    {
      "cell_type": "code",
      "execution_count": null,
      "metadata": {
        "colab": {
          "base_uri": "https://localhost:8080/",
          "height": 1000
        },
        "id": "5uwy5vNRm1dQ",
        "outputId": "da09af96-e9b6-4e89-f2a3-315801070add"
      },
      "outputs": [
        {
          "output_type": "execute_result",
          "data": {
            "text/plain": [
              "            Time            V1            V2            V3            V4  \\\n",
              "Time    1.000000  1.173963e-01 -1.059333e-02 -4.196182e-01 -1.052602e-01   \n",
              "V1      0.117396  1.000000e+00  4.135835e-16 -1.227819e-15 -9.215150e-16   \n",
              "V2     -0.010593  4.135835e-16  1.000000e+00  3.243764e-16 -1.121065e-15   \n",
              "V3     -0.419618 -1.227819e-15  3.243764e-16  1.000000e+00  4.711293e-16   \n",
              "V4     -0.105260 -9.215150e-16 -1.121065e-15  4.711293e-16  1.000000e+00   \n",
              "V5      0.173072  1.812612e-17  5.157519e-16 -6.539009e-17 -1.719944e-15   \n",
              "V6     -0.063016 -6.506567e-16  2.787346e-16  1.627627e-15 -7.491959e-16   \n",
              "V7      0.084714 -1.005191e-15  2.055934e-16  4.895305e-16 -4.104503e-16   \n",
              "V8     -0.036949 -2.433822e-16 -5.377041e-17 -1.268779e-15  5.697192e-16   \n",
              "V9     -0.008660 -1.513678e-16  1.978488e-17  5.568367e-16  6.923247e-16   \n",
              "V10     0.030617  7.388135e-17 -3.991394e-16  1.156587e-15  2.232685e-16   \n",
              "V11    -0.247689  2.125498e-16  1.975426e-16  1.576830e-15  3.459380e-16   \n",
              "V12     0.124348  2.053457e-16 -9.568710e-17  6.310231e-16 -5.625518e-16   \n",
              "V13    -0.065902 -2.425603e-17  6.295388e-16  2.807652e-16  1.303306e-16   \n",
              "V14    -0.098757 -5.020280e-16 -1.730566e-16  4.739859e-16  2.282280e-16   \n",
              "V15    -0.183453  3.547782e-16 -4.995814e-17  9.068793e-16  1.377649e-16   \n",
              "V16     0.011903  7.212815e-17  1.177316e-17  8.299445e-16 -9.614528e-16   \n",
              "V17    -0.073297 -3.879840e-16 -2.685296e-16  7.614712e-16 -2.699612e-16   \n",
              "V18     0.090438  3.230206e-17  3.284605e-16  1.509897e-16 -5.103644e-16   \n",
              "V19     0.028975  1.502024e-16 -7.118719e-18  3.463522e-16 -3.980557e-16   \n",
              "V20    -0.050866  4.654551e-16  2.506675e-16 -9.316409e-16 -1.857247e-16   \n",
              "V21     0.044736 -2.457409e-16 -8.480447e-17  5.706192e-17 -1.949553e-16   \n",
              "V22     0.144059 -4.290944e-16  1.526333e-16 -1.133902e-15 -6.276051e-17   \n",
              "V23     0.051142  6.168652e-16  1.634231e-16 -4.983035e-16  9.164206e-17   \n",
              "V24    -0.016182 -4.425156e-17  1.247925e-17  2.686834e-19  1.584638e-16   \n",
              "V25    -0.233083 -9.605737e-16 -4.478846e-16 -1.104734e-15  6.070716e-16   \n",
              "V26    -0.041407 -1.581290e-17  2.057310e-16 -1.238062e-16 -4.247268e-16   \n",
              "V27    -0.005135  1.198124e-16 -4.966953e-16  1.045747e-15  3.977061e-17   \n",
              "V28    -0.009413  2.083082e-15 -5.093836e-16  9.775546e-16 -2.761403e-18   \n",
              "Amount -0.010596 -2.277087e-01 -5.314089e-01 -2.108805e-01  9.873167e-02   \n",
              "Class  -0.012323 -1.013473e-01  9.128865e-02 -1.929608e-01  1.334475e-01   \n",
              "\n",
              "                  V5            V6            V7            V8            V9  \\\n",
              "Time    1.730721e-01 -6.301647e-02  8.471437e-02 -3.694943e-02 -8.660434e-03   \n",
              "V1      1.812612e-17 -6.506567e-16 -1.005191e-15 -2.433822e-16 -1.513678e-16   \n",
              "V2      5.157519e-16  2.787346e-16  2.055934e-16 -5.377041e-17  1.978488e-17   \n",
              "V3     -6.539009e-17  1.627627e-15  4.895305e-16 -1.268779e-15  5.568367e-16   \n",
              "V4     -1.719944e-15 -7.491959e-16 -4.104503e-16  5.697192e-16  6.923247e-16   \n",
              "V5      1.000000e+00  2.408382e-16  2.715541e-16  7.437229e-16  7.391702e-16   \n",
              "V6      2.408382e-16  1.000000e+00  1.191668e-16 -1.104219e-16  4.131207e-16   \n",
              "V7      2.715541e-16  1.191668e-16  1.000000e+00  3.344412e-16  1.122501e-15   \n",
              "V8      7.437229e-16 -1.104219e-16  3.344412e-16  1.000000e+00  4.356078e-16   \n",
              "V9      7.391702e-16  4.131207e-16  1.122501e-15  4.356078e-16  1.000000e+00   \n",
              "V10    -5.202306e-16  5.932243e-17 -7.492834e-17 -2.801370e-16 -4.642274e-16   \n",
              "V11     7.203963e-16  1.980503e-15  1.425248e-16  2.487043e-16  1.354680e-16   \n",
              "V12     7.412552e-16  2.375468e-16 -3.536655e-18  1.839891e-16 -1.079314e-15   \n",
              "V13     5.886991e-16 -1.211182e-16  1.266462e-17 -2.921856e-16  2.251072e-15   \n",
              "V14     6.565143e-16  2.621312e-16  2.607772e-16 -8.599156e-16  3.784757e-15   \n",
              "V15    -8.720275e-16 -1.531188e-15 -1.690540e-16  4.127777e-16 -1.051167e-15   \n",
              "V16     2.246261e-15  2.623672e-18  5.869302e-17 -5.254741e-16 -1.214086e-15   \n",
              "V17     1.281914e-16  2.015618e-16  2.177192e-16 -2.269549e-16  1.113695e-15   \n",
              "V18     5.308590e-16  1.223814e-16  7.604126e-17 -3.667974e-16  4.993240e-16   \n",
              "V19    -1.450421e-16 -1.865597e-16 -1.881008e-16 -3.875186e-16 -1.376135e-16   \n",
              "V20    -3.554057e-16 -1.858755e-16  9.379684e-16  2.033737e-16 -2.343720e-16   \n",
              "V21    -3.920976e-16  5.833316e-17 -2.027779e-16  3.892798e-16  1.936953e-16   \n",
              "V22     1.253751e-16 -4.705235e-19 -8.898922e-16  2.026927e-16 -7.071869e-16   \n",
              "V23    -8.428683e-18  1.046712e-16 -4.387401e-16  6.377260e-17 -5.214137e-16   \n",
              "V24    -1.149255e-15 -1.071589e-15  7.434913e-18 -1.047097e-16 -1.430343e-16   \n",
              "V25     4.808532e-16  4.562861e-16 -3.094082e-16 -4.653279e-16  6.757763e-16   \n",
              "V26     4.319541e-16 -1.357067e-16 -9.657637e-16 -1.727276e-16 -7.888853e-16   \n",
              "V27     6.590482e-16 -4.452461e-16 -1.782106e-15  1.299943e-16 -6.709655e-17   \n",
              "V28    -5.613951e-18  2.594754e-16 -2.776530e-16 -6.200930e-16  1.110541e-15   \n",
              "Amount -3.863563e-01  2.159812e-01  3.973113e-01 -1.030791e-01 -4.424560e-02   \n",
              "Class  -9.497430e-02 -4.364316e-02 -1.872566e-01  1.987512e-02 -9.773269e-02   \n",
              "\n",
              "        ...           V21           V22           V23           V24  \\\n",
              "Time    ...  4.473573e-02  1.440591e-01  5.114236e-02 -1.618187e-02   \n",
              "V1      ... -2.457409e-16 -4.290944e-16  6.168652e-16 -4.425156e-17   \n",
              "V2      ... -8.480447e-17  1.526333e-16  1.634231e-16  1.247925e-17   \n",
              "V3      ...  5.706192e-17 -1.133902e-15 -4.983035e-16  2.686834e-19   \n",
              "V4      ... -1.949553e-16 -6.276051e-17  9.164206e-17  1.584638e-16   \n",
              "V5      ... -3.920976e-16  1.253751e-16 -8.428683e-18 -1.149255e-15   \n",
              "V6      ...  5.833316e-17 -4.705235e-19  1.046712e-16 -1.071589e-15   \n",
              "V7      ... -2.027779e-16 -8.898922e-16 -4.387401e-16  7.434913e-18   \n",
              "V8      ...  3.892798e-16  2.026927e-16  6.377260e-17 -1.047097e-16   \n",
              "V9      ...  1.936953e-16 -7.071869e-16 -5.214137e-16 -1.430343e-16   \n",
              "V10     ...  1.177547e-15 -6.418202e-16  3.214491e-16 -1.355885e-16   \n",
              "V11     ... -5.658364e-16  7.772895e-16 -4.505332e-16  1.933267e-15   \n",
              "V12     ...  7.300527e-16  1.644699e-16  1.800885e-16  4.436512e-16   \n",
              "V13     ...  1.008461e-16  6.747721e-17 -7.132064e-16 -1.397470e-16   \n",
              "V14     ... -3.356561e-16  3.740383e-16  3.883204e-16  2.003482e-16   \n",
              "V15     ...  6.605263e-17 -4.208921e-16 -3.912243e-16 -4.478263e-16   \n",
              "V16     ... -4.715090e-16 -7.923387e-17  5.020770e-16 -3.005985e-16   \n",
              "V17     ... -8.230527e-16 -8.743398e-16  3.706214e-16 -2.403828e-16   \n",
              "V18     ... -9.408680e-16 -4.819365e-16 -1.912006e-16 -8.986916e-17   \n",
              "V19     ...  5.115885e-16 -1.163768e-15  7.032035e-16  2.587708e-17   \n",
              "V20     ... -7.614597e-16  1.009285e-15  2.712885e-16  1.277215e-16   \n",
              "V21     ...  1.000000e+00  3.649908e-15  8.119580e-16  1.761054e-16   \n",
              "V22     ...  3.649908e-15  1.000000e+00 -7.303916e-17  9.970809e-17   \n",
              "V23     ...  8.119580e-16 -7.303916e-17  1.000000e+00  2.130519e-17   \n",
              "V24     ...  1.761054e-16  9.970809e-17  2.130519e-17  1.000000e+00   \n",
              "V25     ... -1.686082e-16 -5.018575e-16 -8.232727e-17  1.015391e-15   \n",
              "V26     ... -5.557329e-16 -2.503187e-17  1.114524e-15  1.343722e-16   \n",
              "V27     ... -1.211281e-15  8.461337e-17  2.839721e-16 -2.274142e-16   \n",
              "V28     ...  5.278775e-16 -6.627203e-16  1.481903e-15 -2.819805e-16   \n",
              "Amount  ...  1.059989e-01 -6.480065e-02 -1.126326e-01  5.146217e-03   \n",
              "Class   ...  4.041338e-02  8.053175e-04 -2.685156e-03 -7.220907e-03   \n",
              "\n",
              "                 V25           V26           V27           V28    Amount  \\\n",
              "Time   -2.330828e-01 -4.140710e-02 -5.134591e-03 -9.412688e-03 -0.010596   \n",
              "V1     -9.605737e-16 -1.581290e-17  1.198124e-16  2.083082e-15 -0.227709   \n",
              "V2     -4.478846e-16  2.057310e-16 -4.966953e-16 -5.093836e-16 -0.531409   \n",
              "V3     -1.104734e-15 -1.238062e-16  1.045747e-15  9.775546e-16 -0.210880   \n",
              "V4      6.070716e-16 -4.247268e-16  3.977061e-17 -2.761403e-18  0.098732   \n",
              "V5      4.808532e-16  4.319541e-16  6.590482e-16 -5.613951e-18 -0.386356   \n",
              "V6      4.562861e-16 -1.357067e-16 -4.452461e-16  2.594754e-16  0.215981   \n",
              "V7     -3.094082e-16 -9.657637e-16 -1.782106e-15 -2.776530e-16  0.397311   \n",
              "V8     -4.653279e-16 -1.727276e-16  1.299943e-16 -6.200930e-16 -0.103079   \n",
              "V9      6.757763e-16 -7.888853e-16 -6.709655e-17  1.110541e-15 -0.044246   \n",
              "V10    -2.846052e-16 -3.028119e-16 -2.197977e-16  4.864782e-17 -0.101502   \n",
              "V11    -5.600475e-16 -1.003221e-16 -2.640281e-16 -3.792314e-16  0.000104   \n",
              "V12    -5.712973e-16 -2.359969e-16 -4.672391e-16  6.415167e-16 -0.009542   \n",
              "V13    -5.497612e-16 -1.769255e-16 -4.720898e-16  1.144372e-15  0.005293   \n",
              "V14    -8.547932e-16 -1.660327e-16  1.044274e-16  2.289427e-15  0.033751   \n",
              "V15     3.206423e-16  2.817791e-16 -1.143519e-15 -1.194130e-15 -0.002986   \n",
              "V16    -1.345418e-15 -7.290010e-16  6.789513e-16  7.588849e-16 -0.003910   \n",
              "V17     2.666806e-16  6.932833e-16  6.148525e-16 -5.534540e-17  0.007309   \n",
              "V18    -6.629212e-17  2.990167e-16  2.242791e-16  7.976796e-16  0.035650   \n",
              "V19     9.577163e-16  5.898033e-16 -2.959370e-16 -1.405379e-15 -0.056151   \n",
              "V20     1.410054e-16 -2.803504e-16 -1.138829e-15 -2.436795e-16  0.339403   \n",
              "V21    -1.686082e-16 -5.557329e-16 -1.211281e-15  5.278775e-16  0.105999   \n",
              "V22    -5.018575e-16 -2.503187e-17  8.461337e-17 -6.627203e-16 -0.064801   \n",
              "V23    -8.232727e-17  1.114524e-15  2.839721e-16  1.481903e-15 -0.112633   \n",
              "V24     1.015391e-15  1.343722e-16 -2.274142e-16 -2.819805e-16  0.005146   \n",
              "V25     1.000000e+00  2.646517e-15 -6.406679e-16 -7.008939e-16 -0.047837   \n",
              "V26     2.646517e-15  1.000000e+00 -3.667715e-16 -2.782204e-16 -0.003208   \n",
              "V27    -6.406679e-16 -3.667715e-16  1.000000e+00 -3.061287e-16  0.028825   \n",
              "V28    -7.008939e-16 -2.782204e-16 -3.061287e-16  1.000000e+00  0.010258   \n",
              "Amount -4.783686e-02 -3.208037e-03  2.882546e-02  1.025822e-02  1.000000   \n",
              "Class   3.307706e-03  4.455398e-03  1.757973e-02  9.536041e-03  0.005632   \n",
              "\n",
              "           Class  \n",
              "Time   -0.012323  \n",
              "V1     -0.101347  \n",
              "V2      0.091289  \n",
              "V3     -0.192961  \n",
              "V4      0.133447  \n",
              "V5     -0.094974  \n",
              "V6     -0.043643  \n",
              "V7     -0.187257  \n",
              "V8      0.019875  \n",
              "V9     -0.097733  \n",
              "V10    -0.216883  \n",
              "V11     0.154876  \n",
              "V12    -0.260593  \n",
              "V13    -0.004570  \n",
              "V14    -0.302544  \n",
              "V15    -0.004223  \n",
              "V16    -0.196539  \n",
              "V17    -0.326481  \n",
              "V18    -0.111485  \n",
              "V19     0.034783  \n",
              "V20     0.020090  \n",
              "V21     0.040413  \n",
              "V22     0.000805  \n",
              "V23    -0.002685  \n",
              "V24    -0.007221  \n",
              "V25     0.003308  \n",
              "V26     0.004455  \n",
              "V27     0.017580  \n",
              "V28     0.009536  \n",
              "Amount  0.005632  \n",
              "Class   1.000000  \n",
              "\n",
              "[31 rows x 31 columns]"
            ],
            "text/html": [
              "\n",
              "  <div id=\"df-2bc8121f-d6fb-47cd-a8cb-ef359e70ea2a\">\n",
              "    <div class=\"colab-df-container\">\n",
              "      <div>\n",
              "<style scoped>\n",
              "    .dataframe tbody tr th:only-of-type {\n",
              "        vertical-align: middle;\n",
              "    }\n",
              "\n",
              "    .dataframe tbody tr th {\n",
              "        vertical-align: top;\n",
              "    }\n",
              "\n",
              "    .dataframe thead th {\n",
              "        text-align: right;\n",
              "    }\n",
              "</style>\n",
              "<table border=\"1\" class=\"dataframe\">\n",
              "  <thead>\n",
              "    <tr style=\"text-align: right;\">\n",
              "      <th></th>\n",
              "      <th>Time</th>\n",
              "      <th>V1</th>\n",
              "      <th>V2</th>\n",
              "      <th>V3</th>\n",
              "      <th>V4</th>\n",
              "      <th>V5</th>\n",
              "      <th>V6</th>\n",
              "      <th>V7</th>\n",
              "      <th>V8</th>\n",
              "      <th>V9</th>\n",
              "      <th>...</th>\n",
              "      <th>V21</th>\n",
              "      <th>V22</th>\n",
              "      <th>V23</th>\n",
              "      <th>V24</th>\n",
              "      <th>V25</th>\n",
              "      <th>V26</th>\n",
              "      <th>V27</th>\n",
              "      <th>V28</th>\n",
              "      <th>Amount</th>\n",
              "      <th>Class</th>\n",
              "    </tr>\n",
              "  </thead>\n",
              "  <tbody>\n",
              "    <tr>\n",
              "      <th>Time</th>\n",
              "      <td>1.000000</td>\n",
              "      <td>1.173963e-01</td>\n",
              "      <td>-1.059333e-02</td>\n",
              "      <td>-4.196182e-01</td>\n",
              "      <td>-1.052602e-01</td>\n",
              "      <td>1.730721e-01</td>\n",
              "      <td>-6.301647e-02</td>\n",
              "      <td>8.471437e-02</td>\n",
              "      <td>-3.694943e-02</td>\n",
              "      <td>-8.660434e-03</td>\n",
              "      <td>...</td>\n",
              "      <td>4.473573e-02</td>\n",
              "      <td>1.440591e-01</td>\n",
              "      <td>5.114236e-02</td>\n",
              "      <td>-1.618187e-02</td>\n",
              "      <td>-2.330828e-01</td>\n",
              "      <td>-4.140710e-02</td>\n",
              "      <td>-5.134591e-03</td>\n",
              "      <td>-9.412688e-03</td>\n",
              "      <td>-0.010596</td>\n",
              "      <td>-0.012323</td>\n",
              "    </tr>\n",
              "    <tr>\n",
              "      <th>V1</th>\n",
              "      <td>0.117396</td>\n",
              "      <td>1.000000e+00</td>\n",
              "      <td>4.135835e-16</td>\n",
              "      <td>-1.227819e-15</td>\n",
              "      <td>-9.215150e-16</td>\n",
              "      <td>1.812612e-17</td>\n",
              "      <td>-6.506567e-16</td>\n",
              "      <td>-1.005191e-15</td>\n",
              "      <td>-2.433822e-16</td>\n",
              "      <td>-1.513678e-16</td>\n",
              "      <td>...</td>\n",
              "      <td>-2.457409e-16</td>\n",
              "      <td>-4.290944e-16</td>\n",
              "      <td>6.168652e-16</td>\n",
              "      <td>-4.425156e-17</td>\n",
              "      <td>-9.605737e-16</td>\n",
              "      <td>-1.581290e-17</td>\n",
              "      <td>1.198124e-16</td>\n",
              "      <td>2.083082e-15</td>\n",
              "      <td>-0.227709</td>\n",
              "      <td>-0.101347</td>\n",
              "    </tr>\n",
              "    <tr>\n",
              "      <th>V2</th>\n",
              "      <td>-0.010593</td>\n",
              "      <td>4.135835e-16</td>\n",
              "      <td>1.000000e+00</td>\n",
              "      <td>3.243764e-16</td>\n",
              "      <td>-1.121065e-15</td>\n",
              "      <td>5.157519e-16</td>\n",
              "      <td>2.787346e-16</td>\n",
              "      <td>2.055934e-16</td>\n",
              "      <td>-5.377041e-17</td>\n",
              "      <td>1.978488e-17</td>\n",
              "      <td>...</td>\n",
              "      <td>-8.480447e-17</td>\n",
              "      <td>1.526333e-16</td>\n",
              "      <td>1.634231e-16</td>\n",
              "      <td>1.247925e-17</td>\n",
              "      <td>-4.478846e-16</td>\n",
              "      <td>2.057310e-16</td>\n",
              "      <td>-4.966953e-16</td>\n",
              "      <td>-5.093836e-16</td>\n",
              "      <td>-0.531409</td>\n",
              "      <td>0.091289</td>\n",
              "    </tr>\n",
              "    <tr>\n",
              "      <th>V3</th>\n",
              "      <td>-0.419618</td>\n",
              "      <td>-1.227819e-15</td>\n",
              "      <td>3.243764e-16</td>\n",
              "      <td>1.000000e+00</td>\n",
              "      <td>4.711293e-16</td>\n",
              "      <td>-6.539009e-17</td>\n",
              "      <td>1.627627e-15</td>\n",
              "      <td>4.895305e-16</td>\n",
              "      <td>-1.268779e-15</td>\n",
              "      <td>5.568367e-16</td>\n",
              "      <td>...</td>\n",
              "      <td>5.706192e-17</td>\n",
              "      <td>-1.133902e-15</td>\n",
              "      <td>-4.983035e-16</td>\n",
              "      <td>2.686834e-19</td>\n",
              "      <td>-1.104734e-15</td>\n",
              "      <td>-1.238062e-16</td>\n",
              "      <td>1.045747e-15</td>\n",
              "      <td>9.775546e-16</td>\n",
              "      <td>-0.210880</td>\n",
              "      <td>-0.192961</td>\n",
              "    </tr>\n",
              "    <tr>\n",
              "      <th>V4</th>\n",
              "      <td>-0.105260</td>\n",
              "      <td>-9.215150e-16</td>\n",
              "      <td>-1.121065e-15</td>\n",
              "      <td>4.711293e-16</td>\n",
              "      <td>1.000000e+00</td>\n",
              "      <td>-1.719944e-15</td>\n",
              "      <td>-7.491959e-16</td>\n",
              "      <td>-4.104503e-16</td>\n",
              "      <td>5.697192e-16</td>\n",
              "      <td>6.923247e-16</td>\n",
              "      <td>...</td>\n",
              "      <td>-1.949553e-16</td>\n",
              "      <td>-6.276051e-17</td>\n",
              "      <td>9.164206e-17</td>\n",
              "      <td>1.584638e-16</td>\n",
              "      <td>6.070716e-16</td>\n",
              "      <td>-4.247268e-16</td>\n",
              "      <td>3.977061e-17</td>\n",
              "      <td>-2.761403e-18</td>\n",
              "      <td>0.098732</td>\n",
              "      <td>0.133447</td>\n",
              "    </tr>\n",
              "    <tr>\n",
              "      <th>V5</th>\n",
              "      <td>0.173072</td>\n",
              "      <td>1.812612e-17</td>\n",
              "      <td>5.157519e-16</td>\n",
              "      <td>-6.539009e-17</td>\n",
              "      <td>-1.719944e-15</td>\n",
              "      <td>1.000000e+00</td>\n",
              "      <td>2.408382e-16</td>\n",
              "      <td>2.715541e-16</td>\n",
              "      <td>7.437229e-16</td>\n",
              "      <td>7.391702e-16</td>\n",
              "      <td>...</td>\n",
              "      <td>-3.920976e-16</td>\n",
              "      <td>1.253751e-16</td>\n",
              "      <td>-8.428683e-18</td>\n",
              "      <td>-1.149255e-15</td>\n",
              "      <td>4.808532e-16</td>\n",
              "      <td>4.319541e-16</td>\n",
              "      <td>6.590482e-16</td>\n",
              "      <td>-5.613951e-18</td>\n",
              "      <td>-0.386356</td>\n",
              "      <td>-0.094974</td>\n",
              "    </tr>\n",
              "    <tr>\n",
              "      <th>V6</th>\n",
              "      <td>-0.063016</td>\n",
              "      <td>-6.506567e-16</td>\n",
              "      <td>2.787346e-16</td>\n",
              "      <td>1.627627e-15</td>\n",
              "      <td>-7.491959e-16</td>\n",
              "      <td>2.408382e-16</td>\n",
              "      <td>1.000000e+00</td>\n",
              "      <td>1.191668e-16</td>\n",
              "      <td>-1.104219e-16</td>\n",
              "      <td>4.131207e-16</td>\n",
              "      <td>...</td>\n",
              "      <td>5.833316e-17</td>\n",
              "      <td>-4.705235e-19</td>\n",
              "      <td>1.046712e-16</td>\n",
              "      <td>-1.071589e-15</td>\n",
              "      <td>4.562861e-16</td>\n",
              "      <td>-1.357067e-16</td>\n",
              "      <td>-4.452461e-16</td>\n",
              "      <td>2.594754e-16</td>\n",
              "      <td>0.215981</td>\n",
              "      <td>-0.043643</td>\n",
              "    </tr>\n",
              "    <tr>\n",
              "      <th>V7</th>\n",
              "      <td>0.084714</td>\n",
              "      <td>-1.005191e-15</td>\n",
              "      <td>2.055934e-16</td>\n",
              "      <td>4.895305e-16</td>\n",
              "      <td>-4.104503e-16</td>\n",
              "      <td>2.715541e-16</td>\n",
              "      <td>1.191668e-16</td>\n",
              "      <td>1.000000e+00</td>\n",
              "      <td>3.344412e-16</td>\n",
              "      <td>1.122501e-15</td>\n",
              "      <td>...</td>\n",
              "      <td>-2.027779e-16</td>\n",
              "      <td>-8.898922e-16</td>\n",
              "      <td>-4.387401e-16</td>\n",
              "      <td>7.434913e-18</td>\n",
              "      <td>-3.094082e-16</td>\n",
              "      <td>-9.657637e-16</td>\n",
              "      <td>-1.782106e-15</td>\n",
              "      <td>-2.776530e-16</td>\n",
              "      <td>0.397311</td>\n",
              "      <td>-0.187257</td>\n",
              "    </tr>\n",
              "    <tr>\n",
              "      <th>V8</th>\n",
              "      <td>-0.036949</td>\n",
              "      <td>-2.433822e-16</td>\n",
              "      <td>-5.377041e-17</td>\n",
              "      <td>-1.268779e-15</td>\n",
              "      <td>5.697192e-16</td>\n",
              "      <td>7.437229e-16</td>\n",
              "      <td>-1.104219e-16</td>\n",
              "      <td>3.344412e-16</td>\n",
              "      <td>1.000000e+00</td>\n",
              "      <td>4.356078e-16</td>\n",
              "      <td>...</td>\n",
              "      <td>3.892798e-16</td>\n",
              "      <td>2.026927e-16</td>\n",
              "      <td>6.377260e-17</td>\n",
              "      <td>-1.047097e-16</td>\n",
              "      <td>-4.653279e-16</td>\n",
              "      <td>-1.727276e-16</td>\n",
              "      <td>1.299943e-16</td>\n",
              "      <td>-6.200930e-16</td>\n",
              "      <td>-0.103079</td>\n",
              "      <td>0.019875</td>\n",
              "    </tr>\n",
              "    <tr>\n",
              "      <th>V9</th>\n",
              "      <td>-0.008660</td>\n",
              "      <td>-1.513678e-16</td>\n",
              "      <td>1.978488e-17</td>\n",
              "      <td>5.568367e-16</td>\n",
              "      <td>6.923247e-16</td>\n",
              "      <td>7.391702e-16</td>\n",
              "      <td>4.131207e-16</td>\n",
              "      <td>1.122501e-15</td>\n",
              "      <td>4.356078e-16</td>\n",
              "      <td>1.000000e+00</td>\n",
              "      <td>...</td>\n",
              "      <td>1.936953e-16</td>\n",
              "      <td>-7.071869e-16</td>\n",
              "      <td>-5.214137e-16</td>\n",
              "      <td>-1.430343e-16</td>\n",
              "      <td>6.757763e-16</td>\n",
              "      <td>-7.888853e-16</td>\n",
              "      <td>-6.709655e-17</td>\n",
              "      <td>1.110541e-15</td>\n",
              "      <td>-0.044246</td>\n",
              "      <td>-0.097733</td>\n",
              "    </tr>\n",
              "    <tr>\n",
              "      <th>V10</th>\n",
              "      <td>0.030617</td>\n",
              "      <td>7.388135e-17</td>\n",
              "      <td>-3.991394e-16</td>\n",
              "      <td>1.156587e-15</td>\n",
              "      <td>2.232685e-16</td>\n",
              "      <td>-5.202306e-16</td>\n",
              "      <td>5.932243e-17</td>\n",
              "      <td>-7.492834e-17</td>\n",
              "      <td>-2.801370e-16</td>\n",
              "      <td>-4.642274e-16</td>\n",
              "      <td>...</td>\n",
              "      <td>1.177547e-15</td>\n",
              "      <td>-6.418202e-16</td>\n",
              "      <td>3.214491e-16</td>\n",
              "      <td>-1.355885e-16</td>\n",
              "      <td>-2.846052e-16</td>\n",
              "      <td>-3.028119e-16</td>\n",
              "      <td>-2.197977e-16</td>\n",
              "      <td>4.864782e-17</td>\n",
              "      <td>-0.101502</td>\n",
              "      <td>-0.216883</td>\n",
              "    </tr>\n",
              "    <tr>\n",
              "      <th>V11</th>\n",
              "      <td>-0.247689</td>\n",
              "      <td>2.125498e-16</td>\n",
              "      <td>1.975426e-16</td>\n",
              "      <td>1.576830e-15</td>\n",
              "      <td>3.459380e-16</td>\n",
              "      <td>7.203963e-16</td>\n",
              "      <td>1.980503e-15</td>\n",
              "      <td>1.425248e-16</td>\n",
              "      <td>2.487043e-16</td>\n",
              "      <td>1.354680e-16</td>\n",
              "      <td>...</td>\n",
              "      <td>-5.658364e-16</td>\n",
              "      <td>7.772895e-16</td>\n",
              "      <td>-4.505332e-16</td>\n",
              "      <td>1.933267e-15</td>\n",
              "      <td>-5.600475e-16</td>\n",
              "      <td>-1.003221e-16</td>\n",
              "      <td>-2.640281e-16</td>\n",
              "      <td>-3.792314e-16</td>\n",
              "      <td>0.000104</td>\n",
              "      <td>0.154876</td>\n",
              "    </tr>\n",
              "    <tr>\n",
              "      <th>V12</th>\n",
              "      <td>0.124348</td>\n",
              "      <td>2.053457e-16</td>\n",
              "      <td>-9.568710e-17</td>\n",
              "      <td>6.310231e-16</td>\n",
              "      <td>-5.625518e-16</td>\n",
              "      <td>7.412552e-16</td>\n",
              "      <td>2.375468e-16</td>\n",
              "      <td>-3.536655e-18</td>\n",
              "      <td>1.839891e-16</td>\n",
              "      <td>-1.079314e-15</td>\n",
              "      <td>...</td>\n",
              "      <td>7.300527e-16</td>\n",
              "      <td>1.644699e-16</td>\n",
              "      <td>1.800885e-16</td>\n",
              "      <td>4.436512e-16</td>\n",
              "      <td>-5.712973e-16</td>\n",
              "      <td>-2.359969e-16</td>\n",
              "      <td>-4.672391e-16</td>\n",
              "      <td>6.415167e-16</td>\n",
              "      <td>-0.009542</td>\n",
              "      <td>-0.260593</td>\n",
              "    </tr>\n",
              "    <tr>\n",
              "      <th>V13</th>\n",
              "      <td>-0.065902</td>\n",
              "      <td>-2.425603e-17</td>\n",
              "      <td>6.295388e-16</td>\n",
              "      <td>2.807652e-16</td>\n",
              "      <td>1.303306e-16</td>\n",
              "      <td>5.886991e-16</td>\n",
              "      <td>-1.211182e-16</td>\n",
              "      <td>1.266462e-17</td>\n",
              "      <td>-2.921856e-16</td>\n",
              "      <td>2.251072e-15</td>\n",
              "      <td>...</td>\n",
              "      <td>1.008461e-16</td>\n",
              "      <td>6.747721e-17</td>\n",
              "      <td>-7.132064e-16</td>\n",
              "      <td>-1.397470e-16</td>\n",
              "      <td>-5.497612e-16</td>\n",
              "      <td>-1.769255e-16</td>\n",
              "      <td>-4.720898e-16</td>\n",
              "      <td>1.144372e-15</td>\n",
              "      <td>0.005293</td>\n",
              "      <td>-0.004570</td>\n",
              "    </tr>\n",
              "    <tr>\n",
              "      <th>V14</th>\n",
              "      <td>-0.098757</td>\n",
              "      <td>-5.020280e-16</td>\n",
              "      <td>-1.730566e-16</td>\n",
              "      <td>4.739859e-16</td>\n",
              "      <td>2.282280e-16</td>\n",
              "      <td>6.565143e-16</td>\n",
              "      <td>2.621312e-16</td>\n",
              "      <td>2.607772e-16</td>\n",
              "      <td>-8.599156e-16</td>\n",
              "      <td>3.784757e-15</td>\n",
              "      <td>...</td>\n",
              "      <td>-3.356561e-16</td>\n",
              "      <td>3.740383e-16</td>\n",
              "      <td>3.883204e-16</td>\n",
              "      <td>2.003482e-16</td>\n",
              "      <td>-8.547932e-16</td>\n",
              "      <td>-1.660327e-16</td>\n",
              "      <td>1.044274e-16</td>\n",
              "      <td>2.289427e-15</td>\n",
              "      <td>0.033751</td>\n",
              "      <td>-0.302544</td>\n",
              "    </tr>\n",
              "    <tr>\n",
              "      <th>V15</th>\n",
              "      <td>-0.183453</td>\n",
              "      <td>3.547782e-16</td>\n",
              "      <td>-4.995814e-17</td>\n",
              "      <td>9.068793e-16</td>\n",
              "      <td>1.377649e-16</td>\n",
              "      <td>-8.720275e-16</td>\n",
              "      <td>-1.531188e-15</td>\n",
              "      <td>-1.690540e-16</td>\n",
              "      <td>4.127777e-16</td>\n",
              "      <td>-1.051167e-15</td>\n",
              "      <td>...</td>\n",
              "      <td>6.605263e-17</td>\n",
              "      <td>-4.208921e-16</td>\n",
              "      <td>-3.912243e-16</td>\n",
              "      <td>-4.478263e-16</td>\n",
              "      <td>3.206423e-16</td>\n",
              "      <td>2.817791e-16</td>\n",
              "      <td>-1.143519e-15</td>\n",
              "      <td>-1.194130e-15</td>\n",
              "      <td>-0.002986</td>\n",
              "      <td>-0.004223</td>\n",
              "    </tr>\n",
              "    <tr>\n",
              "      <th>V16</th>\n",
              "      <td>0.011903</td>\n",
              "      <td>7.212815e-17</td>\n",
              "      <td>1.177316e-17</td>\n",
              "      <td>8.299445e-16</td>\n",
              "      <td>-9.614528e-16</td>\n",
              "      <td>2.246261e-15</td>\n",
              "      <td>2.623672e-18</td>\n",
              "      <td>5.869302e-17</td>\n",
              "      <td>-5.254741e-16</td>\n",
              "      <td>-1.214086e-15</td>\n",
              "      <td>...</td>\n",
              "      <td>-4.715090e-16</td>\n",
              "      <td>-7.923387e-17</td>\n",
              "      <td>5.020770e-16</td>\n",
              "      <td>-3.005985e-16</td>\n",
              "      <td>-1.345418e-15</td>\n",
              "      <td>-7.290010e-16</td>\n",
              "      <td>6.789513e-16</td>\n",
              "      <td>7.588849e-16</td>\n",
              "      <td>-0.003910</td>\n",
              "      <td>-0.196539</td>\n",
              "    </tr>\n",
              "    <tr>\n",
              "      <th>V17</th>\n",
              "      <td>-0.073297</td>\n",
              "      <td>-3.879840e-16</td>\n",
              "      <td>-2.685296e-16</td>\n",
              "      <td>7.614712e-16</td>\n",
              "      <td>-2.699612e-16</td>\n",
              "      <td>1.281914e-16</td>\n",
              "      <td>2.015618e-16</td>\n",
              "      <td>2.177192e-16</td>\n",
              "      <td>-2.269549e-16</td>\n",
              "      <td>1.113695e-15</td>\n",
              "      <td>...</td>\n",
              "      <td>-8.230527e-16</td>\n",
              "      <td>-8.743398e-16</td>\n",
              "      <td>3.706214e-16</td>\n",
              "      <td>-2.403828e-16</td>\n",
              "      <td>2.666806e-16</td>\n",
              "      <td>6.932833e-16</td>\n",
              "      <td>6.148525e-16</td>\n",
              "      <td>-5.534540e-17</td>\n",
              "      <td>0.007309</td>\n",
              "      <td>-0.326481</td>\n",
              "    </tr>\n",
              "    <tr>\n",
              "      <th>V18</th>\n",
              "      <td>0.090438</td>\n",
              "      <td>3.230206e-17</td>\n",
              "      <td>3.284605e-16</td>\n",
              "      <td>1.509897e-16</td>\n",
              "      <td>-5.103644e-16</td>\n",
              "      <td>5.308590e-16</td>\n",
              "      <td>1.223814e-16</td>\n",
              "      <td>7.604126e-17</td>\n",
              "      <td>-3.667974e-16</td>\n",
              "      <td>4.993240e-16</td>\n",
              "      <td>...</td>\n",
              "      <td>-9.408680e-16</td>\n",
              "      <td>-4.819365e-16</td>\n",
              "      <td>-1.912006e-16</td>\n",
              "      <td>-8.986916e-17</td>\n",
              "      <td>-6.629212e-17</td>\n",
              "      <td>2.990167e-16</td>\n",
              "      <td>2.242791e-16</td>\n",
              "      <td>7.976796e-16</td>\n",
              "      <td>0.035650</td>\n",
              "      <td>-0.111485</td>\n",
              "    </tr>\n",
              "    <tr>\n",
              "      <th>V19</th>\n",
              "      <td>0.028975</td>\n",
              "      <td>1.502024e-16</td>\n",
              "      <td>-7.118719e-18</td>\n",
              "      <td>3.463522e-16</td>\n",
              "      <td>-3.980557e-16</td>\n",
              "      <td>-1.450421e-16</td>\n",
              "      <td>-1.865597e-16</td>\n",
              "      <td>-1.881008e-16</td>\n",
              "      <td>-3.875186e-16</td>\n",
              "      <td>-1.376135e-16</td>\n",
              "      <td>...</td>\n",
              "      <td>5.115885e-16</td>\n",
              "      <td>-1.163768e-15</td>\n",
              "      <td>7.032035e-16</td>\n",
              "      <td>2.587708e-17</td>\n",
              "      <td>9.577163e-16</td>\n",
              "      <td>5.898033e-16</td>\n",
              "      <td>-2.959370e-16</td>\n",
              "      <td>-1.405379e-15</td>\n",
              "      <td>-0.056151</td>\n",
              "      <td>0.034783</td>\n",
              "    </tr>\n",
              "    <tr>\n",
              "      <th>V20</th>\n",
              "      <td>-0.050866</td>\n",
              "      <td>4.654551e-16</td>\n",
              "      <td>2.506675e-16</td>\n",
              "      <td>-9.316409e-16</td>\n",
              "      <td>-1.857247e-16</td>\n",
              "      <td>-3.554057e-16</td>\n",
              "      <td>-1.858755e-16</td>\n",
              "      <td>9.379684e-16</td>\n",
              "      <td>2.033737e-16</td>\n",
              "      <td>-2.343720e-16</td>\n",
              "      <td>...</td>\n",
              "      <td>-7.614597e-16</td>\n",
              "      <td>1.009285e-15</td>\n",
              "      <td>2.712885e-16</td>\n",
              "      <td>1.277215e-16</td>\n",
              "      <td>1.410054e-16</td>\n",
              "      <td>-2.803504e-16</td>\n",
              "      <td>-1.138829e-15</td>\n",
              "      <td>-2.436795e-16</td>\n",
              "      <td>0.339403</td>\n",
              "      <td>0.020090</td>\n",
              "    </tr>\n",
              "    <tr>\n",
              "      <th>V21</th>\n",
              "      <td>0.044736</td>\n",
              "      <td>-2.457409e-16</td>\n",
              "      <td>-8.480447e-17</td>\n",
              "      <td>5.706192e-17</td>\n",
              "      <td>-1.949553e-16</td>\n",
              "      <td>-3.920976e-16</td>\n",
              "      <td>5.833316e-17</td>\n",
              "      <td>-2.027779e-16</td>\n",
              "      <td>3.892798e-16</td>\n",
              "      <td>1.936953e-16</td>\n",
              "      <td>...</td>\n",
              "      <td>1.000000e+00</td>\n",
              "      <td>3.649908e-15</td>\n",
              "      <td>8.119580e-16</td>\n",
              "      <td>1.761054e-16</td>\n",
              "      <td>-1.686082e-16</td>\n",
              "      <td>-5.557329e-16</td>\n",
              "      <td>-1.211281e-15</td>\n",
              "      <td>5.278775e-16</td>\n",
              "      <td>0.105999</td>\n",
              "      <td>0.040413</td>\n",
              "    </tr>\n",
              "    <tr>\n",
              "      <th>V22</th>\n",
              "      <td>0.144059</td>\n",
              "      <td>-4.290944e-16</td>\n",
              "      <td>1.526333e-16</td>\n",
              "      <td>-1.133902e-15</td>\n",
              "      <td>-6.276051e-17</td>\n",
              "      <td>1.253751e-16</td>\n",
              "      <td>-4.705235e-19</td>\n",
              "      <td>-8.898922e-16</td>\n",
              "      <td>2.026927e-16</td>\n",
              "      <td>-7.071869e-16</td>\n",
              "      <td>...</td>\n",
              "      <td>3.649908e-15</td>\n",
              "      <td>1.000000e+00</td>\n",
              "      <td>-7.303916e-17</td>\n",
              "      <td>9.970809e-17</td>\n",
              "      <td>-5.018575e-16</td>\n",
              "      <td>-2.503187e-17</td>\n",
              "      <td>8.461337e-17</td>\n",
              "      <td>-6.627203e-16</td>\n",
              "      <td>-0.064801</td>\n",
              "      <td>0.000805</td>\n",
              "    </tr>\n",
              "    <tr>\n",
              "      <th>V23</th>\n",
              "      <td>0.051142</td>\n",
              "      <td>6.168652e-16</td>\n",
              "      <td>1.634231e-16</td>\n",
              "      <td>-4.983035e-16</td>\n",
              "      <td>9.164206e-17</td>\n",
              "      <td>-8.428683e-18</td>\n",
              "      <td>1.046712e-16</td>\n",
              "      <td>-4.387401e-16</td>\n",
              "      <td>6.377260e-17</td>\n",
              "      <td>-5.214137e-16</td>\n",
              "      <td>...</td>\n",
              "      <td>8.119580e-16</td>\n",
              "      <td>-7.303916e-17</td>\n",
              "      <td>1.000000e+00</td>\n",
              "      <td>2.130519e-17</td>\n",
              "      <td>-8.232727e-17</td>\n",
              "      <td>1.114524e-15</td>\n",
              "      <td>2.839721e-16</td>\n",
              "      <td>1.481903e-15</td>\n",
              "      <td>-0.112633</td>\n",
              "      <td>-0.002685</td>\n",
              "    </tr>\n",
              "    <tr>\n",
              "      <th>V24</th>\n",
              "      <td>-0.016182</td>\n",
              "      <td>-4.425156e-17</td>\n",
              "      <td>1.247925e-17</td>\n",
              "      <td>2.686834e-19</td>\n",
              "      <td>1.584638e-16</td>\n",
              "      <td>-1.149255e-15</td>\n",
              "      <td>-1.071589e-15</td>\n",
              "      <td>7.434913e-18</td>\n",
              "      <td>-1.047097e-16</td>\n",
              "      <td>-1.430343e-16</td>\n",
              "      <td>...</td>\n",
              "      <td>1.761054e-16</td>\n",
              "      <td>9.970809e-17</td>\n",
              "      <td>2.130519e-17</td>\n",
              "      <td>1.000000e+00</td>\n",
              "      <td>1.015391e-15</td>\n",
              "      <td>1.343722e-16</td>\n",
              "      <td>-2.274142e-16</td>\n",
              "      <td>-2.819805e-16</td>\n",
              "      <td>0.005146</td>\n",
              "      <td>-0.007221</td>\n",
              "    </tr>\n",
              "    <tr>\n",
              "      <th>V25</th>\n",
              "      <td>-0.233083</td>\n",
              "      <td>-9.605737e-16</td>\n",
              "      <td>-4.478846e-16</td>\n",
              "      <td>-1.104734e-15</td>\n",
              "      <td>6.070716e-16</td>\n",
              "      <td>4.808532e-16</td>\n",
              "      <td>4.562861e-16</td>\n",
              "      <td>-3.094082e-16</td>\n",
              "      <td>-4.653279e-16</td>\n",
              "      <td>6.757763e-16</td>\n",
              "      <td>...</td>\n",
              "      <td>-1.686082e-16</td>\n",
              "      <td>-5.018575e-16</td>\n",
              "      <td>-8.232727e-17</td>\n",
              "      <td>1.015391e-15</td>\n",
              "      <td>1.000000e+00</td>\n",
              "      <td>2.646517e-15</td>\n",
              "      <td>-6.406679e-16</td>\n",
              "      <td>-7.008939e-16</td>\n",
              "      <td>-0.047837</td>\n",
              "      <td>0.003308</td>\n",
              "    </tr>\n",
              "    <tr>\n",
              "      <th>V26</th>\n",
              "      <td>-0.041407</td>\n",
              "      <td>-1.581290e-17</td>\n",
              "      <td>2.057310e-16</td>\n",
              "      <td>-1.238062e-16</td>\n",
              "      <td>-4.247268e-16</td>\n",
              "      <td>4.319541e-16</td>\n",
              "      <td>-1.357067e-16</td>\n",
              "      <td>-9.657637e-16</td>\n",
              "      <td>-1.727276e-16</td>\n",
              "      <td>-7.888853e-16</td>\n",
              "      <td>...</td>\n",
              "      <td>-5.557329e-16</td>\n",
              "      <td>-2.503187e-17</td>\n",
              "      <td>1.114524e-15</td>\n",
              "      <td>1.343722e-16</td>\n",
              "      <td>2.646517e-15</td>\n",
              "      <td>1.000000e+00</td>\n",
              "      <td>-3.667715e-16</td>\n",
              "      <td>-2.782204e-16</td>\n",
              "      <td>-0.003208</td>\n",
              "      <td>0.004455</td>\n",
              "    </tr>\n",
              "    <tr>\n",
              "      <th>V27</th>\n",
              "      <td>-0.005135</td>\n",
              "      <td>1.198124e-16</td>\n",
              "      <td>-4.966953e-16</td>\n",
              "      <td>1.045747e-15</td>\n",
              "      <td>3.977061e-17</td>\n",
              "      <td>6.590482e-16</td>\n",
              "      <td>-4.452461e-16</td>\n",
              "      <td>-1.782106e-15</td>\n",
              "      <td>1.299943e-16</td>\n",
              "      <td>-6.709655e-17</td>\n",
              "      <td>...</td>\n",
              "      <td>-1.211281e-15</td>\n",
              "      <td>8.461337e-17</td>\n",
              "      <td>2.839721e-16</td>\n",
              "      <td>-2.274142e-16</td>\n",
              "      <td>-6.406679e-16</td>\n",
              "      <td>-3.667715e-16</td>\n",
              "      <td>1.000000e+00</td>\n",
              "      <td>-3.061287e-16</td>\n",
              "      <td>0.028825</td>\n",
              "      <td>0.017580</td>\n",
              "    </tr>\n",
              "    <tr>\n",
              "      <th>V28</th>\n",
              "      <td>-0.009413</td>\n",
              "      <td>2.083082e-15</td>\n",
              "      <td>-5.093836e-16</td>\n",
              "      <td>9.775546e-16</td>\n",
              "      <td>-2.761403e-18</td>\n",
              "      <td>-5.613951e-18</td>\n",
              "      <td>2.594754e-16</td>\n",
              "      <td>-2.776530e-16</td>\n",
              "      <td>-6.200930e-16</td>\n",
              "      <td>1.110541e-15</td>\n",
              "      <td>...</td>\n",
              "      <td>5.278775e-16</td>\n",
              "      <td>-6.627203e-16</td>\n",
              "      <td>1.481903e-15</td>\n",
              "      <td>-2.819805e-16</td>\n",
              "      <td>-7.008939e-16</td>\n",
              "      <td>-2.782204e-16</td>\n",
              "      <td>-3.061287e-16</td>\n",
              "      <td>1.000000e+00</td>\n",
              "      <td>0.010258</td>\n",
              "      <td>0.009536</td>\n",
              "    </tr>\n",
              "    <tr>\n",
              "      <th>Amount</th>\n",
              "      <td>-0.010596</td>\n",
              "      <td>-2.277087e-01</td>\n",
              "      <td>-5.314089e-01</td>\n",
              "      <td>-2.108805e-01</td>\n",
              "      <td>9.873167e-02</td>\n",
              "      <td>-3.863563e-01</td>\n",
              "      <td>2.159812e-01</td>\n",
              "      <td>3.973113e-01</td>\n",
              "      <td>-1.030791e-01</td>\n",
              "      <td>-4.424560e-02</td>\n",
              "      <td>...</td>\n",
              "      <td>1.059989e-01</td>\n",
              "      <td>-6.480065e-02</td>\n",
              "      <td>-1.126326e-01</td>\n",
              "      <td>5.146217e-03</td>\n",
              "      <td>-4.783686e-02</td>\n",
              "      <td>-3.208037e-03</td>\n",
              "      <td>2.882546e-02</td>\n",
              "      <td>1.025822e-02</td>\n",
              "      <td>1.000000</td>\n",
              "      <td>0.005632</td>\n",
              "    </tr>\n",
              "    <tr>\n",
              "      <th>Class</th>\n",
              "      <td>-0.012323</td>\n",
              "      <td>-1.013473e-01</td>\n",
              "      <td>9.128865e-02</td>\n",
              "      <td>-1.929608e-01</td>\n",
              "      <td>1.334475e-01</td>\n",
              "      <td>-9.497430e-02</td>\n",
              "      <td>-4.364316e-02</td>\n",
              "      <td>-1.872566e-01</td>\n",
              "      <td>1.987512e-02</td>\n",
              "      <td>-9.773269e-02</td>\n",
              "      <td>...</td>\n",
              "      <td>4.041338e-02</td>\n",
              "      <td>8.053175e-04</td>\n",
              "      <td>-2.685156e-03</td>\n",
              "      <td>-7.220907e-03</td>\n",
              "      <td>3.307706e-03</td>\n",
              "      <td>4.455398e-03</td>\n",
              "      <td>1.757973e-02</td>\n",
              "      <td>9.536041e-03</td>\n",
              "      <td>0.005632</td>\n",
              "      <td>1.000000</td>\n",
              "    </tr>\n",
              "  </tbody>\n",
              "</table>\n",
              "<p>31 rows × 31 columns</p>\n",
              "</div>\n",
              "      <button class=\"colab-df-convert\" onclick=\"convertToInteractive('df-2bc8121f-d6fb-47cd-a8cb-ef359e70ea2a')\"\n",
              "              title=\"Convert this dataframe to an interactive table.\"\n",
              "              style=\"display:none;\">\n",
              "        \n",
              "  <svg xmlns=\"http://www.w3.org/2000/svg\" height=\"24px\"viewBox=\"0 0 24 24\"\n",
              "       width=\"24px\">\n",
              "    <path d=\"M0 0h24v24H0V0z\" fill=\"none\"/>\n",
              "    <path d=\"M18.56 5.44l.94 2.06.94-2.06 2.06-.94-2.06-.94-.94-2.06-.94 2.06-2.06.94zm-11 1L8.5 8.5l.94-2.06 2.06-.94-2.06-.94L8.5 2.5l-.94 2.06-2.06.94zm10 10l.94 2.06.94-2.06 2.06-.94-2.06-.94-.94-2.06-.94 2.06-2.06.94z\"/><path d=\"M17.41 7.96l-1.37-1.37c-.4-.4-.92-.59-1.43-.59-.52 0-1.04.2-1.43.59L10.3 9.45l-7.72 7.72c-.78.78-.78 2.05 0 2.83L4 21.41c.39.39.9.59 1.41.59.51 0 1.02-.2 1.41-.59l7.78-7.78 2.81-2.81c.8-.78.8-2.07 0-2.86zM5.41 20L4 18.59l7.72-7.72 1.47 1.35L5.41 20z\"/>\n",
              "  </svg>\n",
              "      </button>\n",
              "      \n",
              "  <style>\n",
              "    .colab-df-container {\n",
              "      display:flex;\n",
              "      flex-wrap:wrap;\n",
              "      gap: 12px;\n",
              "    }\n",
              "\n",
              "    .colab-df-convert {\n",
              "      background-color: #E8F0FE;\n",
              "      border: none;\n",
              "      border-radius: 50%;\n",
              "      cursor: pointer;\n",
              "      display: none;\n",
              "      fill: #1967D2;\n",
              "      height: 32px;\n",
              "      padding: 0 0 0 0;\n",
              "      width: 32px;\n",
              "    }\n",
              "\n",
              "    .colab-df-convert:hover {\n",
              "      background-color: #E2EBFA;\n",
              "      box-shadow: 0px 1px 2px rgba(60, 64, 67, 0.3), 0px 1px 3px 1px rgba(60, 64, 67, 0.15);\n",
              "      fill: #174EA6;\n",
              "    }\n",
              "\n",
              "    [theme=dark] .colab-df-convert {\n",
              "      background-color: #3B4455;\n",
              "      fill: #D2E3FC;\n",
              "    }\n",
              "\n",
              "    [theme=dark] .colab-df-convert:hover {\n",
              "      background-color: #434B5C;\n",
              "      box-shadow: 0px 1px 3px 1px rgba(0, 0, 0, 0.15);\n",
              "      filter: drop-shadow(0px 1px 2px rgba(0, 0, 0, 0.3));\n",
              "      fill: #FFFFFF;\n",
              "    }\n",
              "  </style>\n",
              "\n",
              "      <script>\n",
              "        const buttonEl =\n",
              "          document.querySelector('#df-2bc8121f-d6fb-47cd-a8cb-ef359e70ea2a button.colab-df-convert');\n",
              "        buttonEl.style.display =\n",
              "          google.colab.kernel.accessAllowed ? 'block' : 'none';\n",
              "\n",
              "        async function convertToInteractive(key) {\n",
              "          const element = document.querySelector('#df-2bc8121f-d6fb-47cd-a8cb-ef359e70ea2a');\n",
              "          const dataTable =\n",
              "            await google.colab.kernel.invokeFunction('convertToInteractive',\n",
              "                                                     [key], {});\n",
              "          if (!dataTable) return;\n",
              "\n",
              "          const docLinkHtml = 'Like what you see? Visit the ' +\n",
              "            '<a target=\"_blank\" href=https://colab.research.google.com/notebooks/data_table.ipynb>data table notebook</a>'\n",
              "            + ' to learn more about interactive tables.';\n",
              "          element.innerHTML = '';\n",
              "          dataTable['output_type'] = 'display_data';\n",
              "          await google.colab.output.renderOutput(dataTable, element);\n",
              "          const docLink = document.createElement('div');\n",
              "          docLink.innerHTML = docLinkHtml;\n",
              "          element.appendChild(docLink);\n",
              "        }\n",
              "      </script>\n",
              "    </div>\n",
              "  </div>\n",
              "  "
            ]
          },
          "metadata": {},
          "execution_count": 14
        },
        {
          "output_type": "stream",
          "name": "stdout",
          "text": [
            "time: 883 ms (started: 2022-05-10 00:30:57 +00:00)\n"
          ]
        }
      ],
      "source": [
        "data.corr()"
      ]
    },
    {
      "cell_type": "code",
      "execution_count": null,
      "metadata": {
        "colab": {
          "base_uri": "https://localhost:8080/",
          "height": 986
        },
        "id": "ZcmHYTN8k4lu",
        "outputId": "2c2d1737-e089-4280-cc4b-d5adba0fa6fb"
      },
      "outputs": [
        {
          "output_type": "execute_result",
          "data": {
            "text/plain": [
              "<matplotlib.axes._subplots.AxesSubplot at 0x7f7ff89af490>"
            ]
          },
          "metadata": {},
          "execution_count": 15
        },
        {
          "output_type": "display_data",
          "data": {
            "text/plain": [
              "<Figure size 1152x1152 with 2 Axes>"
            ],
            "image/png": "[encoded data removed]"
          },
          "metadata": {
            "needs_background": "light"
          }
        },
        {
          "output_type": "stream",
          "name": "stdout",
          "text": [
            "time: 1.57 s (started: 2022-05-10 00:30:58 +00:00)\n"
          ]
        }
      ],
      "source": [
        "plt.figure(figsize=(16,16))\n",
        "sns.heatmap(data.corr())"
      ]
    },
    {
      "cell_type": "markdown",
      "metadata": {
        "id": "_pSY3vDxo5-E"
      },
      "source": [
        "Correlations with the target variable"
      ]
    },
    {
      "cell_type": "code",
      "execution_count": null,
      "metadata": {
        "colab": {
          "base_uri": "https://localhost:8080/"
        },
        "id": "iPtjK2sXpDto",
        "outputId": "669fb339-5563-4d3b-c38d-05d5400315f9"
      },
      "outputs": [
        {
          "output_type": "execute_result",
          "data": {
            "text/plain": [
              "Class     1.000000\n",
              "V17       0.326481\n",
              "V14       0.302544\n",
              "V12       0.260593\n",
              "V10       0.216883\n",
              "V16       0.196539\n",
              "V3        0.192961\n",
              "V7        0.187257\n",
              "V11       0.154876\n",
              "V4        0.133447\n",
              "V18       0.111485\n",
              "V1        0.101347\n",
              "V9        0.097733\n",
              "V5        0.094974\n",
              "V2        0.091289\n",
              "V6        0.043643\n",
              "V21       0.040413\n",
              "V19       0.034783\n",
              "V20       0.020090\n",
              "V8        0.019875\n",
              "V27       0.017580\n",
              "Time      0.012323\n",
              "V28       0.009536\n",
              "V24       0.007221\n",
              "Amount    0.005632\n",
              "V13       0.004570\n",
              "V26       0.004455\n",
              "V15       0.004223\n",
              "V25       0.003308\n",
              "V23       0.002685\n",
              "V22       0.000805\n",
              "Name: Class, dtype: float64"
            ]
          },
          "metadata": {},
          "execution_count": 16
        },
        {
          "output_type": "stream",
          "name": "stdout",
          "text": [
            "time: 817 ms (started: 2022-05-10 00:30:59 +00:00)\n"
          ]
        }
      ],
      "source": [
        "abs(data.corr()['Class']).sort_values(ascending=False)"
      ]
    },
    {
      "cell_type": "markdown",
      "metadata": {
        "id": "HGNQcaPupMi_"
      },
      "source": [
        "Correlations with amount"
      ]
    },
    {
      "cell_type": "code",
      "execution_count": null,
      "metadata": {
        "colab": {
          "base_uri": "https://localhost:8080/"
        },
        "id": "fFXZ4xPEpG8r",
        "outputId": "38c1faad-32d7-4989-cf0d-a364d7ed967f"
      },
      "outputs": [
        {
          "output_type": "execute_result",
          "data": {
            "text/plain": [
              "Amount    1.000000\n",
              "V2        0.531409\n",
              "V7        0.397311\n",
              "V5        0.386356\n",
              "V20       0.339403\n",
              "V1        0.227709\n",
              "V6        0.215981\n",
              "V3        0.210880\n",
              "V23       0.112633\n",
              "V21       0.105999\n",
              "V8        0.103079\n",
              "V10       0.101502\n",
              "V4        0.098732\n",
              "V22       0.064801\n",
              "V19       0.056151\n",
              "V25       0.047837\n",
              "V9        0.044246\n",
              "V18       0.035650\n",
              "V14       0.033751\n",
              "V27       0.028825\n",
              "Time      0.010596\n",
              "V28       0.010258\n",
              "V12       0.009542\n",
              "V17       0.007309\n",
              "Class     0.005632\n",
              "V13       0.005293\n",
              "V24       0.005146\n",
              "V16       0.003910\n",
              "V26       0.003208\n",
              "V15       0.002986\n",
              "V11       0.000104\n",
              "Name: Amount, dtype: float64"
            ]
          },
          "metadata": {},
          "execution_count": 17
        },
        {
          "output_type": "stream",
          "name": "stdout",
          "text": [
            "time: 826 ms (started: 2022-05-10 00:31:00 +00:00)\n"
          ]
        }
      ],
      "source": [
        "abs(data.corr()['Amount']).sort_values(ascending=False)"
      ]
    },
    {
      "cell_type": "markdown",
      "metadata": {
        "id": "VT6QnAGMpfi2"
      },
      "source": [
        "## Preprocessing"
      ]
    },
    {
      "cell_type": "markdown",
      "metadata": {
        "id": "NhxfPchQpjnj"
      },
      "source": [
        "Feature 'Time' contains the seconds elapsed between each transaction and the first transaction in the dataset. So, we don't need it."
      ]
    },
    {
      "cell_type": "code",
      "execution_count": null,
      "metadata": {
        "colab": {
          "base_uri": "https://localhost:8080/"
        },
        "id": "0FuV-ISipno8",
        "outputId": "0aeec13f-766e-46e7-9b3b-23b527deec61"
      },
      "outputs": [
        {
          "output_type": "stream",
          "name": "stdout",
          "text": [
            "time: 18.5 ms (started: 2022-05-10 00:31:01 +00:00)\n"
          ]
        }
      ],
      "source": [
        "data = data.drop(['Time'], axis = 1)"
      ]
    },
    {
      "cell_type": "code",
      "execution_count": null,
      "metadata": {
        "colab": {
          "base_uri": "https://localhost:8080/"
        },
        "id": "89UP1Eomqwba",
        "outputId": "30b88a3b-7f7d-48be-d12a-b7dd928f60fb"
      },
      "outputs": [
        {
          "output_type": "stream",
          "name": "stdout",
          "text": [
            "<class 'pandas.core.frame.DataFrame'>\n",
            "RangeIndex: 284807 entries, 0 to 284806\n",
            "Data columns (total 30 columns):\n",
            " #   Column  Non-Null Count   Dtype  \n",
            "---  ------  --------------   -----  \n",
            " 0   V1      284807 non-null  float64\n",
            " 1   V2      284807 non-null  float64\n",
            " 2   V3      284807 non-null  float64\n",
            " 3   V4      284807 non-null  float64\n",
            " 4   V5      284807 non-null  float64\n",
            " 5   V6      284807 non-null  float64\n",
            " 6   V7      284807 non-null  float64\n",
            " 7   V8      284807 non-null  float64\n",
            " 8   V9      284807 non-null  float64\n",
            " 9   V10     284807 non-null  float64\n",
            " 10  V11     284807 non-null  float64\n",
            " 11  V12     284807 non-null  float64\n",
            " 12  V13     284807 non-null  float64\n",
            " 13  V14     284807 non-null  float64\n",
            " 14  V15     284807 non-null  float64\n",
            " 15  V16     284807 non-null  float64\n",
            " 16  V17     284807 non-null  float64\n",
            " 17  V18     284807 non-null  float64\n",
            " 18  V19     284807 non-null  float64\n",
            " 19  V20     284807 non-null  float64\n",
            " 20  V21     284807 non-null  float64\n",
            " 21  V22     284807 non-null  float64\n",
            " 22  V23     284807 non-null  float64\n",
            " 23  V24     284807 non-null  float64\n",
            " 24  V25     284807 non-null  float64\n",
            " 25  V26     284807 non-null  float64\n",
            " 26  V27     284807 non-null  float64\n",
            " 27  V28     284807 non-null  float64\n",
            " 28  Amount  284807 non-null  float64\n",
            " 29  Class   284807 non-null  int64  \n",
            "dtypes: float64(29), int64(1)\n",
            "memory usage: 65.2 MB\n",
            "time: 37.3 ms (started: 2022-05-10 00:31:01 +00:00)\n"
          ]
        }
      ],
      "source": [
        "data.info()"
      ]
    },
    {
      "cell_type": "markdown",
      "metadata": {
        "id": "QBt3xBBMq3SW"
      },
      "source": [
        "### Split dataset"
      ]
    },
    {
      "cell_type": "code",
      "execution_count": null,
      "metadata": {
        "colab": {
          "base_uri": "https://localhost:8080/"
        },
        "id": "Y5osIsXzq6X-",
        "outputId": "b01fe67c-e5d2-402e-b6cc-5b9e1433391e"
      },
      "outputs": [
        {
          "output_type": "stream",
          "name": "stdout",
          "text": [
            "time: 196 ms (started: 2022-05-10 00:31:01 +00:00)\n"
          ]
        }
      ],
      "source": [
        "X_train, X_test, y_train, y_test = train_test_split(\n",
        "    data.loc[:,data.columns != \"Class\"], \n",
        "    data.loc[:,\"Class\"], \n",
        "    test_size=0.20, \n",
        "    random_state=42, \n",
        "    stratify=data.loc[:,\"Class\"]\n",
        ")"
      ]
    },
    {
      "cell_type": "markdown",
      "metadata": {
        "id": "_9k0MNMQrtMR"
      },
      "source": [
        "Lets see the split. Just in case."
      ]
    },
    {
      "cell_type": "code",
      "execution_count": null,
      "metadata": {
        "colab": {
          "base_uri": "https://localhost:8080/"
        },
        "id": "jzqm-GOjr0Jk",
        "outputId": "1e0f064a-f510-483f-a331-c13c1ed85ece"
      },
      "outputs": [
        {
          "output_type": "execute_result",
          "data": {
            "text/plain": [
              "0    227451\n",
              "1       394\n",
              "Name: Class, dtype: int64"
            ]
          },
          "metadata": {},
          "execution_count": 21
        },
        {
          "output_type": "stream",
          "name": "stdout",
          "text": [
            "time: 8.48 ms (started: 2022-05-10 00:31:01 +00:00)\n"
          ]
        }
      ],
      "source": [
        "y_train.value_counts()"
      ]
    },
    {
      "cell_type": "code",
      "execution_count": null,
      "metadata": {
        "colab": {
          "base_uri": "https://localhost:8080/"
        },
        "id": "WmLFRVTVr1lZ",
        "outputId": "7a7be7f9-a459-45cc-cd78-decf54014794"
      },
      "outputs": [
        {
          "output_type": "execute_result",
          "data": {
            "text/plain": [
              "0    56864\n",
              "1       98\n",
              "Name: Class, dtype: int64"
            ]
          },
          "metadata": {},
          "execution_count": 22
        },
        {
          "output_type": "stream",
          "name": "stdout",
          "text": [
            "time: 7.89 ms (started: 2022-05-10 00:31:01 +00:00)\n"
          ]
        }
      ],
      "source": [
        "y_test.value_counts()"
      ]
    },
    {
      "cell_type": "markdown",
      "metadata": {
        "id": "TO_Xy_qTW4J0"
      },
      "source": [
        "# Model Selection"
      ]
    },
    {
      "cell_type": "markdown",
      "metadata": {
        "id": "LbdUR6ANXhhx"
      },
      "source": [
        "## KNN"
      ]
    },
    {
      "cell_type": "markdown",
      "metadata": {
        "id": "ShufeHO41RKP"
      },
      "source": [
        "### Models"
      ]
    },
    {
      "cell_type": "markdown",
      "metadata": {
        "id": "M_t6P8D91Xq8"
      },
      "source": [
        "Running GridSearchCV on a sample of 10% we found the best k=7, leaf_size=15, and weights='distance'"
      ]
    },
    {
      "cell_type": "markdown",
      "metadata": {
        "id": "zxPX2HbU2rkv"
      },
      "source": [
        "We will train KNN using a 20% sample of the training data since the computation is expensive. Also, we use MinMaxScaler to scale the training data."
      ]
    },
    {
      "cell_type": "code",
      "execution_count": null,
      "metadata": {
        "colab": {
          "base_uri": "https://localhost:8080/"
        },
        "id": "hxMwzOYX2Dc8",
        "outputId": "9218e48c-5ff8-48f2-a428-2927a4827659"
      },
      "outputs": [
        {
          "output_type": "stream",
          "name": "stdout",
          "text": [
            "time: 114 ms (started: 2022-05-09 13:55:24 +00:00)\n"
          ]
        }
      ],
      "source": [
        "knn_X_train_sample, knn_y_train_sample = resample(\n",
        "    X_train, \n",
        "    y_train, \n",
        "    n_samples=X_train.shape[0] * 0.2, \n",
        "    replace=True, \n",
        "    stratify=y_train, \n",
        "    random_state=0\n",
        ")"
      ]
    },
    {
      "cell_type": "markdown",
      "metadata": {
        "id": "KjMnC1Le1TiU"
      },
      "source": [
        "#### Base Model"
      ]
    },
    {
      "cell_type": "code",
      "execution_count": null,
      "metadata": {
        "colab": {
          "base_uri": "https://localhost:8080/"
        },
        "id": "mDRHHhX72BE9",
        "outputId": "bfa517e1-17c3-4614-edde-37d19e0684e9"
      },
      "outputs": [
        {
          "output_type": "stream",
          "name": "stdout",
          "text": [
            "Base Model scores for 'KNN  Classifier:'\n",
            "fit_time: 0.037488555908203124\n",
            "score_time: 17.4832444190979\n",
            "test_accuracy: 0.9995391584668261\n",
            "test_precision: 0.9161904761904761\n",
            "test_recall: 0.8099999999999999\n",
            "test_f1: 0.8592361883574341\n",
            "test_roc_auc: 0.9177575199677583\n",
            "time: 51.4 s (started: 2022-05-09 13:55:24 +00:00)\n"
          ]
        }
      ],
      "source": [
        "scoring = ['accuracy', 'precision', 'recall', 'f1','roc_auc']\n",
        "\n",
        "knn = Pipeline([\n",
        "                ('mms', MinMaxScaler()),\n",
        "                ('knn', KNeighborsClassifier(n_neighbors=7, leaf_size=15, weights='distance'))])\n",
        "\n",
        "scores = cross_validate(knn, knn_X_train_sample, knn_y_train_sample, scoring=scoring, cv=StratifiedKFold(5), n_jobs=-1)\n",
        "\n",
        "print(\"Base Model scores for 'KNN  Classifier:'\")\n",
        "for m in scores:\n",
        "    print(f'{m}: {np.mean(scores[m])}')"
      ]
    },
    {
      "cell_type": "markdown",
      "metadata": {
        "id": "ays_TgSfEm9n"
      },
      "source": [
        "#### Oversampling"
      ]
    },
    {
      "cell_type": "code",
      "execution_count": null,
      "metadata": {
        "colab": {
          "base_uri": "https://localhost:8080/"
        },
        "id": "G9al_D5jFixt",
        "outputId": "03763998-296f-4076-bc66-c29084560140"
      },
      "outputs": [
        {
          "output_type": "stream",
          "name": "stdout",
          "text": [
            "Base Model scores for KNN With Oversampling Classifier:'\n",
            "fit_time: 0.05136394500732422\n",
            "score_time: 29.62744951248169\n",
            "test_accuracy: 0.999144159350448\n",
            "test_precision: 0.7222832817337461\n",
            "test_recall: 0.8358333333333334\n",
            "test_f1: 0.7735714285714286\n",
            "test_roc_auc: 0.9177111269876164\n",
            "time: 1min 24s (started: 2022-05-09 13:56:15 +00:00)\n"
          ]
        }
      ],
      "source": [
        "model = make_pipeline(\n",
        "    MinMaxScaler(),\n",
        "    RandomOverSampler(random_state=0),\n",
        "    KNeighborsClassifier(n_neighbors=7, leaf_size=15, weights='distance')\n",
        ")\n",
        "\n",
        "cv_results = cross_validate(\n",
        "    model,\n",
        "    knn_X_train_sample,\n",
        "    knn_y_train_sample, \n",
        "    scoring=scoring,\n",
        "    n_jobs=-1,\n",
        "    cv=StratifiedKFold(5)\n",
        ")\n",
        "\n",
        "\n",
        "print(\"Base Model scores for KNN With Oversampling Classifier:'\")\n",
        "for m in cv_results:\n",
        "    print(f'{m}: {cv_results[m].mean()}')"
      ]
    },
    {
      "cell_type": "markdown",
      "metadata": {
        "id": "ZPyH5NGDFrWT"
      },
      "source": [
        "#### Undersampling"
      ]
    },
    {
      "cell_type": "code",
      "execution_count": null,
      "metadata": {
        "colab": {
          "base_uri": "https://localhost:8080/"
        },
        "id": "w2udyuLBFqza",
        "outputId": "19102d3e-de5f-42e3-ae7b-2374d587c667"
      },
      "outputs": [
        {
          "output_type": "stream",
          "name": "stdout",
          "text": [
            "Base Model scores for KNN With Undersampling Classifier:'\n",
            "fit_time: 0.040561580657958986\n",
            "score_time: 0.12767367362976073\n",
            "test_accuracy: 0.9831906161685213\n",
            "test_precision: 0.12042680258383917\n",
            "test_recall: 0.8858333333333335\n",
            "test_f1: 0.2007139996536415\n",
            "test_roc_auc: 0.9512038360079138\n",
            "time: 654 ms (started: 2022-05-09 13:57:40 +00:00)\n"
          ]
        }
      ],
      "source": [
        "model = make_pipeline(\n",
        "    MinMaxScaler(),\n",
        "    RandomUnderSampler(random_state=0),\n",
        "    KNeighborsClassifier(n_neighbors=7, leaf_size=15, weights='distance')\n",
        ")\n",
        "\n",
        "cv_results = cross_validate(\n",
        "    model,\n",
        "    knn_X_train_sample,\n",
        "    knn_y_train_sample,  \n",
        "    scoring=scoring,\n",
        "    n_jobs=-1,\n",
        "    cv=StratifiedKFold(5)\n",
        ")\n",
        "\n",
        "print(\"Base Model scores for KNN With Undersampling Classifier:'\")\n",
        "for m in cv_results:\n",
        "    print(f'{m}: {cv_results[m].mean()}')"
      ]
    },
    {
      "cell_type": "markdown",
      "metadata": {
        "id": "r1hR0qUYHPdD"
      },
      "source": [
        "#### Bagging"
      ]
    },
    {
      "cell_type": "code",
      "execution_count": null,
      "metadata": {
        "colab": {
          "base_uri": "https://localhost:8080/"
        },
        "id": "HJwl2-0xGAnQ",
        "outputId": "90c5904e-e475-484a-9493-fed6b757d37d"
      },
      "outputs": [
        {
          "output_type": "stream",
          "name": "stdout",
          "text": [
            "Base Model scores for KNN With Bagging Classifier:'\n",
            "fit_time: 0.06049776077270508\n",
            "score_time: 25.86867752075195\n",
            "test_accuracy: 0.999122212680855\n",
            "test_precision: 0.9095238095238095\n",
            "test_recall: 0.5466666666666666\n",
            "test_f1: 0.6819272445820432\n",
            "test_roc_auc: 0.9267335665747096\n",
            "time: 2min 9s (started: 2022-05-09 13:57:41 +00:00)\n"
          ]
        }
      ],
      "source": [
        "clf = BaggingClassifier(\n",
        "    base_estimator= KNeighborsClassifier(n_neighbors=7, leaf_size=15, weights='distance'),\n",
        "    bootstrap=False, \n",
        "    random_state=0, \n",
        "    max_samples=0.2, \n",
        "    n_estimators=10\n",
        ")\n",
        "\n",
        "model = make_pipeline(\n",
        "    MinMaxScaler(),\n",
        "    clf\n",
        ")\n",
        "\n",
        "cv_results = cross_validate(\n",
        "    model,\n",
        "    knn_X_train_sample,\n",
        "    knn_y_train_sample, \n",
        "    scoring=scoring,\n",
        "    cv=KFold(5)\n",
        ")\n",
        "\n",
        "print(\"Base Model scores for KNN With Bagging Classifier:'\")\n",
        "for m in cv_results:\n",
        "    print(f'{m}: {cv_results[m].mean()}')"
      ]
    },
    {
      "cell_type": "markdown",
      "metadata": {
        "id": "OHWbGxIBUR1t"
      },
      "source": [
        "### Choice"
      ]
    },
    {
      "cell_type": "markdown",
      "metadata": {
        "id": "q0Kimi87UZtL"
      },
      "source": [
        "**Best KNN Model is the base line with:**\n",
        "test_f1: 0.86\n",
        "\n",
        "**Other results**\n",
        "\n",
        "\n",
        "*Undersampling*\n",
        "test_f1: 0.20\n",
        "\n",
        "*Oversampling*\n",
        "test_f1: 0.77\n",
        "\n",
        "*Bagging*\n",
        "test_f1: 0.69"
      ]
    },
    {
      "cell_type": "markdown",
      "metadata": {
        "id": "smME90SAGlxB"
      },
      "source": [
        "### Feature Selection"
      ]
    },
    {
      "cell_type": "markdown",
      "metadata": {
        "id": "AD7LwMu5Vhad"
      },
      "source": [
        "In the cells below we use RFECV and SFS to find the best features. They were commented out to speed up the notebook execution."
      ]
    },
    {
      "cell_type": "markdown",
      "metadata": {
        "id": "fddaLSmVRe50"
      },
      "source": [
        "#### Recursive Feature Elimination using CV"
      ]
    },
    {
      "cell_type": "code",
      "execution_count": null,
      "metadata": {
        "colab": {
          "base_uri": "https://localhost:8080/",
          "height": 141
        },
        "id": "OLDuPtFjIRWR",
        "outputId": "fd8f0611-b7cd-4319-f9b5-aa9945a6534d"
      },
      "outputs": [
        {
          "output_type": "execute_result",
          "data": {
            "text/plain": [
              "'\\n\\n# Create the RFE object and compute a cross-validated score.\\nclf = RandomForestClassifier(criterion=\"entropy\", random_state=0, n_jobs=-1, n_estimators=50)\\n\\n\\nrfecv = RFECV(\\n    estimator=clf,\\n    step=4,\\n    cv=StratifiedKFold(5),\\n    scoring=\"f1\",\\n    n_jobs=-1\\n)\\n\\nrfecv.fit(knn_X_train_sample, knn_y_train_sample)\\n\\nprint(\"Optimal number of features : %d\" % rfecv.n_features_)\\n\\nscoring = [\\'accuracy\\', \\'balanced_accuracy\\', \\'precision\\', \\'recall\\', \\'f1\\']\\n\\nknn = Pipeline([(\\'mms\\', MinMaxScaler()),\\n                (\\'knn\\', KNeighborsClassifier(n_neighbors=7, leaf_size=15, weights=\\'distance\\'))])\\n\\nscores = cross_validate(\\n    knn, \\n    knn_X_train_sample.iloc[:, rfecv.support_], \\n    knn_y_train_sample, \\n    scoring=scoring, \\n    cv=StratifiedKFold(5), \\n    n_jobs=-1\\n    )\\n\\nprint(\"Model scores for \\'KNN Best Classifier using features from RFECV:\\'\")\\n\\nfor m in scores:\\n    print(f\\'{m}: {scores[m].mean()}\\')\\n\\n'"
            ],
            "application/vnd.google.colaboratory.intrinsic+json": {
              "type": "string"
            }
          },
          "metadata": {},
          "execution_count": 26
        },
        {
          "output_type": "stream",
          "name": "stdout",
          "text": [
            "time: 9.09 ms (started: 2022-05-09 13:59:50 +00:00)\n"
          ]
        }
      ],
      "source": [
        "'''\n",
        "\n",
        "# Create the RFE object and compute a cross-validated score.\n",
        "clf = RandomForestClassifier(criterion=\"entropy\", random_state=0, n_jobs=-1, n_estimators=50)\n",
        "\n",
        "\n",
        "rfecv = RFECV(\n",
        "    estimator=clf,\n",
        "    step=4,\n",
        "    cv=StratifiedKFold(5),\n",
        "    scoring=\"f1\",\n",
        "    n_jobs=-1\n",
        ")\n",
        "\n",
        "rfecv.fit(knn_X_train_sample, knn_y_train_sample)\n",
        "\n",
        "print(\"Optimal number of features : %d\" % rfecv.n_features_)\n",
        "\n",
        "scoring = ['accuracy', 'balanced_accuracy', 'precision', 'recall', 'f1']\n",
        "\n",
        "knn = Pipeline([('mms', MinMaxScaler()),\n",
        "                ('knn', KNeighborsClassifier(n_neighbors=7, leaf_size=15, weights='distance'))])\n",
        "\n",
        "scores = cross_validate(\n",
        "    knn, \n",
        "    knn_X_train_sample.iloc[:, rfecv.support_], \n",
        "    knn_y_train_sample, \n",
        "    scoring=scoring, \n",
        "    cv=StratifiedKFold(5), \n",
        "    n_jobs=-1\n",
        "    )\n",
        "\n",
        "print(\"Model scores for 'KNN Best Classifier using features from RFECV:'\")\n",
        "\n",
        "for m in scores:\n",
        "    print(f'{m}: {scores[m].mean()}')\n",
        "\n",
        "'''"
      ]
    },
    {
      "cell_type": "markdown",
      "metadata": {
        "id": "DNfUXE2EcVpS"
      },
      "source": [
        "Optimal number of features : 9\n",
        "\n",
        "fit_time: 0.12910280227661133\n",
        "\n",
        "score_time: 1.6074413299560546\n",
        "\n",
        "test_accuracy: 0.9995172142052503\n",
        "\n",
        "test_balanced_accuracy: 0.9049230600131898\n",
        "\n",
        "test_precision: 0.9038095238095238\n",
        "\n",
        "test_recall: 0.8099999999999999\n",
        "\n",
        "test_f1: 0.8536447905079718\n",
        "\n",
        "time: 4min 6s (started: 2022-05-08 05:57:13 +00:00)"
      ]
    },
    {
      "cell_type": "markdown",
      "metadata": {
        "id": "DMqgWcW_TkC2"
      },
      "source": [
        "#### Sequential Foward Search"
      ]
    },
    {
      "cell_type": "code",
      "execution_count": null,
      "metadata": {
        "colab": {
          "base_uri": "https://localhost:8080/",
          "height": 106
        },
        "id": "gU8L1-c_RnNN",
        "outputId": "92b57695-8691-4e0c-ca45-6671279f8bf6"
      },
      "outputs": [
        {
          "output_type": "execute_result",
          "data": {
            "text/plain": [
              "'\\n\\nknn = Pipeline([(\\'mms\\', MinMaxScaler()),\\n                (\\'knn\\', KNeighborsClassifier(n_neighbors=7, leaf_size=15, weights=\\'distance\\'))])\\n\\nsfs_forward = SequentialFeatureSelector(\\n    knn,\\n    direction=\"forward\",\\n    scoring=\\'f1\\',\\n    cv=KFold(5),\\n    n_features_to_select=3,\\n    n_jobs=-1\\n).fit(X_train, y_train)\\n\\n\\nscores = cross_validate(\\n    knn,\\n    knn_X_train_sample.iloc[:, sfs_forward.get_support()], \\n    knn_y_train_sample,  \\n    scoring=scoring, \\n    cv=StratifiedKFold(5)\\n)\\n\\nprint(\"Model scores for \\'KNN Best Classifier using features from Sequential Feature Selection:\\'\")\\nfor m in scores:\\n    print(f\\'{m}: {scores[m].mean()}\\')\\n\\n'"
            ],
            "application/vnd.google.colaboratory.intrinsic+json": {
              "type": "string"
            }
          },
          "metadata": {},
          "execution_count": 27
        },
        {
          "output_type": "stream",
          "name": "stdout",
          "text": [
            "time: 8.02 ms (started: 2022-05-09 13:59:50 +00:00)\n"
          ]
        }
      ],
      "source": [
        "'''\n",
        "\n",
        "knn = Pipeline([('mms', MinMaxScaler()),\n",
        "                ('knn', KNeighborsClassifier(n_neighbors=7, leaf_size=15, weights='distance'))])\n",
        "\n",
        "sfs_forward = SequentialFeatureSelector(\n",
        "    knn,\n",
        "    direction=\"forward\",\n",
        "    scoring='f1',\n",
        "    cv=KFold(5),\n",
        "    n_features_to_select=3,\n",
        "    n_jobs=-1\n",
        ").fit(X_train, y_train)\n",
        "\n",
        "\n",
        "scores = cross_validate(\n",
        "    knn,\n",
        "    knn_X_train_sample.iloc[:, sfs_forward.get_support()], \n",
        "    knn_y_train_sample,  \n",
        "    scoring=scoring, \n",
        "    cv=StratifiedKFold(5)\n",
        ")\n",
        "\n",
        "print(\"Model scores for 'KNN Best Classifier using features from Sequential Feature Selection:'\")\n",
        "for m in scores:\n",
        "    print(f'{m}: {scores[m].mean()}')\n",
        "\n",
        "'''"
      ]
    },
    {
      "cell_type": "markdown",
      "metadata": {
        "id": "NK4vnEnYcGiw"
      },
      "source": [
        "Model scores for 'KNN Best Classifier using features from Sequential Feature Selection:'\n",
        "\n",
        "fit_time: 0.03556909561157227\n",
        "\n",
        "score_time: 0.06577653884887695\n",
        "\n",
        "test_accuracy: 0.9994733256820993\n",
        "\n",
        "test_balanced_accuracy: 0.8924230600131897\n",
        "\n",
        "test_precision: 0.8989010989010989\n",
        "\n",
        "test_recall: 0.7849999999999999\n",
        "\n",
        "test_f1: 0.8377011494252873\n",
        "\n",
        "time: 2min 56s (started: 2022-05-08 06:46:25 +00:00)"
      ]
    },
    {
      "cell_type": "markdown",
      "metadata": {
        "id": "JjKQVP6Ecp7o"
      },
      "source": [
        "### Decision"
      ]
    },
    {
      "cell_type": "markdown",
      "metadata": {
        "id": "4CD4jpoobwuz"
      },
      "source": [
        "The base model without feature selection has better performance."
      ]
    },
    {
      "cell_type": "markdown",
      "metadata": {
        "id": "e0_hMGNJXotu"
      },
      "source": [
        "## Naive Bayes"
      ]
    },
    {
      "cell_type": "markdown",
      "metadata": {
        "id": "bsxnWdVbw0Ok"
      },
      "source": [
        "Metrics for comparison."
      ]
    },
    {
      "cell_type": "code",
      "execution_count": null,
      "metadata": {
        "colab": {
          "base_uri": "https://localhost:8080/"
        },
        "id": "mjZeIE4es8Q2",
        "outputId": "ce873c8c-2b5b-4684-a6ab-40ddd42ff258"
      },
      "outputs": [
        {
          "output_type": "stream",
          "name": "stdout",
          "text": [
            "time: 1.18 ms (started: 2022-05-09 13:59:50 +00:00)\n"
          ]
        }
      ],
      "source": [
        "scoring = ['accuracy', 'balanced_accuracy', 'precision', 'recall', 'f1']"
      ]
    },
    {
      "cell_type": "markdown",
      "metadata": {
        "id": "T-rITFVuw3w6"
      },
      "source": [
        "### Models"
      ]
    },
    {
      "cell_type": "markdown",
      "metadata": {
        "id": "uGKwDUkhsR5H"
      },
      "source": [
        "#### Baseline Model"
      ]
    },
    {
      "cell_type": "code",
      "execution_count": null,
      "metadata": {
        "colab": {
          "base_uri": "https://localhost:8080/"
        },
        "id": "UTUWpSfMs2be",
        "outputId": "d534155d-06bc-4862-e0f7-db7e389c24d3"
      },
      "outputs": [
        {
          "output_type": "stream",
          "name": "stdout",
          "text": [
            "Base Model scores for 'Naive Bayes Classifier:'\n",
            "fit_time: 0.10467195510864258\n",
            "score_time: 0.07838625907897949\n",
            "test_accuracy: 0.9779938115824354\n",
            "test_balanced_accuracy: 0.9014469551412578\n",
            "test_precision: 0.061675833240426525\n",
            "test_recall: 0.8246348588120739\n",
            "test_f1: 0.11476400232455333\n",
            "time: 963 ms (started: 2022-05-09 13:59:50 +00:00)\n"
          ]
        }
      ],
      "source": [
        "gnb = GaussianNB()\n",
        "scores = cross_validate(gnb, X_train, y_train, scoring=scoring, cv=StratifiedKFold(5))\n",
        "\n",
        "print(\"Base Model scores for 'Naive Bayes Classifier:'\")\n",
        "\n",
        "for m in scores:\n",
        "    print(f'{m}: {np.mean(scores[m])}')"
      ]
    },
    {
      "cell_type": "markdown",
      "metadata": {
        "id": "zUHEbZ_ht3oz"
      },
      "source": [
        "#### With Oversampling"
      ]
    },
    {
      "cell_type": "code",
      "execution_count": null,
      "metadata": {
        "colab": {
          "base_uri": "https://localhost:8080/"
        },
        "id": "CKhWLC2wtXvU",
        "outputId": "7e558af3-93c4-459f-effa-471ae6f2b2fd"
      },
      "outputs": [
        {
          "output_type": "stream",
          "name": "stdout",
          "text": [
            "Model scores for 'Naive Bayes with Oversampling Classifier:'\n",
            "fit_time: 0.6792220115661621\n",
            "score_time: 0.11331400871276856\n",
            "test_accuracy: 0.9741754262766353\n",
            "test_balanced_accuracy: 0.9135154669964448\n",
            "test_precision: 0.054545484704371726\n",
            "test_recall: 0.8526452450503083\n",
            "test_f1: 0.10252809914815239\n",
            "time: 2.48 s (started: 2022-05-09 13:59:51 +00:00)\n"
          ]
        }
      ],
      "source": [
        "model = make_pipeline(\n",
        "    RandomOverSampler(random_state=0),\n",
        "    GaussianNB()\n",
        ")\n",
        "\n",
        "cv_results = cross_validate(\n",
        "    model,\n",
        "    X_train,\n",
        "    y_train, \n",
        "    scoring=scoring,\n",
        "    n_jobs=-1,\n",
        "    cv=StratifiedKFold(5)\n",
        ")\n",
        "\n",
        "print(\"Model scores for 'Naive Bayes with Oversampling Classifier:'\")\n",
        "\n",
        "for m in cv_results:\n",
        "    print(f'{m}: {cv_results[m].mean()}')"
      ]
    },
    {
      "cell_type": "markdown",
      "metadata": {
        "id": "cFpT5G1it-Kg"
      },
      "source": [
        "#### With Undersampling"
      ]
    },
    {
      "cell_type": "code",
      "execution_count": null,
      "metadata": {
        "colab": {
          "base_uri": "https://localhost:8080/"
        },
        "id": "XLSK-c4ZvpE2",
        "outputId": "e0935af6-fbfc-462a-9cc8-3b356cd59eab"
      },
      "outputs": [
        {
          "output_type": "stream",
          "name": "stdout",
          "text": [
            "Model scores for 'Naive Bayes with Undersampling Classifier:'\n",
            "fit_time: 0.12498741149902344\n",
            "score_time: 0.12177391052246093\n",
            "test_accuracy: 0.9658144791415216\n",
            "test_balanced_accuracy: 0.9144147245669952\n",
            "test_precision: 0.0431246176451684\n",
            "test_recall: 0.8628367413177539\n",
            "test_f1: 0.08205187997707826\n",
            "time: 916 ms (started: 2022-05-09 13:59:54 +00:00)\n"
          ]
        }
      ],
      "source": [
        "model = make_pipeline(\n",
        "    RandomUnderSampler(random_state=0),\n",
        "    GaussianNB()\n",
        ")\n",
        "\n",
        "cv_results = cross_validate(\n",
        "    model,\n",
        "    X_train,\n",
        "    y_train, \n",
        "    scoring=scoring,\n",
        "    n_jobs=-1\n",
        ")\n",
        "\n",
        "\n",
        "print(\"Model scores for 'Naive Bayes with Undersampling Classifier:'\")\n",
        "for m in cv_results:\n",
        "    print(f'{m}: {cv_results[m].mean()}')"
      ]
    },
    {
      "cell_type": "markdown",
      "metadata": {
        "id": "-IRD0U1FuBG3"
      },
      "source": [
        "#### With Bagging"
      ]
    },
    {
      "cell_type": "code",
      "execution_count": null,
      "metadata": {
        "colab": {
          "base_uri": "https://localhost:8080/"
        },
        "id": "05nXd8zgv3jZ",
        "outputId": "19730c9b-9044-4505-b3e5-b28b8756658a"
      },
      "outputs": [
        {
          "output_type": "stream",
          "name": "stdout",
          "text": [
            "Model scores for 'Naive Bayes with Bagging Classifier:'\n",
            "fit_time: 17.66060152053833\n",
            "score_time: 4.281073951721192\n",
            "test_accuracy: 0.979723057341614\n",
            "test_balanced_accuracy: 0.9023130748285026\n",
            "test_precision: 0.06665449553504779\n",
            "test_recall: 0.8246348588120739\n",
            "test_f1: 0.12332948644905233\n",
            "time: 1min (started: 2022-05-09 13:59:55 +00:00)\n"
          ]
        }
      ],
      "source": [
        "clf = BaggingClassifier(\n",
        "    base_estimator=GaussianNB(),\n",
        "    bootstrap=False, \n",
        "    random_state=0, \n",
        "    n_jobs=-1, \n",
        "    max_samples=0.1, \n",
        "    n_estimators=100\n",
        ")\n",
        "\n",
        "scores = cross_validate(\n",
        "    clf, \n",
        "    X_train, \n",
        "    y_train, \n",
        "    scoring=scoring, \n",
        "    cv=StratifiedKFold(5), \n",
        "    n_jobs=-1\n",
        ")\n",
        "\n",
        "\n",
        "print(\"Model scores for 'Naive Bayes with Bagging Classifier:'\")\n",
        "for m in scores:\n",
        "    print(f'{m}: {np.mean(scores[m])}')\n"
      ]
    },
    {
      "cell_type": "markdown",
      "metadata": {
        "id": "5nBSFG2PV_i5"
      },
      "source": [
        "### Choice"
      ]
    },
    {
      "cell_type": "markdown",
      "metadata": {
        "id": "21NE7kLbV_i6"
      },
      "source": [
        "**Best Naive Bayes is the base line with:**\n",
        "test_f1: 0.11\n",
        "\n",
        "**Other results**\n",
        "\n",
        "\n",
        "*Undersampling*\n",
        "test_f1: 0.08\n",
        "\n",
        "*Oversampling*\n",
        "test_f1: 0.10\n",
        "\n",
        "*Bagging*\n",
        "test_f1: 0.12"
      ]
    },
    {
      "cell_type": "markdown",
      "metadata": {
        "id": "6WAL_QvVw72F"
      },
      "source": [
        "### Feature *Selection*"
      ]
    },
    {
      "cell_type": "markdown",
      "metadata": {
        "id": "tswlmrHUxhd1"
      },
      "source": [
        "Bagging has the best F1 but is a 1% difference. So the basic naive Bayes is preferred because it's faster."
      ]
    },
    {
      "cell_type": "markdown",
      "metadata": {
        "id": "LJelY9jnyKpc"
      },
      "source": [
        "#### Recursive Feature Elimination using CV"
      ]
    },
    {
      "cell_type": "markdown",
      "metadata": {
        "id": "j9_zr-Fx1lGW"
      },
      "source": [
        "This function is computationally expensive. Let's create a 1/3 sample of the training dataset to make things faster."
      ]
    },
    {
      "cell_type": "code",
      "execution_count": null,
      "metadata": {
        "colab": {
          "base_uri": "https://localhost:8080/"
        },
        "id": "ZohMzw2W1spW",
        "outputId": "b9f60129-a530-48d5-f236-f02faf1fa820"
      },
      "outputs": [
        {
          "output_type": "stream",
          "name": "stdout",
          "text": [
            "time: 35.6 ms (started: 2022-05-09 14:00:56 +00:00)\n"
          ]
        }
      ],
      "source": [
        "from sklearn.utils import resample\n",
        "\n",
        "X_train_sample, y_train_sample = resample(X_train, y_train, n_samples=X_train.shape[0] * 0.1, replace=True, stratify=y_train, random_state=0)"
      ]
    },
    {
      "cell_type": "code",
      "execution_count": null,
      "metadata": {
        "colab": {
          "base_uri": "https://localhost:8080/",
          "height": 124
        },
        "id": "KcQnJT6ByhYK",
        "outputId": "b3de94e8-af89-4933-ce30-929483e6c70a"
      },
      "outputs": [
        {
          "output_type": "execute_result",
          "data": {
            "text/plain": [
              "'\\n\\n# Create the RFE object and compute a cross-validated score.\\nclf = RandomForestClassifier(criterion=\"entropy\", random_state=0, n_jobs=-1, n_estimators=50)\\n\\n\\nrfecv = RFECV(\\n    estimator=clf,\\n    step=2,\\n    cv=KFold(5),\\n    scoring=\"f1\",\\n    n_jobs=-1\\n)\\n\\nrfecv.fit(X_train_sample, y_train_sample)\\n\\nprint(\"Optimal number of features : %d\" % rfecv.n_features_)\\n\\nscoring = [\\'accuracy\\', \\'balanced_accuracy\\', \\'precision\\', \\'recall\\', \\'f1\\']\\n\\nscores = cross_validate(\\n    GaussianNB(), \\n    X_train.iloc[:, rfecv.support_], \\n    y_train, \\n    scoring=scoring, \\n    cv=StratifiedKFold(5), \\n    n_jobs=-1\\n    )\\n\\nprint(\"Model scores for \\'Naive Bayes Best Classifier using features from RFECV:\\'\")\\n\\nfor m in scores:\\n    print(f\\'{m}: {scores[m].mean()}\\')\\n\\n\\n'"
            ],
            "application/vnd.google.colaboratory.intrinsic+json": {
              "type": "string"
            }
          },
          "metadata": {},
          "execution_count": 34
        },
        {
          "output_type": "stream",
          "name": "stdout",
          "text": [
            "time: 6.93 ms (started: 2022-05-09 14:00:56 +00:00)\n"
          ]
        }
      ],
      "source": [
        "'''\n",
        "\n",
        "# Create the RFE object and compute a cross-validated score.\n",
        "clf = RandomForestClassifier(criterion=\"entropy\", random_state=0, n_jobs=-1, n_estimators=50)\n",
        "\n",
        "\n",
        "rfecv = RFECV(\n",
        "    estimator=clf,\n",
        "    step=2,\n",
        "    cv=KFold(5),\n",
        "    scoring=\"f1\",\n",
        "    n_jobs=-1\n",
        ")\n",
        "\n",
        "rfecv.fit(X_train_sample, y_train_sample)\n",
        "\n",
        "print(\"Optimal number of features : %d\" % rfecv.n_features_)\n",
        "\n",
        "scoring = ['accuracy', 'balanced_accuracy', 'precision', 'recall', 'f1']\n",
        "\n",
        "scores = cross_validate(\n",
        "    GaussianNB(), \n",
        "    X_train.iloc[:, rfecv.support_], \n",
        "    y_train, \n",
        "    scoring=scoring, \n",
        "    cv=StratifiedKFold(5), \n",
        "    n_jobs=-1\n",
        "    )\n",
        "\n",
        "print(\"Model scores for 'Naive Bayes Best Classifier using features from RFECV:'\")\n",
        "\n",
        "for m in scores:\n",
        "    print(f'{m}: {scores[m].mean()}')\n",
        "\n",
        "\n",
        "'''"
      ]
    },
    {
      "cell_type": "markdown",
      "source": [
        "Optimal number of features : 5\n",
        "\n",
        "Model scores for 'Naive Bayes Best Classifier using features from RFECV:'\n",
        "\n",
        "fit_time: 0.07235217094421387\n",
        "\n",
        "score_time: 0.09405994415283203\n",
        "\n",
        "test_accuracy: 0.9909324321358819\n",
        "\n",
        "test_balanced_accuracy: 0.9155903609499207\n",
        "\n",
        "test_precision: 0.1418677302290157\n",
        "\n",
        "test_recall: 0.8399870172022071\n",
        "\n",
        "test_f1: 0.2427027351913081\n",
        "\n",
        "time: 2min 16s (started: 2022-05-08 17:40:43 +00:00)"
      ],
      "metadata": {
        "id": "e-Qszbvaymp1"
      }
    },
    {
      "cell_type": "markdown",
      "metadata": {
        "id": "3z1MlInayULG"
      },
      "source": [
        "#### Sequential Foward Search"
      ]
    },
    {
      "cell_type": "code",
      "execution_count": null,
      "metadata": {
        "colab": {
          "base_uri": "https://localhost:8080/",
          "height": 88
        },
        "id": "M7o7bflP0e-R",
        "outputId": "6a0125ae-7630-40d5-c431-07aa5c45eb38"
      },
      "outputs": [
        {
          "output_type": "execute_result",
          "data": {
            "text/plain": [
              "'\\ngnb = GaussianNB()\\n\\nsfs_forward = SequentialFeatureSelector(\\n    gnb,\\n    direction=\"forward\",\\n    scoring=\\'f1\\',\\n    cv=KFold(5),\\n    n_jobs=-1\\n).fit(X_train, y_train)\\n\\n\\nscores = cross_validate(\\n    gnb,\\n    X_train.iloc[:,sfs_forward.get_support()], \\n    y_train, \\n    scoring=scoring, \\n    cv=5\\n)\\n\\nprint(\"Model scores for \\'Naive Bayes Best Classifier using features from SFS:\\'\")\\n\\nfor m in scores:\\n    print(f\\'{m}: {scores[m].mean()}\\')\\n\\n'"
            ],
            "application/vnd.google.colaboratory.intrinsic+json": {
              "type": "string"
            }
          },
          "metadata": {},
          "execution_count": 35
        },
        {
          "output_type": "stream",
          "name": "stdout",
          "text": [
            "time: 4.98 ms (started: 2022-05-09 14:00:56 +00:00)\n"
          ]
        }
      ],
      "source": [
        "'''\n",
        "gnb = GaussianNB()\n",
        "\n",
        "sfs_forward = SequentialFeatureSelector(\n",
        "    gnb,\n",
        "    direction=\"forward\",\n",
        "    scoring='f1',\n",
        "    cv=KFold(5),\n",
        "    n_jobs=-1\n",
        ").fit(X_train, y_train)\n",
        "\n",
        "\n",
        "scores = cross_validate(\n",
        "    gnb,\n",
        "    X_train.iloc[:,sfs_forward.get_support()], \n",
        "    y_train, \n",
        "    scoring=scoring, \n",
        "    cv=5\n",
        ")\n",
        "\n",
        "print(\"Model scores for 'Naive Bayes Best Classifier using features from SFS:'\")\n",
        "\n",
        "for m in scores:\n",
        "    print(f'{m}: {scores[m].mean()}')\n",
        "\n",
        "'''"
      ]
    },
    {
      "cell_type": "markdown",
      "source": [
        "Model scores for 'Naive Bayes Best Classifier using features from SFS:'\n",
        "\n",
        "fit_time: 0.06439933776855469\n",
        "\n",
        "score_time: 0.06754279136657715\n",
        "\n",
        "test_accuracy: 0.9960718909785161\n",
        "\n",
        "test_balanced_accuracy: 0.9131100443060232\n",
        "\n",
        "test_precision: 0.28402825954719707\n",
        "\n",
        "test_recall: 0.8298604349237261\n",
        "\n",
        "test_f1: 0.4228157105320086\n",
        "\n",
        "time: 2min 39s (started: 2022-05-08 17:44:28 +00:00)"
      ],
      "metadata": {
        "id": "rsNam8dry0qq"
      }
    },
    {
      "cell_type": "markdown",
      "metadata": {
        "id": "Ac0nJdZDc6Px"
      },
      "source": [
        "### Decision"
      ]
    },
    {
      "cell_type": "markdown",
      "metadata": {
        "id": "Mv_t9vJBdCih"
      },
      "source": [
        "The best model is Base Naive Bayes with Sequential Forward.\n",
        "\n",
        "test_f1: 0.42"
      ]
    },
    {
      "cell_type": "markdown",
      "metadata": {
        "id": "GA8SRp1LXjZS"
      },
      "source": [
        "## Decision Tree"
      ]
    },
    {
      "cell_type": "markdown",
      "metadata": {
        "id": "cpZ69cCJJ6C1"
      },
      "source": [
        "### Models"
      ]
    },
    {
      "cell_type": "code",
      "execution_count": null,
      "metadata": {
        "colab": {
          "base_uri": "https://localhost:8080/"
        },
        "id": "ba5WTH6ojiCe",
        "outputId": "d427f6ee-7a03-42c1-e789-f7ad1f479293"
      },
      "outputs": [
        {
          "output_type": "stream",
          "name": "stdout",
          "text": [
            "time: 1.36 ms (started: 2022-05-09 14:00:56 +00:00)\n"
          ]
        }
      ],
      "source": [
        "# Creating list with scoring metrics\n",
        "scoring = ['accuracy', 'precision', 'recall', 'f1','roc_auc']"
      ]
    },
    {
      "cell_type": "markdown",
      "metadata": {
        "id": "-3bm7pfAJfDQ"
      },
      "source": [
        "#### *Base Models*"
      ]
    },
    {
      "cell_type": "code",
      "execution_count": null,
      "metadata": {
        "colab": {
          "base_uri": "https://localhost:8080/"
        },
        "id": "3QuI58mnJhT7",
        "outputId": "f2763f71-bad3-4135-dec5-d62f6bfc4d40"
      },
      "outputs": [
        {
          "output_type": "stream",
          "name": "stdout",
          "text": [
            "Base Model scores for 'Decision Tree Classifier:'\n",
            "fit_time: 13.262457752227784\n",
            "score_time: 0.0934783935546875\n",
            "test_accuracy: 0.9992231560929581\n",
            "test_precision: 0.7886484405540667\n",
            "test_recall: 0.7561506004543979\n",
            "test_f1: 0.7707309059133435\n",
            "test_roc_auc: 0.8778972397430722\n",
            "time: 38 s (started: 2022-05-09 14:00:56 +00:00)\n"
          ]
        }
      ],
      "source": [
        "# Setting Decision tree parameters \n",
        "model = DecisionTreeClassifier(criterion=\"entropy\", random_state=0)\n",
        "\n",
        "# Training model\n",
        "scores = cross_validate(model, X_train, y_train, scoring=scoring, cv=5, n_jobs=-1)\n",
        "\n",
        "# Output Results\n",
        "print(\"Base Model scores for 'Decision Tree Classifier:'\")\n",
        "for m in scores:\n",
        "    print(f'{m}: {np.mean(scores[m])}')"
      ]
    },
    {
      "cell_type": "markdown",
      "metadata": {
        "id": "WIH9cfJmU1NV"
      },
      "source": [
        "#### Undersampling"
      ]
    },
    {
      "cell_type": "code",
      "execution_count": null,
      "metadata": {
        "colab": {
          "base_uri": "https://localhost:8080/"
        },
        "id": "u0j7_U4sU_yG",
        "outputId": "d34f67a4-e8dc-46be-90f7-0ed9e5106a05"
      },
      "outputs": [
        {
          "output_type": "stream",
          "name": "stdout",
          "text": [
            "Original Data count:  Counter({0: 227451, 1: 394})\n",
            "Undersample Count:  Counter({0: 394, 1: 394})\n",
            "Undersampling Model scores for 'Decision Tree Classifier:'\n",
            "fit_time: 0.13398656845092774\n",
            "score_time: 0.112408447265625\n",
            "test_accuracy: 0.9117206873093551\n",
            "test_precision: 0.017426499900072636\n",
            "test_recall: 0.8983122362869199\n",
            "test_f1: 0.0341856196649924\n",
            "test_roc_auc: 0.9050279114712565\n",
            "time: 1.02 s (started: 2022-05-09 14:01:34 +00:00)\n"
          ]
        }
      ],
      "source": [
        "# Getting total count to compare\n",
        "print(\"Original Data count: \", Counter(y_train))\n",
        "\n",
        "# Setup undersample\n",
        "undersampling = RandomUnderSampler(sampling_strategy='majority')\n",
        "\n",
        "# Pass X & Y train for undersample\n",
        "X_train_under, y_train_under = undersampling.fit_resample(X_train, y_train)\n",
        "\n",
        "# Count After undersample\n",
        "print(\"Undersample Count: \", Counter(y_train_under))\n",
        "\n",
        "# Using pipeline to pass undersample & decision Tree and generate score on Cross Validation\n",
        "model = make_pipeline(\n",
        "    RandomUnderSampler(),\n",
        "    DecisionTreeClassifier(criterion=\"entropy\")\n",
        ") \n",
        "\n",
        "# cv = RepeatedStratifiedKFold(n_splits=10, n_repeats=3, random_state=1)\n",
        "scores = cross_validate(model, X_train, y_train, scoring=scoring, cv=5, n_jobs=-1)\n",
        "\n",
        "# Output Results\n",
        "print(\"Undersampling Model scores for 'Decision Tree Classifier:'\")\n",
        "for m in scores:\n",
        "    print(f'{m}: {np.mean(scores[m])}')"
      ]
    },
    {
      "cell_type": "markdown",
      "metadata": {
        "id": "J17XyIANWY61"
      },
      "source": [
        "####Oversampling"
      ]
    },
    {
      "cell_type": "code",
      "execution_count": null,
      "metadata": {
        "colab": {
          "base_uri": "https://localhost:8080/"
        },
        "id": "VkzJSA3WrLb4",
        "outputId": "b8ec801a-6466-4daa-d965-ed504b8edb5f"
      },
      "outputs": [
        {
          "output_type": "stream",
          "name": "stdout",
          "text": [
            "Original Data count:  Counter({0: 227451, 1: 394})\n",
            "Oversample Count:  Counter({0: 227451, 1: 227451})\n",
            "Oversampling Model scores for 'Decision Tree Classifier:'\n",
            "fit_time: 12.76685609817505\n",
            "score_time: 0.12033801078796387\n",
            "test_accuracy: 0.9991529329149202\n",
            "test_precision: 0.779582650703076\n",
            "test_recall: 0.7157091853294386\n",
            "test_f1: 0.7452016760565556\n",
            "test_roc_auc: 0.8576765324222103\n",
            "time: 37.7 s (started: 2022-05-09 14:01:35 +00:00)\n"
          ]
        }
      ],
      "source": [
        "# Getting total count to compare\n",
        "print(\"Original Data count: \", Counter(y_train))\n",
        "\n",
        "# Setup Oversampler\n",
        "oversampling = RandomOverSampler(sampling_strategy='minority')\n",
        "\n",
        "X_train_over, y_train_over = oversampling.fit_resample(X_train, y_train)\n",
        "\n",
        "# Count After undersample\n",
        "print(\"Oversample Count: \", Counter(y_train_over))\n",
        "\n",
        "# Using pipeline to pass undersample & decision Tree and generate score on Cross Validation\n",
        "model = make_pipeline(RandomOverSampler(),\n",
        "                      DecisionTreeClassifier(criterion=\"entropy\")\n",
        "                    ) \n",
        "\n",
        "# cv = RepeatedStratifiedKFold(n_splits=10, n_repeats=3, random_state=1)\n",
        "scores = cross_validate(model, \n",
        "                        X_train, \n",
        "                        y_train, \n",
        "                        scoring=scoring, \n",
        "                        cv=5, \n",
        "                        n_jobs=-1)\n",
        "\n",
        "# Output Results\n",
        "print(\"Oversampling Model scores for 'Decision Tree Classifier:'\")\n",
        "for m in scores:\n",
        "    print(f'{m}: {np.mean(scores[m])}')"
      ]
    },
    {
      "cell_type": "markdown",
      "metadata": {
        "id": "4OnBE9CzeFRt"
      },
      "source": [
        "####SMOTE"
      ]
    },
    {
      "cell_type": "code",
      "execution_count": null,
      "metadata": {
        "colab": {
          "base_uri": "https://localhost:8080/"
        },
        "id": "rbyh-rkvuqhs",
        "outputId": "359d4c24-2371-45a0-d6f2-4d20dd969b6c"
      },
      "outputs": [
        {
          "output_type": "stream",
          "name": "stdout",
          "text": [
            "SMOTE Model scores for 'Decision Tree Classifier:'\n",
            "fit_time: 15.709970474243164\n",
            "score_time: 0.10147013664245605\n",
            "test_accuracy: 0.998103974192982\n",
            "test_precision: 0.47687723178289215\n",
            "test_recall: 0.8044466082440765\n",
            "test_f1: 0.5967299241282878\n",
            "test_roc_auc: 0.9014429151951008\n",
            "time: 44.2 s (started: 2022-05-09 14:02:13 +00:00)\n"
          ]
        }
      ],
      "source": [
        "from imblearn.over_sampling import SMOTE\n",
        "\n",
        "# Using pipeline to pass oversample, undersample & decision Tree and generate score on Cross Validation\n",
        "model = make_pipeline(\n",
        "    SMOTE(sampling_strategy=0.1), \n",
        "    DecisionTreeClassifier(criterion=\"entropy\")) \n",
        "\n",
        "# cv = RepeatedStratifiedKFold(n_splits=10, n_repeats=3, random_state=1)\n",
        "scores = cross_validate(model, \n",
        "                        X_train, \n",
        "                        y_train, \n",
        "                        scoring=scoring, \n",
        "                        cv=5, \n",
        "                        n_jobs=-1)\n",
        "\n",
        "# Output Results\n",
        "print(\"SMOTE Model scores for 'Decision Tree Classifier:'\")\n",
        "for m in scores:\n",
        "    print(f'{m}: {np.mean(scores[m])}')"
      ]
    },
    {
      "cell_type": "markdown",
      "metadata": {
        "id": "iIMNJbyvoWRK"
      },
      "source": [
        "**Best Decision Tree Model is the base line with:**\n",
        "test_f1: 0.8160541384855333\n",
        "\n",
        "**Other target the following results**\n",
        "\n",
        "*Base Model scores for 'Decision Tree Classifier:'*\n",
        "test_recall: 0.7942948717948718 & test_f1: 0.8160541384855333\n",
        "\n",
        "*Undersampling Model scores for 'Decision Tree Classifier:'*\n",
        "test_recall: 0.8802564102564101 & test_f1: 0.07949783603414408\n",
        "\n",
        "*Oversampling Model scores for 'Decision Tree Classifier:'*\n",
        "test_recall: 0.8830128205128205 & test_f1: 0.08943459980458608\n",
        "\n",
        "*SMOTE Model scores for 'Decision Tree Classifier:'*\n",
        "test_recall: 0.8804487179487179 & test_f1: 0.12004138306640919"
      ]
    },
    {
      "cell_type": "markdown",
      "metadata": {
        "id": "BvFwnkjUmRRI"
      },
      "source": [
        "###Feature Selection "
      ]
    },
    {
      "cell_type": "markdown",
      "metadata": {
        "id": "uRHnA0B3mZia"
      },
      "source": [
        "####Recursive Feature"
      ]
    },
    {
      "cell_type": "markdown",
      "metadata": {
        "id": "h_D97rklgMPb"
      },
      "source": [
        "Sample 30% of data for faster feature selection."
      ]
    },
    {
      "cell_type": "code",
      "execution_count": null,
      "metadata": {
        "colab": {
          "base_uri": "https://localhost:8080/"
        },
        "id": "qVTWzgwhgLbw",
        "outputId": "b74e253e-8ea9-474d-f62e-c99bf3ccd5bf"
      },
      "outputs": [
        {
          "output_type": "stream",
          "name": "stdout",
          "text": [
            "time: 53.7 ms (started: 2022-05-09 14:02:57 +00:00)\n"
          ]
        }
      ],
      "source": [
        "from sklearn.utils import resample\n",
        "X_train_sample, y_train_sample = resample(X_train, y_train, n_samples=X_train.shape[0] * 0.3, replace=True, stratify=y_train, random_state=0)"
      ]
    },
    {
      "cell_type": "code",
      "execution_count": null,
      "metadata": {
        "colab": {
          "base_uri": "https://localhost:8080/",
          "height": 106
        },
        "id": "WG-aq0DfXEAM",
        "outputId": "a04d6d0d-feec-45a1-ce45-254d137aba29"
      },
      "outputs": [
        {
          "output_type": "execute_result",
          "data": {
            "text/plain": [
              "'\\n# Setting Decision tree parameters \\nmodel = DecisionTreeClassifier(criterion=\"entropy\")\\n\\n# Setting Recursive_Feature parameters \\nRecursive_Feature = RFECV(\\n    estimator=model,\\n    step=2,\\n    cv=KFold(5),\\n    scoring=\"f1\")\\n\\nRecursive_Feature.fit(X_train_sample, y_train_sample)\\n\\n# Training model\\nscores = cross_validate(\\n    model,\\n    X_train_sample.iloc[:,Recursive_Feature.support_], \\n    y_train_sample, \\n    scoring=scoring, \\n    cv=5, \\n    n_jobs=-1)\\n\\n# Output Results\\nprint(f\"Recursive scores for \\'Decision Tree Classifier with {Recursive_Feature.n_features_} Features:\\'\")\\nfor m in scores:\\n    print(f\\'{m}: {np.mean(scores[m])}\\')\\n\\n'"
            ],
            "application/vnd.google.colaboratory.intrinsic+json": {
              "type": "string"
            }
          },
          "metadata": {},
          "execution_count": 42
        },
        {
          "output_type": "stream",
          "name": "stdout",
          "text": [
            "time: 6.77 ms (started: 2022-05-09 14:02:57 +00:00)\n"
          ]
        }
      ],
      "source": [
        "'''\n",
        "# Setting Decision tree parameters \n",
        "model = DecisionTreeClassifier(criterion=\"entropy\")\n",
        "\n",
        "# Setting Recursive_Feature parameters \n",
        "Recursive_Feature = RFECV(\n",
        "    estimator=model,\n",
        "    step=2,\n",
        "    cv=KFold(5),\n",
        "    scoring=\"f1\")\n",
        "\n",
        "Recursive_Feature.fit(X_train_sample, y_train_sample)\n",
        "\n",
        "# Training model\n",
        "scores = cross_validate(\n",
        "    model,\n",
        "    X_train_sample.iloc[:,Recursive_Feature.support_], \n",
        "    y_train_sample, \n",
        "    scoring=scoring, \n",
        "    cv=5, \n",
        "    n_jobs=-1)\n",
        "\n",
        "# Output Results\n",
        "print(f\"Recursive scores for 'Decision Tree Classifier with {Recursive_Feature.n_features_} Features:'\")\n",
        "for m in scores:\n",
        "    print(f'{m}: {np.mean(scores[m])}')\n",
        "\n",
        "'''"
      ]
    },
    {
      "cell_type": "markdown",
      "source": [
        "Recursive scores for 'Decision Tree Classifier with 25 Features:'\n",
        "\n",
        "fit_time: 2.57745156288147\n",
        "\n",
        "score_time: 0.0328577995300293\n",
        "\n",
        "test_accuracy: 0.9992538769131867\n",
        "\n",
        "test_precision: 0.7742643829600352\n",
        "\n",
        "test_recall: 0.8134057971014494\n",
        "\n",
        "test_f1: 0.7912629111671393\n",
        "\n",
        "test_roc_auc: 0.9064903976347723\n",
        "\n",
        "time: 1min 40s (started: 2022-05-08 18:00:27 +00:00)"
      ],
      "metadata": {
        "id": "KmYgJiJ75aer"
      }
    },
    {
      "cell_type": "markdown",
      "metadata": {
        "id": "PmXBcFkfUA2Z"
      },
      "source": [
        "####Forward selection"
      ]
    },
    {
      "cell_type": "markdown",
      "metadata": {
        "id": "mc652JByjr93"
      },
      "source": [
        "Sample 20% since this method is more expensive"
      ]
    },
    {
      "cell_type": "code",
      "execution_count": null,
      "metadata": {
        "colab": {
          "base_uri": "https://localhost:8080/"
        },
        "id": "YTNBX8ECjeL6",
        "outputId": "2a43de00-a3c2-451c-f9bd-fd0a04fe43c2"
      },
      "outputs": [
        {
          "output_type": "stream",
          "name": "stdout",
          "text": [
            "time: 42.5 ms (started: 2022-05-09 14:02:57 +00:00)\n"
          ]
        }
      ],
      "source": [
        "from sklearn.utils import resample\n",
        "X_train_sample, y_train_sample = resample(X_train, y_train, n_samples=X_train.shape[0] * 0.2, replace=True, stratify=y_train, random_state=0)"
      ]
    },
    {
      "cell_type": "code",
      "execution_count": null,
      "metadata": {
        "id": "6nI_RGC_UKSS",
        "colab": {
          "base_uri": "https://localhost:8080/",
          "height": 106
        },
        "outputId": "48b2909c-75d8-4398-bdb7-421047620943"
      },
      "outputs": [
        {
          "output_type": "execute_result",
          "data": {
            "text/plain": [
              "'\\nmodel = DecisionTreeClassifier(criterion=\"entropy\")\\n\\nForward_Selection = SequentialFeatureSelector(\\n    estimator=model, \\n    direction=\"forward\",\\n    scoring=\\'f1\\',\\n    n_features_to_select=5,\\n    cv=KFold(5))\\n\\nForward_Selection.fit(X_train_sample, y_train_sample)\\n\\n# Training model\\nscores = cross_validate(model,\\n                        X_train_sample.iloc[:,Forward_Selection.support_], \\n                        y_train_sample, \\n                        scoring=scoring, \\n                        cv=5, \\n                        n_jobs=-1)\\n\\n# Output Results\\nprint(f\"Forward Selection scores for \\'Decision Tree Classifier with {Forward_Selection.n_features_to_select_} Features:\\'\")\\nfor m in scores:\\n    print(f\\'{m}: {np.mean(scores[m])}\\')\\n\\n'"
            ],
            "application/vnd.google.colaboratory.intrinsic+json": {
              "type": "string"
            }
          },
          "metadata": {},
          "execution_count": 44
        },
        {
          "output_type": "stream",
          "name": "stdout",
          "text": [
            "time: 5.47 ms (started: 2022-05-09 14:02:57 +00:00)\n"
          ]
        }
      ],
      "source": [
        "'''\n",
        "model = DecisionTreeClassifier(criterion=\"entropy\")\n",
        "\n",
        "Forward_Selection = SequentialFeatureSelector(\n",
        "    estimator=model, \n",
        "    direction=\"forward\",\n",
        "    scoring='f1',\n",
        "    n_features_to_select=5,\n",
        "    cv=KFold(5))\n",
        "\n",
        "Forward_Selection.fit(X_train_sample, y_train_sample)\n",
        "\n",
        "# Training model\n",
        "scores = cross_validate(model,\n",
        "                        X_train_sample.iloc[:,Forward_Selection.support_], \n",
        "                        y_train_sample, \n",
        "                        scoring=scoring, \n",
        "                        cv=5, \n",
        "                        n_jobs=-1)\n",
        "\n",
        "# Output Results\n",
        "print(f\"Forward Selection scores for 'Decision Tree Classifier with {Forward_Selection.n_features_to_select_} Features:'\")\n",
        "for m in scores:\n",
        "    print(f'{m}: {np.mean(scores[m])}')\n",
        "\n",
        "'''"
      ]
    },
    {
      "cell_type": "markdown",
      "source": [
        "Forward Selection scores for 'Decision Tree Classifier with 5 Features:'\n",
        "\n",
        "fit_time: 0.33429946899414065\n",
        "\n",
        "score_time: 0.026198291778564455\n",
        "\n",
        "test_accuracy: 0.9992099921351747\n",
        "\n",
        "test_precision: 0.769270876182641\n",
        "\n",
        "test_recall: 0.7966666666666666\n",
        "\n",
        "test_f1: 0.7778308491169271\n",
        "\n",
        "test_roc_auc: 0.8981135047995895\n",
        "\n",
        "time: 2min 1s (started: 2022-05-08 18:02:07 +00:00)"
      ],
      "metadata": {
        "id": "hX-jJKxG4WC7"
      }
    },
    {
      "cell_type": "markdown",
      "metadata": {
        "id": "01qbyLOOUKyY"
      },
      "source": [
        "####Backward selection --> Commenting it out since takes really long time"
      ]
    },
    {
      "cell_type": "markdown",
      "metadata": {
        "id": "1YPhJiJoMW8w"
      },
      "source": [
        "Will need to take a sample of the date due to high computational performance if we use current training data\n",
        "\n",
        "\n"
      ]
    },
    {
      "cell_type": "code",
      "execution_count": null,
      "metadata": {
        "id": "l8PoVm6QI9pT",
        "colab": {
          "base_uri": "https://localhost:8080/"
        },
        "outputId": "6a44a8fe-0e53-422a-fa10-e442fa6bbf84"
      },
      "outputs": [
        {
          "output_type": "stream",
          "name": "stdout",
          "text": [
            "time: 35.1 ms (started: 2022-05-09 14:02:57 +00:00)\n"
          ]
        }
      ],
      "source": [
        "from sklearn.utils import resample\n",
        "X_train_sample, y_train_sample = resample(X_train, y_train, n_samples=X_train.shape[0] * 0.1, replace=True, stratify=y_train, random_state=0)"
      ]
    },
    {
      "cell_type": "code",
      "execution_count": null,
      "metadata": {
        "id": "4F_pbI1fUOTI",
        "colab": {
          "base_uri": "https://localhost:8080/"
        },
        "outputId": "c30fea70-9bea-4dbb-d631-0e62196b6131"
      },
      "outputs": [
        {
          "output_type": "stream",
          "name": "stdout",
          "text": [
            "time: 2.63 ms (started: 2022-05-09 14:02:57 +00:00)\n"
          ]
        }
      ],
      "source": [
        "# model = DecisionTreeClassifier(criterion=\"entropy\", max_depth=3)\n",
        "\n",
        "# Forward_Selection = SequentialFeatureSelector(estimator=model, n_features_to_select=5, direction=\"backward\")\n",
        "# Forward_Selection.fit(X_train_sample, y_train_sample)\n",
        "\n",
        "# # Training model\n",
        "# scores = cross_validate(model, X_train.iloc[:,Forward_Selection.support_], y_train, scoring=scoring, cv=10, n_jobs=-1)\n",
        "\n",
        "# # Output Results\n",
        "# print(\"Backward Selection scores for 'Decision Tree Classifier with 5 Features:'\")\n",
        "# for m in scores:\n",
        "#     print(f'{m}: {np.mean(scores[m])}')"
      ]
    },
    {
      "cell_type": "markdown",
      "metadata": {
        "id": "cHf1gIo0NQ9k"
      },
      "source": [
        "**Best Feature selection for Decision Tree Model is the recursive:**\n",
        "test_f1: 0.79"
      ]
    },
    {
      "cell_type": "markdown",
      "source": [
        "### Decision"
      ],
      "metadata": {
        "id": "MziubJfx4A0q"
      }
    },
    {
      "cell_type": "markdown",
      "source": [
        "We choose the Base Model without feature selection due to computational cost. There is an improvement of 2% using feature selection."
      ],
      "metadata": {
        "id": "q64wdH5x4FZ3"
      }
    },
    {
      "cell_type": "markdown",
      "metadata": {
        "id": "a10AYFZsXq-Z"
      },
      "source": [
        "## Random Forest"
      ]
    },
    {
      "cell_type": "markdown",
      "metadata": {
        "id": "1RUPNqcFQtDW"
      },
      "source": [
        "Use a 20% sample to speed up training"
      ]
    },
    {
      "cell_type": "code",
      "execution_count": null,
      "metadata": {
        "id": "XB48H6HeQt0M",
        "colab": {
          "base_uri": "https://localhost:8080/"
        },
        "outputId": "c12df053-4128-4e52-cd02-7843effce27d"
      },
      "outputs": [
        {
          "output_type": "stream",
          "name": "stdout",
          "text": [
            "time: 42.8 ms (started: 2022-05-09 14:02:57 +00:00)\n"
          ]
        }
      ],
      "source": [
        "X_train_sample, y_train_sample = resample(X_train, y_train, n_samples=X_train.shape[0] * 0.2, replace=True, stratify=y_train, random_state=0)"
      ]
    },
    {
      "cell_type": "markdown",
      "metadata": {
        "id": "nxV_-HcLjtFS"
      },
      "source": [
        "###Models"
      ]
    },
    {
      "cell_type": "code",
      "execution_count": null,
      "metadata": {
        "id": "GsZgSrGVkoQ7",
        "colab": {
          "base_uri": "https://localhost:8080/"
        },
        "outputId": "93a84a20-9610-43dd-ab53-87d5e1632a5d"
      },
      "outputs": [
        {
          "output_type": "stream",
          "name": "stdout",
          "text": [
            "time: 3.61 ms (started: 2022-05-09 14:02:57 +00:00)\n"
          ]
        }
      ],
      "source": [
        "# Creating list with scoring metrics\n",
        "scoring = ['accuracy', 'precision', 'recall', 'f1','roc_auc']"
      ]
    },
    {
      "cell_type": "markdown",
      "metadata": {
        "id": "e_sSSQmCjxk4"
      },
      "source": [
        "####Base Models"
      ]
    },
    {
      "cell_type": "code",
      "execution_count": null,
      "metadata": {
        "id": "TPT1i9VuQPy4",
        "colab": {
          "base_uri": "https://localhost:8080/"
        },
        "outputId": "c31f3307-c209-48d9-da50-8935e7bef01a"
      },
      "outputs": [
        {
          "output_type": "stream",
          "name": "stdout",
          "text": [
            "Base Model scores for 'Random Forest  Classifier:'\n",
            "fit_time: 9.670401668548584\n",
            "score_time: 0.26738815307617186\n",
            "test_accuracy: 0.9994513814205236\n",
            "test_precision: 0.9263736263736263\n",
            "test_recall: 0.7474999999999999\n",
            "test_f1: 0.8237312113174182\n",
            "test_roc_auc: 0.9356551806257786\n",
            "time: 27.5 s (started: 2022-05-09 14:02:57 +00:00)\n"
          ]
        }
      ],
      "source": [
        "clf = RandomForestClassifier(criterion=\"entropy\", random_state=0, n_jobs=-1, n_estimators=50)\n",
        "\n",
        "'''\n",
        "rf = Pipeline([\n",
        "                ('mms', MinMaxScaler()),\n",
        "                ('rf', clf)])\n",
        "'''\n",
        "\n",
        "scores = cross_validate(clf, X_train_sample, y_train_sample, scoring=scoring, cv=5, n_jobs=-1)\n",
        "\n",
        "print(\"Base Model scores for 'Random Forest  Classifier:'\")\n",
        "for m in scores:\n",
        "    print(f'{m}: {np.mean(scores[m])}')"
      ]
    },
    {
      "cell_type": "markdown",
      "metadata": {
        "id": "-lCqCdTWj1xt"
      },
      "source": [
        "####Undersampling"
      ]
    },
    {
      "cell_type": "code",
      "execution_count": null,
      "metadata": {
        "id": "9KiC3E-dlFEP",
        "colab": {
          "base_uri": "https://localhost:8080/"
        },
        "outputId": "9450db09-3b41-4313-c9af-a1092ff15658"
      },
      "outputs": [
        {
          "output_type": "stream",
          "name": "stdout",
          "text": [
            "Original Data count:  Counter({0: 227451, 1: 394})\n",
            "Undersample Count:  Counter({0: 394, 1: 394})\n",
            "Undersampling Model scores for 'Random Forest Classifier:'\n",
            "fit_time: 0.4032750606536865\n",
            "score_time: 0.6369720458984375\n",
            "test_accuracy: 0.974750378546819\n",
            "test_precision: 0.058591077538720726\n",
            "test_recall: 0.8984096072703668\n",
            "test_f1: 0.10997084719388173\n",
            "test_roc_auc: 0.9808039149938363\n",
            "time: 3.27 s (started: 2022-05-09 14:03:25 +00:00)\n"
          ]
        }
      ],
      "source": [
        "\n",
        "# Getting total count to compare\n",
        "print(\"Original Data count: \", Counter(y_train))\n",
        "\n",
        "# Setup undersample\n",
        "undersampling = RandomUnderSampler(sampling_strategy='majority')\n",
        "\n",
        "# Pass X & Y train for undersample\n",
        "X_train_under, y_train_under = undersampling.fit_resample(X_train, y_train)\n",
        "\n",
        "# Count After undersample\n",
        "print(\"Undersample Count: \", Counter(y_train_under))\n",
        "\n",
        "# Using pipeline to pass undersample & decision Tree and generate score on Cross Validation\n",
        "model = make_pipeline(\n",
        "    RandomUnderSampler(),\n",
        "    RandomForestClassifier(criterion=\"entropy\", random_state=0, n_jobs=-1, n_estimators=50)\n",
        ") \n",
        "\n",
        "# cv = RepeatedStratifiedKFold(n_splits=10, n_repeats=3, random_state=1)\n",
        "scores = cross_validate(model, X_train, y_train, scoring=scoring, cv=5, n_jobs=-1)\n",
        "\n",
        "\n",
        "# Output Results\n",
        "print(\"Undersampling Model scores for 'Random Forest Classifier:'\")\n",
        "for m in scores:\n",
        "    print(f'{m}: {np.mean(scores[m])}')"
      ]
    },
    {
      "cell_type": "markdown",
      "metadata": {
        "id": "nm7WtL9Lj4eb"
      },
      "source": [
        "####Oversampling"
      ]
    },
    {
      "cell_type": "code",
      "execution_count": null,
      "metadata": {
        "id": "L_QwUJQBlc9P",
        "colab": {
          "base_uri": "https://localhost:8080/"
        },
        "outputId": "7a495e80-5714-402e-9a61-f64d2e55483f"
      },
      "outputs": [
        {
          "output_type": "stream",
          "name": "stdout",
          "text": [
            "Original Data count:  Counter({0: 45490, 1: 79})\n",
            "Oversample Count:  Counter({0: 45490, 1: 45490})\n",
            "Oversampling Model scores for 'Random Forest Classifier:'\n",
            "fit_time: 10.892244815826416\n",
            "score_time: 0.23058576583862306\n",
            "test_accuracy: 0.9994513814205236\n",
            "test_precision: 0.9119047619047619\n",
            "test_recall: 0.76\n",
            "test_f1: 0.8274220032840722\n",
            "test_roc_auc: 0.941561698541804\n",
            "time: 31.3 s (started: 2022-05-09 14:03:28 +00:00)\n"
          ]
        }
      ],
      "source": [
        "# Getting total count to compare\n",
        "print(\"Original Data count: \", Counter(y_train_sample))\n",
        "\n",
        "# Setup undersample\n",
        "oversampling = RandomOverSampler(sampling_strategy='minority')\n",
        "\n",
        "# Pass X & Y train for undersample\n",
        "\n",
        "X_train_over, y_train_over = oversampling.fit_resample(X_train_sample, y_train_sample)\n",
        "#X_train_over, y_train_over = oversampling.fit_resample(X_train, y_train)\n",
        "\n",
        "# Count After undersample\n",
        "print(\"Oversample Count: \", Counter(y_train_over))\n",
        "\n",
        "# Using pipeline to pass undersample & decision Tree and generate score on Cross Validation\n",
        "model = make_pipeline(\n",
        "    RandomOverSampler(random_state=0),\n",
        "    RandomForestClassifier(criterion=\"entropy\", random_state=0, n_jobs=-1, n_estimators=50)\n",
        ") \n",
        "\n",
        "# cv = RepeatedStratifiedKFold(n_splits=10, n_repeats=3, random_state=1)\n",
        "scores = cross_validate(model, X_train_sample, y_train_sample, scoring=scoring, cv=5, n_jobs=-1)\n",
        "\n",
        "\n",
        "# Output Results\n",
        "print(\"Oversampling Model scores for 'Random Forest Classifier:'\")\n",
        "for m in scores:\n",
        "    print(f'{m}: {np.mean(scores[m])}')\n"
      ]
    },
    {
      "cell_type": "markdown",
      "metadata": {
        "id": "XAQNgPmJj79y"
      },
      "source": [
        "####SMOTE"
      ]
    },
    {
      "cell_type": "code",
      "execution_count": null,
      "metadata": {
        "id": "AfpvSiugltSk",
        "colab": {
          "base_uri": "https://localhost:8080/"
        },
        "outputId": "a71c0932-148c-4bc0-edc6-c388d8f6702b"
      },
      "outputs": [
        {
          "output_type": "stream",
          "name": "stdout",
          "text": [
            "SMOTE Model scores for 'Random Forest Classifier:'\n",
            "fit_time: 25.501894903182983\n",
            "score_time: 0.2550495624542236\n",
            "test_accuracy: 0.9994952699436748\n",
            "test_precision: 0.8808963585434173\n",
            "test_recall: 0.8225\n",
            "test_f1: 0.8496228132268178\n",
            "test_roc_auc: 0.9522466018172493\n",
            "time: 1min 11s (started: 2022-05-09 14:03:59 +00:00)\n"
          ]
        }
      ],
      "source": [
        "from imblearn.over_sampling import SMOTE\n",
        "\n",
        "# Using pipeline to pass oversample, undersample & decision Tree and generate score on Cross Validation\n",
        "model = make_pipeline(\n",
        "    SMOTE(random_state=0), \n",
        "    RandomForestClassifier(criterion=\"entropy\", random_state=0, n_jobs=-1, n_estimators=50)\n",
        ") \n",
        "\n",
        "# cv = RepeatedStratifiedKFold(n_splits=10, n_repeats=3, random_state=1)\n",
        "scores = cross_validate(model, X_train_sample, y_train_sample, scoring=scoring, cv=5, n_jobs=-1)\n",
        "\n",
        "# Output Results\n",
        "print(\"SMOTE Model scores for 'Random Forest Classifier:'\")\n",
        "for m in scores:\n",
        "    print(f'{m}: {np.mean(scores[m])}')"
      ]
    },
    {
      "cell_type": "markdown",
      "source": [
        "### Decision"
      ],
      "metadata": {
        "id": "A7Ml2qJf5w-1"
      }
    },
    {
      "cell_type": "markdown",
      "source": [
        "SMOTE has a better F1 by a small margin. Since this difference is about 3%, we stick with the base model."
      ],
      "metadata": {
        "id": "A3VjTvx76Q7I"
      }
    },
    {
      "cell_type": "markdown",
      "metadata": {
        "id": "j-OauDlJLiiQ"
      },
      "source": [
        "**Best Random Forest Model is the SMOTE with:**\n",
        "test_f1: 0.85\n",
        "\n",
        "**Other target the following results**\n",
        "\n",
        "*Base Model scores for 'Random Forest Classifier:'*\n",
        "test_f1: 0.82\n",
        "\n",
        "*Undersampling Model scores for 'Random Forest Classifier:'*\n",
        "test_f1: 0.13\n",
        "\n",
        "*Oversampling Model scores for 'Random Forest Classifier:'*\n",
        "test_f1: 0.83\n"
      ]
    },
    {
      "cell_type": "markdown",
      "metadata": {
        "id": "QctrN8NRj-ag"
      },
      "source": [
        "###Feature Selection"
      ]
    },
    {
      "cell_type": "markdown",
      "metadata": {
        "id": "SKfbQrgdkEIi"
      },
      "source": [
        "####Recursive Feature"
      ]
    },
    {
      "cell_type": "code",
      "execution_count": null,
      "metadata": {
        "id": "vOYX5VvwHZiM",
        "colab": {
          "base_uri": "https://localhost:8080/"
        },
        "outputId": "569590c1-25b2-4b50-a798-61edf78e773a"
      },
      "outputs": [
        {
          "output_type": "stream",
          "name": "stdout",
          "text": [
            "time: 39.3 ms (started: 2022-05-09 14:05:10 +00:00)\n"
          ]
        }
      ],
      "source": [
        "from sklearn.utils import resample\n",
        "X_train_sample, y_train_sample = resample(X_train, y_train, n_samples=X_train.shape[0] * 0.1, replace=True, stratify=y_train, random_state=0)"
      ]
    },
    {
      "cell_type": "code",
      "execution_count": null,
      "metadata": {
        "id": "YZi1jtWbmB6J",
        "colab": {
          "base_uri": "https://localhost:8080/",
          "height": 124
        },
        "outputId": "33f2d5d2-4be3-483c-9193-87b670d50d96"
      },
      "outputs": [
        {
          "output_type": "execute_result",
          "data": {
            "text/plain": [
              "'\\n\\n# Setting Decision tree parameters \\nmodel = RandomForestClassifier(criterion=\"entropy\", random_state=0, n_jobs=-1, n_estimators=50)\\n\\n# Setting Recursive_Feature parameters \\nRecursive_Feature = RFECV(\\n    estimator=model,\\n    step=4,\\n    cv=KFold(5),\\n    scoring=\"f1\",\\n    n_jobs=-1\\n)\\nRecursive_Feature.fit(X_train_sample, y_train_sample)\\n\\n# Training model\\nscores = cross_validate(model, \\n                        X_train_sample.iloc[:,Recursive_Feature.support_], \\n                        y_train_sample, \\n                        scoring=scoring, \\n                        cv=5, \\n                        n_jobs=-1)\\n\\n# Output Results\\nprint(\"Recursive scores for \\'Random Forest Classifier with 5 Features:\\'\")\\nfor m in scores:\\n    print(f\\'{m}: {np.mean(scores[m])}\\')\\n\\n'"
            ],
            "application/vnd.google.colaboratory.intrinsic+json": {
              "type": "string"
            }
          },
          "metadata": {},
          "execution_count": 54
        },
        {
          "output_type": "stream",
          "name": "stdout",
          "text": [
            "time: 8.06 ms (started: 2022-05-09 14:05:10 +00:00)\n"
          ]
        }
      ],
      "source": [
        "'''\n",
        "\n",
        "# Setting Decision tree parameters \n",
        "model = RandomForestClassifier(criterion=\"entropy\", random_state=0, n_jobs=-1, n_estimators=50)\n",
        "\n",
        "# Setting Recursive_Feature parameters \n",
        "Recursive_Feature = RFECV(\n",
        "    estimator=model,\n",
        "    step=4,\n",
        "    cv=KFold(5),\n",
        "    scoring=\"f1\",\n",
        "    n_jobs=-1\n",
        ")\n",
        "Recursive_Feature.fit(X_train_sample, y_train_sample)\n",
        "\n",
        "# Training model\n",
        "scores = cross_validate(model, \n",
        "                        X_train_sample.iloc[:,Recursive_Feature.support_], \n",
        "                        y_train_sample, \n",
        "                        scoring=scoring, \n",
        "                        cv=5, \n",
        "                        n_jobs=-1)\n",
        "\n",
        "# Output Results\n",
        "print(\"Recursive scores for 'Random Forest Classifier with 5 Features:'\")\n",
        "for m in scores:\n",
        "    print(f'{m}: {np.mean(scores[m])}')\n",
        "\n",
        "'''"
      ]
    },
    {
      "cell_type": "markdown",
      "metadata": {
        "id": "khzQNp1mkPAY"
      },
      "source": [
        "*italicized text*####Forward Selection\n"
      ]
    },
    {
      "cell_type": "markdown",
      "metadata": {
        "id": "TV3mlKyoaQNS"
      },
      "source": [
        "Takes too much time, this method will be omitted."
      ]
    },
    {
      "cell_type": "code",
      "execution_count": null,
      "metadata": {
        "id": "QdQMhvGXHTFv",
        "colab": {
          "base_uri": "https://localhost:8080/"
        },
        "outputId": "cc57de31-a2a1-4fe5-a839-c71fa973a2bc"
      },
      "outputs": [
        {
          "output_type": "stream",
          "name": "stdout",
          "text": [
            "time: 34.1 ms (started: 2022-05-09 14:05:10 +00:00)\n"
          ]
        }
      ],
      "source": [
        "from sklearn.utils import resample\n",
        "X_train_sample, y_train_sample = resample(X_train, y_train, n_samples=X_train.shape[0] * 0.1, replace=True, stratify=y_train, random_state=0)"
      ]
    },
    {
      "cell_type": "code",
      "execution_count": null,
      "metadata": {
        "id": "meXHf2zsmJ51",
        "colab": {
          "base_uri": "https://localhost:8080/",
          "height": 124
        },
        "outputId": "a7fa18b0-ba24-43a2-eb26-445ebbc24117"
      },
      "outputs": [
        {
          "output_type": "execute_result",
          "data": {
            "text/plain": [
              "'\\n\\nmodel = RandomForestClassifier(\\n    criterion=\"entropy\", \\n    random_state=0, \\n    n_jobs=-1, \\n    n_estimators=50\\n)\\n\\n# Setting SequentialFeatureSelector parameters \\nForward_Selection = SequentialFeatureSelector(\\n    estimator=model, \\n    direction=\"forward\",\\n    scoring=\\'f1\\',\\n    n_features_to_select=5,\\n    cv=KFold(5))\\nForward_Selection.fit(X_train_sample, y_train_sample)\\n\\n\\n# Training model\\nscores = cross_validate(model, \\n                        X_train_sample.iloc[:,Forward_Selection.support_], \\n                        y_train_sample, \\n                        scoring=scoring, \\n                        cv=5, \\n                        n_jobs=-1)\\n\\n# Output Results\\nprint(f\"Forward Selection scores for \\'Random Forest Classifier with {n_features} Features:\\'\")\\nfor m in scores:\\n    print(f\\'{m}: {np.mean(scores[m])}\\')\\n\\n'"
            ],
            "application/vnd.google.colaboratory.intrinsic+json": {
              "type": "string"
            }
          },
          "metadata": {},
          "execution_count": 56
        },
        {
          "output_type": "stream",
          "name": "stdout",
          "text": [
            "time: 5.88 ms (started: 2022-05-09 14:05:10 +00:00)\n"
          ]
        }
      ],
      "source": [
        "'''\n",
        "\n",
        "model = RandomForestClassifier(\n",
        "    criterion=\"entropy\", \n",
        "    random_state=0, \n",
        "    n_jobs=-1, \n",
        "    n_estimators=50\n",
        ")\n",
        "\n",
        "# Setting SequentialFeatureSelector parameters \n",
        "Forward_Selection = SequentialFeatureSelector(\n",
        "    estimator=model, \n",
        "    direction=\"forward\",\n",
        "    scoring='f1',\n",
        "    n_features_to_select=5,\n",
        "    cv=KFold(5))\n",
        "Forward_Selection.fit(X_train_sample, y_train_sample)\n",
        "\n",
        "\n",
        "# Training model\n",
        "scores = cross_validate(model, \n",
        "                        X_train_sample.iloc[:,Forward_Selection.support_], \n",
        "                        y_train_sample, \n",
        "                        scoring=scoring, \n",
        "                        cv=5, \n",
        "                        n_jobs=-1)\n",
        "\n",
        "# Output Results\n",
        "print(f\"Forward Selection scores for 'Random Forest Classifier with {n_features} Features:'\")\n",
        "for m in scores:\n",
        "    print(f'{m}: {np.mean(scores[m])}')\n",
        "\n",
        "'''"
      ]
    },
    {
      "cell_type": "markdown",
      "metadata": {
        "id": "Z-UMT2X4l7J3"
      },
      "source": [
        "####Backward Selection"
      ]
    },
    {
      "cell_type": "markdown",
      "metadata": {
        "id": "lUT_pNs5R9IC"
      },
      "source": [
        "Will need to take a sample of the date due to high computational performance if we use current training data"
      ]
    },
    {
      "cell_type": "code",
      "execution_count": null,
      "metadata": {
        "id": "UTIhERY0R9e7",
        "colab": {
          "base_uri": "https://localhost:8080/"
        },
        "outputId": "d869e94a-4197-486c-98f0-6e4c10b9cca2"
      },
      "outputs": [
        {
          "output_type": "stream",
          "name": "stdout",
          "text": [
            "time: 40.5 ms (started: 2022-05-09 14:05:10 +00:00)\n"
          ]
        }
      ],
      "source": [
        "from sklearn.utils import resample\n",
        "X_train_sample, y_train_sample = resample(X_train, y_train, n_samples=X_train.shape[0] * 0.1, replace=True, stratify=y_train, random_state=0)"
      ]
    },
    {
      "cell_type": "code",
      "execution_count": null,
      "metadata": {
        "id": "1Qv_Pu-5mhcX",
        "colab": {
          "base_uri": "https://localhost:8080/",
          "height": 88
        },
        "outputId": "21145047-e5dc-49c1-d3e5-01f59c62323d"
      },
      "outputs": [
        {
          "output_type": "execute_result",
          "data": {
            "text/plain": [
              "'\\nmodel = RandomForestClassifier(criterion=\"entropy\", max_depth=3)\\n\\nForward_Selection = SequentialFeatureSelector(estimator=model, n_features_to_select=5, direction=\"backward\")\\nForward_Selection.fit(X_train_sample, y_train_sample)\\n\\n# Training model\\nscores = cross_validate(model, X_train.iloc[:,Forward_Selection.support_], y_train, scoring=scoring, cv=10, n_jobs=-1)\\n\\n# Output Results\\nprint(\"Forward Selection scores for \\'Random Foreste Classifier with 5 Features:\\'\")\\nfor m in scores:\\n    print(f\\'{m}: {np.mean(scores[m])}\\')\\n\\n'"
            ],
            "application/vnd.google.colaboratory.intrinsic+json": {
              "type": "string"
            }
          },
          "metadata": {},
          "execution_count": 58
        },
        {
          "output_type": "stream",
          "name": "stdout",
          "text": [
            "time: 4.39 ms (started: 2022-05-09 14:05:10 +00:00)\n"
          ]
        }
      ],
      "source": [
        "'''\n",
        "model = RandomForestClassifier(criterion=\"entropy\", max_depth=3)\n",
        "\n",
        "Forward_Selection = SequentialFeatureSelector(estimator=model, n_features_to_select=5, direction=\"backward\")\n",
        "Forward_Selection.fit(X_train_sample, y_train_sample)\n",
        "\n",
        "# Training model\n",
        "scores = cross_validate(model, X_train.iloc[:,Forward_Selection.support_], y_train, scoring=scoring, cv=10, n_jobs=-1)\n",
        "\n",
        "# Output Results\n",
        "print(\"Forward Selection scores for 'Random Foreste Classifier with 5 Features:'\")\n",
        "for m in scores:\n",
        "    print(f'{m}: {np.mean(scores[m])}')\n",
        "\n",
        "'''"
      ]
    },
    {
      "cell_type": "markdown",
      "metadata": {
        "id": "93zQF8gZXnGb"
      },
      "source": [
        "## Ensemble Learner"
      ]
    },
    {
      "cell_type": "markdown",
      "metadata": {
        "id": "HqSlIu0m3o5f"
      },
      "source": [
        "### Voting Classifier"
      ]
    },
    {
      "cell_type": "code",
      "execution_count": null,
      "metadata": {
        "colab": {
          "base_uri": "https://localhost:8080/"
        },
        "outputId": "c0cb405d-81dc-49a0-cb5f-ae0a782b28f5",
        "id": "LmMDM_xJ_Pps"
      },
      "outputs": [
        {
          "output_type": "stream",
          "name": "stdout",
          "text": [
            "time: 52.7 ms (started: 2022-05-09 14:05:10 +00:00)\n"
          ]
        }
      ],
      "source": [
        "X_train_sample, y_train_sample = resample(X_train, y_train, n_samples=X_train.shape[0] * 0.3, replace=True, stratify=y_train, random_state=0)"
      ]
    },
    {
      "cell_type": "markdown",
      "metadata": {
        "id": "5a3bn9GC3t14"
      },
      "source": [
        "Source: 1.11.6 [Voting Classifier](https://scikit-learn.org/stable/modules/ensemble.html#voting-classifier)"
      ]
    },
    {
      "cell_type": "code",
      "execution_count": null,
      "metadata": {
        "id": "dyVlCBB84MAT",
        "colab": {
          "base_uri": "https://localhost:8080/"
        },
        "outputId": "78d12896-bcbb-47c6-d578-562d67f74789"
      },
      "outputs": [
        {
          "output_type": "stream",
          "name": "stdout",
          "text": [
            "fit_time: 3.0274776458740233\n",
            "score_time: 19.65816903114319\n",
            "test_accuracy: 0.9995757303637252\n",
            "test_balanced_accuracy: 0.9259749233823721\n",
            "test_precision: 0.900018315018315\n",
            "test_recall: 0.852111046847889\n",
            "test_f1: 0.8730922735800786\n",
            "time: 1min 3s (started: 2022-05-09 14:05:11 +00:00)\n"
          ]
        }
      ],
      "source": [
        "# TO DO: Use the best parameters for each model\n",
        "clf1 = Pipeline([('mms', MinMaxScaler()), ('knn', KNeighborsClassifier(n_neighbors=7, leaf_size=15, weights='distance'))])\n",
        "clf2 = GaussianNB()\n",
        "clf3 = DecisionTreeClassifier(criterion=\"entropy\", random_state=0)\n",
        "\n",
        "eclf = VotingClassifier(\n",
        "    estimators=[('knn', clf1), ('gnb', clf2),  ('dt', clf3)], \n",
        "    voting='hard'\n",
        ")\n",
        "\n",
        "scoring = ['accuracy', 'balanced_accuracy', 'precision', 'recall', 'f1']\n",
        "\n",
        "scores = cross_validate(eclf, X_train_sample, y_train_sample, scoring=scoring, cv=KFold(5), n_jobs=-1)\n",
        "\n",
        "for m in scores:\n",
        "    print(f'{m}: {scores[m].mean()}')"
      ]
    },
    {
      "cell_type": "markdown",
      "metadata": {
        "id": "8-hoKS46X6zS"
      },
      "source": [
        "# Evaluation"
      ]
    },
    {
      "cell_type": "markdown",
      "metadata": {
        "id": "ul394hWL6FX9"
      },
      "source": [
        "In this part, we'll train the best models found in model selection and then validate with the test data."
      ]
    },
    {
      "cell_type": "markdown",
      "source": [
        "## KNN"
      ],
      "metadata": {
        "id": "chN6U-Tnq4qW"
      }
    },
    {
      "cell_type": "markdown",
      "source": [
        "Best KNN pipeline for training and predictions:\n",
        "\n",
        "The base model without feature selection has better performance."
      ],
      "metadata": {
        "id": "As4uA7HxrSFI"
      }
    },
    {
      "cell_type": "code",
      "source": [
        "knn_X_train_sample, knn_y_train_sample = resample(\n",
        "    X_train, \n",
        "    y_train, \n",
        "    n_samples=X_train.shape[0] * 0.3, \n",
        "    replace=True, \n",
        "    stratify=y_train, \n",
        "    random_state=0\n",
        ")\n",
        "\n",
        "knn_pipe = Pipeline([\n",
        "                ('mms', MinMaxScaler()),\n",
        "                ('classifier', KNeighborsClassifier(n_neighbors=7, leaf_size=15, weights='distance'))])\n",
        "\n",
        "# Fit pipeline\n",
        "knn_pipe.fit(knn_X_train_sample, knn_y_train_sample)\n",
        "\n",
        "# Get preditions\n",
        "knn_preds = knn_pipe.predict(X_test)"
      ],
      "metadata": {
        "colab": {
          "base_uri": "https://localhost:8080/"
        },
        "id": "SRZgue7ErCRJ",
        "outputId": "5a8c2055-2c0b-46c1-9a47-433046ae2d12"
      },
      "execution_count": null,
      "outputs": [
        {
          "output_type": "stream",
          "name": "stdout",
          "text": [
            "time: 1min 17s (started: 2022-05-10 00:31:29 +00:00)\n"
          ]
        }
      ]
    },
    {
      "cell_type": "markdown",
      "metadata": {
        "id": "qX5M1VPlkg0r"
      },
      "source": [
        "## Naive Bayes"
      ]
    },
    {
      "cell_type": "markdown",
      "metadata": {
        "id": "vy9Jn9m4klh4"
      },
      "source": [
        "Naive bayes pipeline for training and predictions"
      ]
    },
    {
      "cell_type": "code",
      "execution_count": null,
      "metadata": {
        "id": "UyMpHh02cfFE",
        "colab": {
          "base_uri": "https://localhost:8080/"
        },
        "outputId": "93289142-0612-437c-a3a8-c249cd2487ed"
      },
      "outputs": [
        {
          "output_type": "stream",
          "name": "stdout",
          "text": [
            "time: 2min 45s (started: 2022-05-10 00:32:46 +00:00)\n"
          ]
        }
      ],
      "source": [
        "sfs_forward = SequentialFeatureSelector(\n",
        "    GaussianNB(),\n",
        "    direction=\"forward\",\n",
        "    scoring='f1',\n",
        "    cv=5\n",
        ")\n",
        "\n",
        "naive_bayes_pipe = Pipeline([\n",
        "('feature_selector', sfs_forward),\n",
        "('classifier', GaussianNB())\n",
        "])\n",
        "\n",
        "# Fit pipeline\n",
        "naive_bayes_pipe.fit(X_train, y_train)\n",
        "\n",
        "# Get preditions\n",
        "naive_preds = naive_bayes_pipe.predict(X_test)"
      ]
    },
    {
      "cell_type": "markdown",
      "metadata": {
        "id": "hqmtRN6aceuq"
      },
      "source": [
        "##Decision Tree"
      ]
    },
    {
      "cell_type": "code",
      "execution_count": null,
      "metadata": {
        "id": "ms0Q4-cGckdk",
        "colab": {
          "base_uri": "https://localhost:8080/"
        },
        "outputId": "b184d382-10da-4f93-f167-492cd8051ba4"
      },
      "outputs": [
        {
          "output_type": "stream",
          "name": "stdout",
          "text": [
            "time: 13.4 s (started: 2022-05-10 00:35:32 +00:00)\n"
          ]
        }
      ],
      "source": [
        "#Feature_Selection = RFECV(estimator=DecisionTreeClassifier(criterion=\"entropy\", max_depth=3), min_features_to_select=5)\n",
        "\n",
        "dt_pipe = Pipeline(\n",
        "    [\n",
        "     #('feature_selector', Feature_Selection),\n",
        "     ('classifier', DecisionTreeClassifier(criterion=\"entropy\", random_state=0))\n",
        "     ])\n",
        "\n",
        "# Fit pipeline\n",
        "dt_pipe.fit(X_train, y_train)\n",
        "\n",
        "# Get preditions\n",
        "dt_pipe_preds = dt_pipe.predict(X_test)"
      ]
    },
    {
      "cell_type": "markdown",
      "metadata": {
        "id": "8_aG5sNynRPr"
      },
      "source": [
        "##Random Forest"
      ]
    },
    {
      "cell_type": "code",
      "execution_count": null,
      "metadata": {
        "colab": {
          "base_uri": "https://localhost:8080/"
        },
        "id": "p_1HKc-BnX46",
        "outputId": "1a74c4ad-f4d8-421f-ee9c-1d0a57a79223"
      },
      "outputs": [
        {
          "output_type": "stream",
          "name": "stdout",
          "text": [
            "time: 1min 11s (started: 2022-05-10 00:35:45 +00:00)\n"
          ]
        }
      ],
      "source": [
        "model = make_pipeline(\n",
        "    RandomForestClassifier(criterion=\"entropy\", random_state=0, n_jobs=-1, n_estimators=50)\n",
        ") \n",
        "\n",
        "rf_pipe = Pipeline(\n",
        "    [\n",
        "     #('feature_selector', Feature_Selection),\n",
        "     ('classifier', model)\n",
        "     ])\n",
        "\n",
        "# Fit pipeline\n",
        "rf_pipe.fit(X_train, y_train)\n",
        "\n",
        "# Get preditions\n",
        "random_forest_preds = rf_pipe.predict(X_test)"
      ]
    },
    {
      "cell_type": "markdown",
      "metadata": {
        "id": "mMpPcyJmos1Q"
      },
      "source": [
        "## Voting Classifier"
      ]
    },
    {
      "cell_type": "code",
      "source": [
        "X_train_sample, y_train_sample = resample(\n",
        "    X_train, \n",
        "    y_train, \n",
        "    n_samples=X_train.shape[0] * 0.5, \n",
        "    replace=True, \n",
        "    stratify=y_train, \n",
        "    random_state=0)\n",
        "\n",
        "# TO DO: Use the best parameters for each model\n",
        "clf1 = Pipeline([('mms', MinMaxScaler()), ('knn', KNeighborsClassifier(n_neighbors=7, leaf_size=15, weights='distance'))])\n",
        "clf2 = GaussianNB()\n",
        "clf3 = DecisionTreeClassifier(criterion=\"entropy\", random_state=0)\n",
        "\n",
        "eclf = VotingClassifier(\n",
        "    estimators=[('knn', clf1), ('gnb', clf2),  ('dt', clf3)], \n",
        "    voting='hard'\n",
        ")\n",
        "\n",
        "voting_clf_pipe = Pipeline(\n",
        "    [\n",
        "     ('classifier', eclf)\n",
        "     ])\n",
        "\n",
        "# Fit pipeline\n",
        "voting_clf_pipe.fit(X_train_sample, y_train_sample)\n",
        "\n",
        "# Get preditions\n",
        "voting_clf_preds = voting_clf_pipe.predict(X_test) "
      ],
      "metadata": {
        "id": "RAd8oClcAXLi",
        "outputId": "e580232d-bfd6-443f-e41b-4fa92267cb26",
        "colab": {
          "base_uri": "https://localhost:8080/"
        }
      },
      "execution_count": null,
      "outputs": [
        {
          "output_type": "stream",
          "name": "stdout",
          "text": [
            "time: 2min 9s (started: 2022-05-10 00:36:57 +00:00)\n"
          ]
        }
      ]
    },
    {
      "cell_type": "markdown",
      "metadata": {
        "id": "FuXGENVJX9Y1"
      },
      "source": [
        "# Results"
      ]
    },
    {
      "cell_type": "markdown",
      "metadata": {
        "id": "t3rw6VcLj1U_"
      },
      "source": [
        "Helper function."
      ]
    },
    {
      "cell_type": "code",
      "execution_count": null,
      "metadata": {
        "id": "0XA_Icd8jJFN",
        "colab": {
          "base_uri": "https://localhost:8080/"
        },
        "outputId": "3750b808-be38-4664-ae26-dfec0d042fc0"
      },
      "outputs": [
        {
          "output_type": "stream",
          "name": "stdout",
          "text": [
            "time: 4.71 ms (started: 2022-05-09 14:14:09 +00:00)\n"
          ]
        }
      ],
      "source": [
        "def get_metrics(model_name, y_true, y_pred):\n",
        "    scores = {\n",
        "        'model' : model_name,\n",
        "        'accuracy': accuracy_score(y_true, y_pred),\n",
        "        'precision': precision_score(y_true, y_pred),\n",
        "        'recall': recall_score(y_true, y_pred),\n",
        "        'f1': f1_score(y_true, y_pred)\n",
        "    }\n",
        "    return scores"
      ]
    },
    {
      "cell_type": "markdown",
      "metadata": {
        "id": "s7GN4W1UofYc"
      },
      "source": [
        "Calculate scores:"
      ]
    },
    {
      "cell_type": "code",
      "source": [
        "knn_scores = get_metrics('KNN', y_test, knn_preds)\n",
        "naive_bayes_scores = get_metrics('Naive Bayes',y_test, naive_preds)\n",
        "Decision_Tree_scores = get_metrics('Decision Tree',y_test, dt_pipe_preds)\n",
        "Random_Forest_scores = get_metrics('Random Forest',y_test, random_forest_preds)\n",
        "voting_clf_scores = get_metrics('Voting Classifier (Hard)', y_test, voting_clf_preds)"
      ],
      "metadata": {
        "id": "dgx8hdOvCkKM",
        "outputId": "27892fc0-0cc8-41ed-d53c-b8ac70135981",
        "colab": {
          "base_uri": "https://localhost:8080/"
        }
      },
      "execution_count": null,
      "outputs": [
        {
          "output_type": "stream",
          "name": "stdout",
          "text": [
            "time: 303 ms (started: 2022-05-09 14:14:09 +00:00)\n"
          ]
        }
      ]
    },
    {
      "cell_type": "markdown",
      "metadata": {
        "id": "1n6pk1-f6UMr"
      },
      "source": [
        "In this part, we'll print the scores for each model.\n",
        "\n",
        "\n"
      ]
    },
    {
      "cell_type": "code",
      "execution_count": null,
      "metadata": {
        "colab": {
          "base_uri": "https://localhost:8080/",
          "height": 224
        },
        "id": "-7ULOPLZmuWl",
        "outputId": "a2d44214-815e-41ff-94f5-9fa115f83788"
      },
      "outputs": [
        {
          "output_type": "execute_result",
          "data": {
            "text/plain": [
              "                      model  accuracy  precision    recall        f1\n",
              "0                       KNN  0.999403   0.880952  0.755102  0.813187\n",
              "1               Naive Bayes  0.995453   0.255319  0.857143  0.393443\n",
              "2             Decision Tree  0.999298   0.778846  0.826531  0.801980\n",
              "3             Random Forest  0.999508   0.850000  0.867347  0.858586\n",
              "4  Voting Classifier (Hard)  0.999438   0.836735  0.836735  0.836735"
            ],
            "text/html": [
              "\n",
              "  <div id=\"df-32de8e5c-0a5a-4f89-b184-5e9f1b318a66\">\n",
              "    <div class=\"colab-df-container\">\n",
              "      <div>\n",
              "<style scoped>\n",
              "    .dataframe tbody tr th:only-of-type {\n",
              "        vertical-align: middle;\n",
              "    }\n",
              "\n",
              "    .dataframe tbody tr th {\n",
              "        vertical-align: top;\n",
              "    }\n",
              "\n",
              "    .dataframe thead th {\n",
              "        text-align: right;\n",
              "    }\n",
              "</style>\n",
              "<table border=\"1\" class=\"dataframe\">\n",
              "  <thead>\n",
              "    <tr style=\"text-align: right;\">\n",
              "      <th></th>\n",
              "      <th>model</th>\n",
              "      <th>accuracy</th>\n",
              "      <th>precision</th>\n",
              "      <th>recall</th>\n",
              "      <th>f1</th>\n",
              "    </tr>\n",
              "  </thead>\n",
              "  <tbody>\n",
              "    <tr>\n",
              "      <th>0</th>\n",
              "      <td>KNN</td>\n",
              "      <td>0.999403</td>\n",
              "      <td>0.880952</td>\n",
              "      <td>0.755102</td>\n",
              "      <td>0.813187</td>\n",
              "    </tr>\n",
              "    <tr>\n",
              "      <th>1</th>\n",
              "      <td>Naive Bayes</td>\n",
              "      <td>0.995453</td>\n",
              "      <td>0.255319</td>\n",
              "      <td>0.857143</td>\n",
              "      <td>0.393443</td>\n",
              "    </tr>\n",
              "    <tr>\n",
              "      <th>2</th>\n",
              "      <td>Decision Tree</td>\n",
              "      <td>0.999298</td>\n",
              "      <td>0.778846</td>\n",
              "      <td>0.826531</td>\n",
              "      <td>0.801980</td>\n",
              "    </tr>\n",
              "    <tr>\n",
              "      <th>3</th>\n",
              "      <td>Random Forest</td>\n",
              "      <td>0.999508</td>\n",
              "      <td>0.850000</td>\n",
              "      <td>0.867347</td>\n",
              "      <td>0.858586</td>\n",
              "    </tr>\n",
              "    <tr>\n",
              "      <th>4</th>\n",
              "      <td>Voting Classifier (Hard)</td>\n",
              "      <td>0.999438</td>\n",
              "      <td>0.836735</td>\n",
              "      <td>0.836735</td>\n",
              "      <td>0.836735</td>\n",
              "    </tr>\n",
              "  </tbody>\n",
              "</table>\n",
              "</div>\n",
              "      <button class=\"colab-df-convert\" onclick=\"convertToInteractive('df-32de8e5c-0a5a-4f89-b184-5e9f1b318a66')\"\n",
              "              title=\"Convert this dataframe to an interactive table.\"\n",
              "              style=\"display:none;\">\n",
              "        \n",
              "  <svg xmlns=\"http://www.w3.org/2000/svg\" height=\"24px\"viewBox=\"0 0 24 24\"\n",
              "       width=\"24px\">\n",
              "    <path d=\"M0 0h24v24H0V0z\" fill=\"none\"/>\n",
              "    <path d=\"M18.56 5.44l.94 2.06.94-2.06 2.06-.94-2.06-.94-.94-2.06-.94 2.06-2.06.94zm-11 1L8.5 8.5l.94-2.06 2.06-.94-2.06-.94L8.5 2.5l-.94 2.06-2.06.94zm10 10l.94 2.06.94-2.06 2.06-.94-2.06-.94-.94-2.06-.94 2.06-2.06.94z\"/><path d=\"M17.41 7.96l-1.37-1.37c-.4-.4-.92-.59-1.43-.59-.52 0-1.04.2-1.43.59L10.3 9.45l-7.72 7.72c-.78.78-.78 2.05 0 2.83L4 21.41c.39.39.9.59 1.41.59.51 0 1.02-.2 1.41-.59l7.78-7.78 2.81-2.81c.8-.78.8-2.07 0-2.86zM5.41 20L4 18.59l7.72-7.72 1.47 1.35L5.41 20z\"/>\n",
              "  </svg>\n",
              "      </button>\n",
              "      \n",
              "  <style>\n",
              "    .colab-df-container {\n",
              "      display:flex;\n",
              "      flex-wrap:wrap;\n",
              "      gap: 12px;\n",
              "    }\n",
              "\n",
              "    .colab-df-convert {\n",
              "      background-color: #E8F0FE;\n",
              "      border: none;\n",
              "      border-radius: 50%;\n",
              "      cursor: pointer;\n",
              "      display: none;\n",
              "      fill: #1967D2;\n",
              "      height: 32px;\n",
              "      padding: 0 0 0 0;\n",
              "      width: 32px;\n",
              "    }\n",
              "\n",
              "    .colab-df-convert:hover {\n",
              "      background-color: #E2EBFA;\n",
              "      box-shadow: 0px 1px 2px rgba(60, 64, 67, 0.3), 0px 1px 3px 1px rgba(60, 64, 67, 0.15);\n",
              "      fill: #174EA6;\n",
              "    }\n",
              "\n",
              "    [theme=dark] .colab-df-convert {\n",
              "      background-color: #3B4455;\n",
              "      fill: #D2E3FC;\n",
              "    }\n",
              "\n",
              "    [theme=dark] .colab-df-convert:hover {\n",
              "      background-color: #434B5C;\n",
              "      box-shadow: 0px 1px 3px 1px rgba(0, 0, 0, 0.15);\n",
              "      filter: drop-shadow(0px 1px 2px rgba(0, 0, 0, 0.3));\n",
              "      fill: #FFFFFF;\n",
              "    }\n",
              "  </style>\n",
              "\n",
              "      <script>\n",
              "        const buttonEl =\n",
              "          document.querySelector('#df-32de8e5c-0a5a-4f89-b184-5e9f1b318a66 button.colab-df-convert');\n",
              "        buttonEl.style.display =\n",
              "          google.colab.kernel.accessAllowed ? 'block' : 'none';\n",
              "\n",
              "        async function convertToInteractive(key) {\n",
              "          const element = document.querySelector('#df-32de8e5c-0a5a-4f89-b184-5e9f1b318a66');\n",
              "          const dataTable =\n",
              "            await google.colab.kernel.invokeFunction('convertToInteractive',\n",
              "                                                     [key], {});\n",
              "          if (!dataTable) return;\n",
              "\n",
              "          const docLinkHtml = 'Like what you see? Visit the ' +\n",
              "            '<a target=\"_blank\" href=https://colab.research.google.com/notebooks/data_table.ipynb>data table notebook</a>'\n",
              "            + ' to learn more about interactive tables.';\n",
              "          element.innerHTML = '';\n",
              "          dataTable['output_type'] = 'display_data';\n",
              "          await google.colab.output.renderOutput(dataTable, element);\n",
              "          const docLink = document.createElement('div');\n",
              "          docLink.innerHTML = docLinkHtml;\n",
              "          element.appendChild(docLink);\n",
              "        }\n",
              "      </script>\n",
              "    </div>\n",
              "  </div>\n",
              "  "
            ]
          },
          "metadata": {},
          "execution_count": 68
        },
        {
          "output_type": "stream",
          "name": "stdout",
          "text": [
            "time: 16.9 ms (started: 2022-05-09 14:14:10 +00:00)\n"
          ]
        }
      ],
      "source": [
        "model_scores = [\n",
        "                knn_scores,\n",
        "                naive_bayes_scores, \n",
        "                Decision_Tree_scores, \n",
        "                Random_Forest_scores,\n",
        "                voting_clf_scores\n",
        "                ]\n",
        "\n",
        "df = pd.DataFrame(model_scores)\n",
        "df"
      ]
    },
    {
      "cell_type": "code",
      "source": [
        "from sklearn.metrics import confusion_matrix, ConfusionMatrixDisplay\n",
        "\n",
        "\n",
        "disp = ConfusionMatrixDisplay(\n",
        "    confusion_matrix=confusion_matrix(y_test, knn_preds, labels=knn_pipe.classes_),\n",
        "    display_labels=knn_pipe.classes_\n",
        "    )\n",
        "disp.plot()\n",
        "plt.title(\"KNN Test Data Confusion Matrix\")\n",
        "plt.show()"
      ],
      "metadata": {
        "colab": {
          "base_uri": "https://localhost:8080/",
          "height": 313
        },
        "id": "VfrM_Pi6buef",
        "outputId": "182ae951-e8e5-4e45-e754-fdbea811705b"
      },
      "execution_count": null,
      "outputs": [
        {
          "output_type": "display_data",
          "data": {
            "text/plain": [
              "<Figure size 432x288 with 2 Axes>"
            ],
            "image/png": "[encoded data removed]"
          },
          "metadata": {
            "needs_background": "light"
          }
        },
        {
          "output_type": "stream",
          "name": "stdout",
          "text": [
            "time: 315 ms (started: 2022-05-10 00:52:06 +00:00)\n"
          ]
        }
      ]
    },
    {
      "cell_type": "code",
      "source": [
        "disp = ConfusionMatrixDisplay(\n",
        "    confusion_matrix=confusion_matrix(y_test, naive_preds, labels=naive_bayes_pipe.classes_),\n",
        "    display_labels=naive_bayes_pipe.classes_\n",
        "    )\n",
        "disp.plot()\n",
        "plt.title(\"Naive Bayes Test Data Confusion Matrix\")\n",
        "plt.show()"
      ],
      "metadata": {
        "colab": {
          "base_uri": "https://localhost:8080/",
          "height": 313
        },
        "id": "qbrv9B1OcGTO",
        "outputId": "6ff81e38-0aa0-4c96-da52-938b55c2dca1"
      },
      "execution_count": null,
      "outputs": [
        {
          "output_type": "display_data",
          "data": {
            "text/plain": [
              "<Figure size 432x288 with 2 Axes>"
            ],
            "image/png": "[encoded data removed]"
          },
          "metadata": {
            "needs_background": "light"
          }
        },
        {
          "output_type": "stream",
          "name": "stdout",
          "text": [
            "time: 320 ms (started: 2022-05-10 01:00:01 +00:00)\n"
          ]
        }
      ]
    },
    {
      "cell_type": "code",
      "source": [
        "disp = ConfusionMatrixDisplay(\n",
        "    confusion_matrix=confusion_matrix(y_test, dt_pipe_preds, labels=dt_pipe.classes_),\n",
        "    display_labels=dt_pipe.classes_\n",
        "    )\n",
        "disp.plot()\n",
        "plt.title(\"Decision Tree Test Data Confusion Matrix\")\n",
        "plt.show()"
      ],
      "metadata": {
        "colab": {
          "base_uri": "https://localhost:8080/",
          "height": 313
        },
        "id": "BacZA79udgao",
        "outputId": "d61bf72f-3b49-4196-f91d-0bb803e071df"
      },
      "execution_count": null,
      "outputs": [
        {
          "output_type": "display_data",
          "data": {
            "text/plain": [
              "<Figure size 432x288 with 2 Axes>"
            ],
            "image/png": "[encoded data removed]"
          },
          "metadata": {
            "needs_background": "light"
          }
        },
        {
          "output_type": "stream",
          "name": "stdout",
          "text": [
            "time: 302 ms (started: 2022-05-10 00:55:19 +00:00)\n"
          ]
        }
      ]
    },
    {
      "cell_type": "code",
      "source": [
        "disp = ConfusionMatrixDisplay(\n",
        "    confusion_matrix=confusion_matrix(y_test, random_forest_preds, labels=rf_pipe.classes_),\n",
        "    display_labels=rf_pipe.classes_\n",
        "    )\n",
        "disp.plot()\n",
        "plt.title(\"Random Forest Test Data Confusion Matrix\")\n",
        "plt.show()"
      ],
      "metadata": {
        "colab": {
          "base_uri": "https://localhost:8080/",
          "height": 313
        },
        "id": "J9ZxF_Amdqvw",
        "outputId": "5524a6bb-0fe5-4d22-be9f-25d9a029ed3b"
      },
      "execution_count": null,
      "outputs": [
        {
          "output_type": "display_data",
          "data": {
            "text/plain": [
              "<Figure size 432x288 with 2 Axes>"
            ],
            "image/png": "[encoded data removed]"
          },
          "metadata": {
            "needs_background": "light"
          }
        },
        {
          "output_type": "stream",
          "name": "stdout",
          "text": [
            "time: 193 ms (started: 2022-05-10 00:56:02 +00:00)\n"
          ]
        }
      ]
    },
    {
      "cell_type": "code",
      "source": [
        "disp = ConfusionMatrixDisplay(\n",
        "    confusion_matrix=confusion_matrix(y_test, voting_clf_preds, labels=voting_clf_pipe.classes_),\n",
        "    display_labels=voting_clf_pipe.classes_\n",
        "    )\n",
        "disp.plot()\n",
        "plt.title(\"Voting Ensemble Test Data Confusion Matrix\")\n",
        "plt.show()"
      ],
      "metadata": {
        "colab": {
          "base_uri": "https://localhost:8080/",
          "height": 313
        },
        "id": "8tFplmZ2d1q2",
        "outputId": "b8d5784a-31f8-4aa9-8acd-bb99ad0097e1"
      },
      "execution_count": null,
      "outputs": [
        {
          "output_type": "display_data",
          "data": {
            "text/plain": [
              "<Figure size 432x288 with 2 Axes>"
            ],
            "image/png": "[encoded data removed]"
          },
          "metadata": {
            "needs_background": "light"
          }
        },
        {
          "output_type": "stream",
          "name": "stdout",
          "text": [
            "time: 305 ms (started: 2022-05-10 01:03:11 +00:00)\n"
          ]
        }
      ]
    }
  ],
  "metadata": {
    "colab": {
      "collapsed_sections": [
        "WMJzomx1WpD6",
        "rWMD7o4jlZs0",
        "lSs4yyV3pa4G",
        "VT6QnAGMpfi2"
      ],
      "name": "CISC_5790_Data_Mining_Project.ipynb",
      "provenance": [],
      "toc_visible": true,
      "include_colab_link": true
    },
    "kernelspec": {
      "display_name": "Python 3",
      "name": "python3"
    },
    "language_info": {
      "name": "python"
    }
  },
  "nbformat": 4,
  "nbformat_minor": 0
}